{
  "nbformat": 4,
  "nbformat_minor": 0,
  "metadata": {
    "colab": {
      "provenance": [],
      "include_colab_link": true
    },
    "kernelspec": {
      "name": "python3",
      "display_name": "Python 3"
    },
    "language_info": {
      "name": "python"
    }
  },
  "cells": [
    {
      "cell_type": "markdown",
      "metadata": {
        "id": "view-in-github",
        "colab_type": "text"
      },
      "source": [
        "<a href=\"https://colab.research.google.com/github/KUNAL-MAURYA1470/ML/blob/main/200090107084_200090107043_ML.ipynb\" target=\"_parent\"><img src=\"https://colab.research.google.com/assets/colab-badge.svg\" alt=\"Open In Colab\"/></a>"
      ]
    },
    {
      "cell_type": "markdown",
      "source": [
        "<center>\n",
        "<td><img src=\"https://navyugtrust.org/img/icons/trust_logo.png\" width=100 height=100>\n",
        "<td><img src=\"https://ckpcet.ac.in/img/logo.svg\"\n",
        "alt=\"CKPCET\" width=100 height=100><br>\n",
        "C.K.Pithawala College of Engineering and Technology, Surat<br>\n",
        "Div. : A<br>\n",
        "Subject : Machine Learning<br>\n",
        "Subject Code : 3170724<br>\n",
        "1.Name:KUNAL MAURYA  Enrollment: 200090107084 <br>\n",
        "2.Name:KALASH THAKKAR Enrollment: 200090107043 <br>\n",
        "Data Set : Heart Failure Prediction Dataset <br>\n",
        "Data Set Link :https://www.kaggle.com/datasets/fedesoriano/heart-failure-prediction/data<br>\n",
        "Academic Year : 2022-2023<br>\n",
        "Subject Faculty : Dr. Ami Tusharkant Choksi<br>\n",
        "\n",
        "https://www.kaggle.com/datasets/fedesoriano/heart-failure-prediction/data</center>"
      ],
      "metadata": {
        "id": "tsRFffqx3wVq"
      }
    },
    {
      "cell_type": "code",
      "source": [
        "import pandas as pd\n",
        "import numpy as np\n",
        "import matplotlib.pyplot as plt\n",
        "%matplotlib inline\n",
        "import seaborn as sns\n",
        "pd.options.display.float_format = '{:.2f}'.format\n",
        "import warnings\n",
        "warnings.filterwarnings('ignore')"
      ],
      "metadata": {
        "id": "U3N-OdWOKk-0"
      },
      "execution_count": null,
      "outputs": []
    },
    {
      "cell_type": "code",
      "source": [
        "df = pd.read_csv('/content/heart.csv')\n",
        "df.head()"
      ],
      "metadata": {
        "colab": {
          "base_uri": "https://localhost:8080/",
          "height": 206
        },
        "id": "CDSCr6bFKmcU",
        "outputId": "25212ed7-a967-4215-bc28-22de680a627d"
      },
      "execution_count": null,
      "outputs": [
        {
          "output_type": "execute_result",
          "data": {
            "text/plain": [
              "   Age Sex ChestPainType  RestingBP  Cholesterol  FastingBS RestingECG  MaxHR  \\\n",
              "0   40   M           ATA        140          289          0     Normal    172   \n",
              "1   49   F           NAP        160          180          0     Normal    156   \n",
              "2   37   M           ATA        130          283          0         ST     98   \n",
              "3   48   F           ASY        138          214          0     Normal    108   \n",
              "4   54   M           NAP        150          195          0     Normal    122   \n",
              "\n",
              "  ExerciseAngina  Oldpeak ST_Slope  HeartDisease  \n",
              "0              N     0.00       Up             0  \n",
              "1              N     1.00     Flat             1  \n",
              "2              N     0.00       Up             0  \n",
              "3              Y     1.50     Flat             1  \n",
              "4              N     0.00       Up             0  "
            ],
            "text/html": [
              "\n",
              "  <div id=\"df-26fcdc9d-1e37-4cad-9742-ff6cf24ec82c\" class=\"colab-df-container\">\n",
              "    <div>\n",
              "<style scoped>\n",
              "    .dataframe tbody tr th:only-of-type {\n",
              "        vertical-align: middle;\n",
              "    }\n",
              "\n",
              "    .dataframe tbody tr th {\n",
              "        vertical-align: top;\n",
              "    }\n",
              "\n",
              "    .dataframe thead th {\n",
              "        text-align: right;\n",
              "    }\n",
              "</style>\n",
              "<table border=\"1\" class=\"dataframe\">\n",
              "  <thead>\n",
              "    <tr style=\"text-align: right;\">\n",
              "      <th></th>\n",
              "      <th>Age</th>\n",
              "      <th>Sex</th>\n",
              "      <th>ChestPainType</th>\n",
              "      <th>RestingBP</th>\n",
              "      <th>Cholesterol</th>\n",
              "      <th>FastingBS</th>\n",
              "      <th>RestingECG</th>\n",
              "      <th>MaxHR</th>\n",
              "      <th>ExerciseAngina</th>\n",
              "      <th>Oldpeak</th>\n",
              "      <th>ST_Slope</th>\n",
              "      <th>HeartDisease</th>\n",
              "    </tr>\n",
              "  </thead>\n",
              "  <tbody>\n",
              "    <tr>\n",
              "      <th>0</th>\n",
              "      <td>40</td>\n",
              "      <td>M</td>\n",
              "      <td>ATA</td>\n",
              "      <td>140</td>\n",
              "      <td>289</td>\n",
              "      <td>0</td>\n",
              "      <td>Normal</td>\n",
              "      <td>172</td>\n",
              "      <td>N</td>\n",
              "      <td>0.00</td>\n",
              "      <td>Up</td>\n",
              "      <td>0</td>\n",
              "    </tr>\n",
              "    <tr>\n",
              "      <th>1</th>\n",
              "      <td>49</td>\n",
              "      <td>F</td>\n",
              "      <td>NAP</td>\n",
              "      <td>160</td>\n",
              "      <td>180</td>\n",
              "      <td>0</td>\n",
              "      <td>Normal</td>\n",
              "      <td>156</td>\n",
              "      <td>N</td>\n",
              "      <td>1.00</td>\n",
              "      <td>Flat</td>\n",
              "      <td>1</td>\n",
              "    </tr>\n",
              "    <tr>\n",
              "      <th>2</th>\n",
              "      <td>37</td>\n",
              "      <td>M</td>\n",
              "      <td>ATA</td>\n",
              "      <td>130</td>\n",
              "      <td>283</td>\n",
              "      <td>0</td>\n",
              "      <td>ST</td>\n",
              "      <td>98</td>\n",
              "      <td>N</td>\n",
              "      <td>0.00</td>\n",
              "      <td>Up</td>\n",
              "      <td>0</td>\n",
              "    </tr>\n",
              "    <tr>\n",
              "      <th>3</th>\n",
              "      <td>48</td>\n",
              "      <td>F</td>\n",
              "      <td>ASY</td>\n",
              "      <td>138</td>\n",
              "      <td>214</td>\n",
              "      <td>0</td>\n",
              "      <td>Normal</td>\n",
              "      <td>108</td>\n",
              "      <td>Y</td>\n",
              "      <td>1.50</td>\n",
              "      <td>Flat</td>\n",
              "      <td>1</td>\n",
              "    </tr>\n",
              "    <tr>\n",
              "      <th>4</th>\n",
              "      <td>54</td>\n",
              "      <td>M</td>\n",
              "      <td>NAP</td>\n",
              "      <td>150</td>\n",
              "      <td>195</td>\n",
              "      <td>0</td>\n",
              "      <td>Normal</td>\n",
              "      <td>122</td>\n",
              "      <td>N</td>\n",
              "      <td>0.00</td>\n",
              "      <td>Up</td>\n",
              "      <td>0</td>\n",
              "    </tr>\n",
              "  </tbody>\n",
              "</table>\n",
              "</div>\n",
              "    <div class=\"colab-df-buttons\">\n",
              "\n",
              "  <div class=\"colab-df-container\">\n",
              "    <button class=\"colab-df-convert\" onclick=\"convertToInteractive('df-26fcdc9d-1e37-4cad-9742-ff6cf24ec82c')\"\n",
              "            title=\"Convert this dataframe to an interactive table.\"\n",
              "            style=\"display:none;\">\n",
              "\n",
              "  <svg xmlns=\"http://www.w3.org/2000/svg\" height=\"24px\" viewBox=\"0 -960 960 960\">\n",
              "    <path d=\"M120-120v-720h720v720H120Zm60-500h600v-160H180v160Zm220 220h160v-160H400v160Zm0 220h160v-160H400v160ZM180-400h160v-160H180v160Zm440 0h160v-160H620v160ZM180-180h160v-160H180v160Zm440 0h160v-160H620v160Z\"/>\n",
              "  </svg>\n",
              "    </button>\n",
              "\n",
              "  <style>\n",
              "    .colab-df-container {\n",
              "      display:flex;\n",
              "      gap: 12px;\n",
              "    }\n",
              "\n",
              "    .colab-df-convert {\n",
              "      background-color: #E8F0FE;\n",
              "      border: none;\n",
              "      border-radius: 50%;\n",
              "      cursor: pointer;\n",
              "      display: none;\n",
              "      fill: #1967D2;\n",
              "      height: 32px;\n",
              "      padding: 0 0 0 0;\n",
              "      width: 32px;\n",
              "    }\n",
              "\n",
              "    .colab-df-convert:hover {\n",
              "      background-color: #E2EBFA;\n",
              "      box-shadow: 0px 1px 2px rgba(60, 64, 67, 0.3), 0px 1px 3px 1px rgba(60, 64, 67, 0.15);\n",
              "      fill: #174EA6;\n",
              "    }\n",
              "\n",
              "    .colab-df-buttons div {\n",
              "      margin-bottom: 4px;\n",
              "    }\n",
              "\n",
              "    [theme=dark] .colab-df-convert {\n",
              "      background-color: #3B4455;\n",
              "      fill: #D2E3FC;\n",
              "    }\n",
              "\n",
              "    [theme=dark] .colab-df-convert:hover {\n",
              "      background-color: #434B5C;\n",
              "      box-shadow: 0px 1px 3px 1px rgba(0, 0, 0, 0.15);\n",
              "      filter: drop-shadow(0px 1px 2px rgba(0, 0, 0, 0.3));\n",
              "      fill: #FFFFFF;\n",
              "    }\n",
              "  </style>\n",
              "\n",
              "    <script>\n",
              "      const buttonEl =\n",
              "        document.querySelector('#df-26fcdc9d-1e37-4cad-9742-ff6cf24ec82c button.colab-df-convert');\n",
              "      buttonEl.style.display =\n",
              "        google.colab.kernel.accessAllowed ? 'block' : 'none';\n",
              "\n",
              "      async function convertToInteractive(key) {\n",
              "        const element = document.querySelector('#df-26fcdc9d-1e37-4cad-9742-ff6cf24ec82c');\n",
              "        const dataTable =\n",
              "          await google.colab.kernel.invokeFunction('convertToInteractive',\n",
              "                                                    [key], {});\n",
              "        if (!dataTable) return;\n",
              "\n",
              "        const docLinkHtml = 'Like what you see? Visit the ' +\n",
              "          '<a target=\"_blank\" href=https://colab.research.google.com/notebooks/data_table.ipynb>data table notebook</a>'\n",
              "          + ' to learn more about interactive tables.';\n",
              "        element.innerHTML = '';\n",
              "        dataTable['output_type'] = 'display_data';\n",
              "        await google.colab.output.renderOutput(dataTable, element);\n",
              "        const docLink = document.createElement('div');\n",
              "        docLink.innerHTML = docLinkHtml;\n",
              "        element.appendChild(docLink);\n",
              "      }\n",
              "    </script>\n",
              "  </div>\n",
              "\n",
              "\n",
              "<div id=\"df-7e30a38a-86d3-4823-8d2a-ae8558acba10\">\n",
              "  <button class=\"colab-df-quickchart\" onclick=\"quickchart('df-7e30a38a-86d3-4823-8d2a-ae8558acba10')\"\n",
              "            title=\"Suggest charts.\"\n",
              "            style=\"display:none;\">\n",
              "\n",
              "<svg xmlns=\"http://www.w3.org/2000/svg\" height=\"24px\"viewBox=\"0 0 24 24\"\n",
              "     width=\"24px\">\n",
              "    <g>\n",
              "        <path d=\"M19 3H5c-1.1 0-2 .9-2 2v14c0 1.1.9 2 2 2h14c1.1 0 2-.9 2-2V5c0-1.1-.9-2-2-2zM9 17H7v-7h2v7zm4 0h-2V7h2v10zm4 0h-2v-4h2v4z\"/>\n",
              "    </g>\n",
              "</svg>\n",
              "  </button>\n",
              "\n",
              "<style>\n",
              "  .colab-df-quickchart {\n",
              "      --bg-color: #E8F0FE;\n",
              "      --fill-color: #1967D2;\n",
              "      --hover-bg-color: #E2EBFA;\n",
              "      --hover-fill-color: #174EA6;\n",
              "      --disabled-fill-color: #AAA;\n",
              "      --disabled-bg-color: #DDD;\n",
              "  }\n",
              "\n",
              "  [theme=dark] .colab-df-quickchart {\n",
              "      --bg-color: #3B4455;\n",
              "      --fill-color: #D2E3FC;\n",
              "      --hover-bg-color: #434B5C;\n",
              "      --hover-fill-color: #FFFFFF;\n",
              "      --disabled-bg-color: #3B4455;\n",
              "      --disabled-fill-color: #666;\n",
              "  }\n",
              "\n",
              "  .colab-df-quickchart {\n",
              "    background-color: var(--bg-color);\n",
              "    border: none;\n",
              "    border-radius: 50%;\n",
              "    cursor: pointer;\n",
              "    display: none;\n",
              "    fill: var(--fill-color);\n",
              "    height: 32px;\n",
              "    padding: 0;\n",
              "    width: 32px;\n",
              "  }\n",
              "\n",
              "  .colab-df-quickchart:hover {\n",
              "    background-color: var(--hover-bg-color);\n",
              "    box-shadow: 0 1px 2px rgba(60, 64, 67, 0.3), 0 1px 3px 1px rgba(60, 64, 67, 0.15);\n",
              "    fill: var(--button-hover-fill-color);\n",
              "  }\n",
              "\n",
              "  .colab-df-quickchart-complete:disabled,\n",
              "  .colab-df-quickchart-complete:disabled:hover {\n",
              "    background-color: var(--disabled-bg-color);\n",
              "    fill: var(--disabled-fill-color);\n",
              "    box-shadow: none;\n",
              "  }\n",
              "\n",
              "  .colab-df-spinner {\n",
              "    border: 2px solid var(--fill-color);\n",
              "    border-color: transparent;\n",
              "    border-bottom-color: var(--fill-color);\n",
              "    animation:\n",
              "      spin 1s steps(1) infinite;\n",
              "  }\n",
              "\n",
              "  @keyframes spin {\n",
              "    0% {\n",
              "      border-color: transparent;\n",
              "      border-bottom-color: var(--fill-color);\n",
              "      border-left-color: var(--fill-color);\n",
              "    }\n",
              "    20% {\n",
              "      border-color: transparent;\n",
              "      border-left-color: var(--fill-color);\n",
              "      border-top-color: var(--fill-color);\n",
              "    }\n",
              "    30% {\n",
              "      border-color: transparent;\n",
              "      border-left-color: var(--fill-color);\n",
              "      border-top-color: var(--fill-color);\n",
              "      border-right-color: var(--fill-color);\n",
              "    }\n",
              "    40% {\n",
              "      border-color: transparent;\n",
              "      border-right-color: var(--fill-color);\n",
              "      border-top-color: var(--fill-color);\n",
              "    }\n",
              "    60% {\n",
              "      border-color: transparent;\n",
              "      border-right-color: var(--fill-color);\n",
              "    }\n",
              "    80% {\n",
              "      border-color: transparent;\n",
              "      border-right-color: var(--fill-color);\n",
              "      border-bottom-color: var(--fill-color);\n",
              "    }\n",
              "    90% {\n",
              "      border-color: transparent;\n",
              "      border-bottom-color: var(--fill-color);\n",
              "    }\n",
              "  }\n",
              "</style>\n",
              "\n",
              "  <script>\n",
              "    async function quickchart(key) {\n",
              "      const quickchartButtonEl =\n",
              "        document.querySelector('#' + key + ' button');\n",
              "      quickchartButtonEl.disabled = true;  // To prevent multiple clicks.\n",
              "      quickchartButtonEl.classList.add('colab-df-spinner');\n",
              "      try {\n",
              "        const charts = await google.colab.kernel.invokeFunction(\n",
              "            'suggestCharts', [key], {});\n",
              "      } catch (error) {\n",
              "        console.error('Error during call to suggestCharts:', error);\n",
              "      }\n",
              "      quickchartButtonEl.classList.remove('colab-df-spinner');\n",
              "      quickchartButtonEl.classList.add('colab-df-quickchart-complete');\n",
              "    }\n",
              "    (() => {\n",
              "      let quickchartButtonEl =\n",
              "        document.querySelector('#df-7e30a38a-86d3-4823-8d2a-ae8558acba10 button');\n",
              "      quickchartButtonEl.style.display =\n",
              "        google.colab.kernel.accessAllowed ? 'block' : 'none';\n",
              "    })();\n",
              "  </script>\n",
              "</div>\n",
              "    </div>\n",
              "  </div>\n"
            ]
          },
          "metadata": {},
          "execution_count": 2
        }
      ]
    },
    {
      "cell_type": "code",
      "source": [
        "categorical_feature = df.dtypes==object\n",
        "final_categorical_feature = df.columns[categorical_feature].tolist()\n",
        "# ---------------------------------------------------------\n",
        "final_numeric_feature = ['Age', 'RestingBP', 'Cholesterol', 'MaxHR', 'Oldpeak']"
      ],
      "metadata": {
        "id": "hLFEVGB-OSDT"
      },
      "execution_count": null,
      "outputs": []
    },
    {
      "cell_type": "markdown",
      "source": [
        "<h3><u><B>CO-1. ASSIGNMENT\n"
      ],
      "metadata": {
        "id": "CT9Th5uHDxAG"
      }
    },
    {
      "cell_type": "markdown",
      "source": [
        "<b>1.</b>Implement the techniques to deal with outliers."
      ],
      "metadata": {
        "id": "KGrMbNHTEFWM"
      }
    },
    {
      "cell_type": "code",
      "source": [
        "def outlier_detect(df, col):\n",
        "    q1_col = Q1[col]\n",
        "    iqr_col = IQR[col]\n",
        "    q3_col = Q3[col]\n",
        "    return df[((df[col] < (q1_col - 1.5 * iqr_col)) |(df[col] > (q3_col + 1.5 * iqr_col)))]\n",
        "\n",
        "# ---------------------------------------------------------\n",
        "def outlier_detect_normal(df, col):\n",
        "    m = df[col].mean()\n",
        "    s = df[col].std()\n",
        "    return df[((df[col]-m)/s).abs()>3]\n",
        "\n",
        "# ---------------------------------------------------------\n",
        "def lower_outlier(df, col):\n",
        "    q1_col = Q1[col]\n",
        "    iqr_col = IQR[col]\n",
        "    q3_col = Q3[col]\n",
        "    lower = df[(df[col] < (q1_col - 1.5 * iqr_col))]\n",
        "    return lower\n",
        "\n",
        "# ---------------------------------------------------------\n",
        "def upper_outlier(df, col):\n",
        "    q1_col = Q1[col]\n",
        "    iqr_col = IQR[col]\n",
        "    q3_col = Q3[col]\n",
        "    upper = df[(df[col] > (q3_col + 1.5 * iqr_col))]\n",
        "    return upper\n",
        "\n",
        "# ---------------------------------------------------------\n",
        "def replace_upper(df, col):\n",
        "    q1_col = Q1[col]\n",
        "    iqr_col = IQR[col]\n",
        "    q3_col = Q3[col]\n",
        "    tmp = 9999999\n",
        "    upper = q3_col + 1.5 * iqr_col\n",
        "    df[col] = df[col].where(lambda x: (x < (upper)), tmp)\n",
        "    df[col] = df[col].replace(tmp, upper)\n",
        "    print('outlier replace with upper bound - {}' .format(col))\n",
        "\n",
        "# ---------------------------------------------------------\n",
        "def replace_lower(df, col):\n",
        "    q1_col = Q1[col]\n",
        "    iqr_col = IQR[col]\n",
        "    q3_col = Q3[col]\n",
        "    tmp = 1111111\n",
        "    lower = q1_col - 1.5 * iqr_col\n",
        "    df[col] = df[col].where(lambda x: (x > (lower)), tmp)\n",
        "    df[col] = df[col].replace(tmp, lower)\n",
        "    print('outlier replace with lower bound - {}' .format(col))\n",
        "\n",
        "# ---------------------------------------------------------\n",
        "def preprocess(df, col):\n",
        "    print(\"*********************** {} ***********************\\n\".format(col))\n",
        "    print(\"lower outlier: {} ****** upper outlier: {}\\n\".format(lower_outlier(df,col).shape[0], upper_outlier(df,col).shape[0]))\n",
        "    plt.figure(figsize=(10,8))\n",
        "    plt.subplot(2,1,1)\n",
        "    df[col].plot(kind='box', subplots=True, sharex=False, vert=False)\n",
        "    plt.subplot(2,1,2)\n",
        "    df[col].plot(kind='density', subplots=True, sharex=False)\n",
        "    plt.show()"
      ],
      "metadata": {
        "id": "lhXWb58eJu4o"
      },
      "execution_count": null,
      "outputs": []
    },
    {
      "cell_type": "code",
      "source": [
        "Q1 = df.quantile(0.25)\n",
        "Q3 = df.quantile(0.75)\n",
        "IQR = Q3 - Q1"
      ],
      "metadata": {
        "id": "XGrumLZIL5Hs"
      },
      "execution_count": null,
      "outputs": []
    },
    {
      "cell_type": "code",
      "source": [
        "for i in range(len(final_numeric_feature)):\n",
        "    print(\"IQR => {}: {}\".format(final_numeric_feature[i],(outlier_detect(df[final_numeric_feature],final_numeric_feature[i]).shape[0])))\n",
        "    print(\"Z_Score => {}: {}\".format(final_numeric_feature[i],(outlier_detect_normal(df[final_numeric_feature],final_numeric_feature[i]).shape[0])))\n",
        "    print(\"********************************\")"
      ],
      "metadata": {
        "colab": {
          "base_uri": "https://localhost:8080/"
        },
        "id": "HK6jL4trNk7v",
        "outputId": "e65c2d1f-9eee-4f84-bece-1a3b5bf53d03"
      },
      "execution_count": null,
      "outputs": [
        {
          "output_type": "stream",
          "name": "stdout",
          "text": [
            "IQR => Age: 0\n",
            "Z_Score => Age: 0\n",
            "********************************\n",
            "IQR => RestingBP: 28\n",
            "Z_Score => RestingBP: 8\n",
            "********************************\n",
            "IQR => Cholesterol: 183\n",
            "Z_Score => Cholesterol: 3\n",
            "********************************\n",
            "IQR => MaxHR: 2\n",
            "Z_Score => MaxHR: 1\n",
            "********************************\n",
            "IQR => Oldpeak: 16\n",
            "Z_Score => Oldpeak: 7\n",
            "********************************\n"
          ]
        }
      ]
    },
    {
      "cell_type": "code",
      "source": [
        "for i in range(len(final_numeric_feature)):\n",
        "    preprocess(df[final_numeric_feature], final_numeric_feature[i])"
      ],
      "metadata": {
        "colab": {
          "base_uri": "https://localhost:8080/",
          "height": 1000
        },
        "id": "Tk1OTW5yOden",
        "outputId": "2d603a96-8446-486c-b64a-8103c6580391"
      },
      "execution_count": null,
      "outputs": [
        {
          "output_type": "stream",
          "name": "stdout",
          "text": [
            "*********************** Age ***********************\n",
            "\n",
            "lower outlier: 0 ****** upper outlier: 0\n",
            "\n"
          ]
        },
        {
          "output_type": "display_data",
          "data": {
            "text/plain": [
              "<Figure size 1000x800 with 2 Axes>"
            ],
            "image/png": "[encoded data removed]"
          },
          "metadata": {}
        },
        {
          "output_type": "stream",
          "name": "stdout",
          "text": [
            "*********************** RestingBP ***********************\n",
            "\n",
            "lower outlier: 2 ****** upper outlier: 26\n",
            "\n"
          ]
        },
        {
          "output_type": "display_data",
          "data": {
            "text/plain": [
              "<Figure size 1000x800 with 2 Axes>"
            ],
            "image/png": "[encoded data removed]"
          },
          "metadata": {}
        },
        {
          "output_type": "stream",
          "name": "stdout",
          "text": [
            "*********************** Cholesterol ***********************\n",
            "\n",
            "lower outlier: 172 ****** upper outlier: 11\n",
            "\n"
          ]
        },
        {
          "output_type": "display_data",
          "data": {
            "text/plain": [
              "<Figure size 1000x800 with 2 Axes>"
            ],
            "image/png": "[encoded data removed]"
          },
          "metadata": {}
        },
        {
          "output_type": "stream",
          "name": "stdout",
          "text": [
            "*********************** MaxHR ***********************\n",
            "\n",
            "lower outlier: 2 ****** upper outlier: 0\n",
            "\n"
          ]
        },
        {
          "output_type": "display_data",
          "data": {
            "text/plain": [
              "<Figure size 1000x800 with 2 Axes>"
            ],
            "image/png": "[encoded data removed]"
          },
          "metadata": {}
        },
        {
          "output_type": "stream",
          "name": "stdout",
          "text": [
            "*********************** Oldpeak ***********************\n",
            "\n",
            "lower outlier: 1 ****** upper outlier: 15\n",
            "\n"
          ]
        },
        {
          "output_type": "display_data",
          "data": {
            "text/plain": [
              "<Figure size 1000x800 with 2 Axes>"
            ],
            "image/png": "[encoded data removed]"
          },
          "metadata": {}
        }
      ]
    },
    {
      "cell_type": "code",
      "source": [
        "outlier = []\n",
        "for i in range(len(final_numeric_feature)):\n",
        "    if outlier_detect(df[final_numeric_feature],final_numeric_feature[i]).shape[0] !=0:\n",
        "        outlier.append(final_numeric_feature[i])\n",
        "\n",
        "outlier"
      ],
      "metadata": {
        "colab": {
          "base_uri": "https://localhost:8080/"
        },
        "id": "PoiezmpvOlCE",
        "outputId": "04305ebb-64d9-4b4e-8430-b5c0753d0a9e"
      },
      "execution_count": null,
      "outputs": [
        {
          "output_type": "execute_result",
          "data": {
            "text/plain": [
              "['RestingBP', 'Cholesterol', 'MaxHR', 'Oldpeak']"
            ]
          },
          "metadata": {},
          "execution_count": 8
        }
      ]
    },
    {
      "cell_type": "code",
      "source": [
        "for i in range(len(outlier)):\n",
        "    replace_upper(df, outlier[i])\n",
        "\n",
        "print(\"\\n********************************\\n\")\n",
        "for i in range(len(outlier)):\n",
        "    replace_lower(df, outlier[i])"
      ],
      "metadata": {
        "colab": {
          "base_uri": "https://localhost:8080/"
        },
        "id": "tVAxXCb1OpdP",
        "outputId": "c2359adf-a907-49d3-eee6-2d53fbf66716"
      },
      "execution_count": null,
      "outputs": [
        {
          "output_type": "stream",
          "name": "stdout",
          "text": [
            "outlier replace with upper bound - RestingBP\n",
            "outlier replace with upper bound - Cholesterol\n",
            "outlier replace with upper bound - MaxHR\n",
            "outlier replace with upper bound - Oldpeak\n",
            "\n",
            "********************************\n",
            "\n",
            "outlier replace with lower bound - RestingBP\n",
            "outlier replace with lower bound - Cholesterol\n",
            "outlier replace with lower bound - MaxHR\n",
            "outlier replace with lower bound - Oldpeak\n"
          ]
        }
      ]
    },
    {
      "cell_type": "code",
      "source": [
        "for i in range(len(final_numeric_feature)):\n",
        "    print(\"IQR => {}: {}\".format(final_numeric_feature[i],(outlier_detect(df,final_numeric_feature[i]).shape[0])))\n",
        "    print(\"Z_Score => {}: {}\".format(final_numeric_feature[i],(outlier_detect_normal(df,final_numeric_feature[i]).shape[0])))\n",
        "    print(\"********************************\")"
      ],
      "metadata": {
        "colab": {
          "base_uri": "https://localhost:8080/"
        },
        "id": "kKf3aGmEOrDh",
        "outputId": "3ab3c1eb-4811-4f6d-b5a5-bf9bcb31cfcf"
      },
      "execution_count": null,
      "outputs": [
        {
          "output_type": "stream",
          "name": "stdout",
          "text": [
            "IQR => Age: 0\n",
            "Z_Score => Age: 0\n",
            "********************************\n",
            "IQR => RestingBP: 0\n",
            "Z_Score => RestingBP: 0\n",
            "********************************\n",
            "IQR => Cholesterol: 0\n",
            "Z_Score => Cholesterol: 0\n",
            "********************************\n",
            "IQR => MaxHR: 0\n",
            "Z_Score => MaxHR: 0\n",
            "********************************\n",
            "IQR => Oldpeak: 0\n",
            "Z_Score => Oldpeak: 1\n",
            "********************************\n"
          ]
        }
      ]
    },
    {
      "cell_type": "markdown",
      "source": [
        "<b>2.</b>Implement the techniques to deal with missing values.\n"
      ],
      "metadata": {
        "id": "OG5tg2WmELE9"
      }
    },
    {
      "cell_type": "code",
      "source": [
        "# Check for missing values in the dataset\n",
        "\n",
        "missing_values = df.isna().sum()\n",
        "\n",
        "print(f\"It seems like there are no missing values \\n{missing_values}\")"
      ],
      "metadata": {
        "id": "croJXGoKPbbn",
        "colab": {
          "base_uri": "https://localhost:8080/"
        },
        "outputId": "ae010ae4-0807-4882-90d3-5a028d033cc4"
      },
      "execution_count": null,
      "outputs": [
        {
          "output_type": "stream",
          "name": "stdout",
          "text": [
            "It seems like there are no missing values \n",
            "Age               0\n",
            "Sex               0\n",
            "ChestPainType     0\n",
            "RestingBP         0\n",
            "Cholesterol       0\n",
            "FastingBS         0\n",
            "RestingECG        0\n",
            "MaxHR             0\n",
            "ExerciseAngina    0\n",
            "Oldpeak           0\n",
            "ST_Slope          0\n",
            "HeartDisease      0\n",
            "dtype: int64\n"
          ]
        }
      ]
    },
    {
      "cell_type": "markdown",
      "source": [
        "<h3><u><B>CO-2. ASSIGNMENT"
      ],
      "metadata": {
        "id": "dA1klDR2D1N1"
      }
    },
    {
      "cell_type": "markdown",
      "source": [
        "<b>3.</b>Implement distance measuring techniques for two features of your dataset:<br> (a) Euclidean (b)Minkowski (c) Manhattan (d) Jaccard (e) Cosine (f) Simple matching coefficient (g)hamming\n"
      ],
      "metadata": {
        "id": "_UV6rpETEUOw"
      }
    },
    {
      "cell_type": "code",
      "source": [
        "# (a) Euclidean distance\n",
        "feature1 = df['RestingBP'].values\n",
        "feature2 = df['Cholesterol'].values\n",
        "\n",
        "euclidean_distance = np.linalg.norm(feature1 - feature2)\n",
        "\n",
        "print(\"Euclidean Distance between feature 1 and feature 2:\", euclidean_distance)"
      ],
      "metadata": {
        "id": "URNfq-_QuLXT",
        "colab": {
          "base_uri": "https://localhost:8080/"
        },
        "outputId": "3e723f70-4323-478e-c035-dd4e2d003c0b"
      },
      "execution_count": null,
      "outputs": [
        {
          "output_type": "stream",
          "name": "stdout",
          "text": [
            "Euclidean Distance between feature 1 and feature 2: 3622.403516227175\n"
          ]
        }
      ]
    },
    {
      "cell_type": "code",
      "source": [
        "# (b) Minkowski distance\n",
        "from scipy.spatial import distance\n",
        "f1 = df['RestingBP'].values\n",
        "f2 = df['Cholesterol'].values\n",
        "\n",
        "p=2;\n",
        "\n",
        "minkowski_distance = distance.minkowski(f1, f2, p)\n",
        "\n",
        "print(f\"Minkowski Distance (p={p}) between feature 1 and feature 2:\", minkowski_distance)"
      ],
      "metadata": {
        "id": "2zbyNef3vo6m",
        "colab": {
          "base_uri": "https://localhost:8080/"
        },
        "outputId": "c82fa7b6-bfd1-4194-9b16-ea91eae8e5fd"
      },
      "execution_count": null,
      "outputs": [
        {
          "output_type": "stream",
          "name": "stdout",
          "text": [
            "Minkowski Distance (p=2) between feature 1 and feature 2: 3622.403516227175\n"
          ]
        }
      ]
    },
    {
      "cell_type": "code",
      "source": [
        "# (c) Manhattan distance\n",
        "ff1 = df['Cholesterol'].values\n",
        "ff2 = df['MaxHR'].values\n",
        "\n",
        "manhattan_distance = distance.cityblock(ff1, ff2)\n",
        "\n",
        "print(\"Manhattan Distance between feature 1 and feature 2:\", manhattan_distance)"
      ],
      "metadata": {
        "id": "NQwxFaJnwlil",
        "colab": {
          "base_uri": "https://localhost:8080/"
        },
        "outputId": "b8244c66-60c3-4c2c-bfa3-ed50166ebe7d"
      },
      "execution_count": null,
      "outputs": [
        {
          "output_type": "stream",
          "name": "stdout",
          "text": [
            "Manhattan Distance between feature 1 and feature 2: 93335.375\n"
          ]
        }
      ]
    },
    {
      "cell_type": "code",
      "source": [
        "# (d) Jaccard distance\n",
        "set1 = df['Cholesterol']\n",
        "set2 = df['MaxHR']\n",
        "\n",
        "jaccard_distance = distance.jaccard(set1, set2)\n",
        "\n",
        "print(\"Jaccard Distance between set 1 and set 2:\", jaccard_distance)"
      ],
      "metadata": {
        "id": "clQ7PauQxSld",
        "colab": {
          "base_uri": "https://localhost:8080/"
        },
        "outputId": "4b3e87ac-1464-47be-9ab0-5533b4973669"
      },
      "execution_count": null,
      "outputs": [
        {
          "output_type": "stream",
          "name": "stdout",
          "text": [
            "Jaccard Distance between set 1 and set 2: 1.0\n"
          ]
        }
      ]
    },
    {
      "cell_type": "code",
      "source": [
        "# (e) Cosine distance\n",
        "from sklearn.metrics.pairwise import cosine_distances\n",
        "\n",
        "vector1 = df['Cholesterol'].values.reshape(1, -1)\n",
        "vector2 = df['RestingBP'].values.reshape(1, -1)\n",
        "\n",
        "cosine_distance = cosine_distances(vector1, vector2)\n",
        "\n",
        "print(\"Cosine Distance between vector 1 and vector 2:\", cosine_distance[0][0])"
      ],
      "metadata": {
        "id": "fnEv-6N3xyoH",
        "colab": {
          "base_uri": "https://localhost:8080/"
        },
        "outputId": "a48b00c7-0d23-4cf9-b609-52086b986246"
      },
      "execution_count": null,
      "outputs": [
        {
          "output_type": "stream",
          "name": "stdout",
          "text": [
            "Cosine Distance between vector 1 and vector 2: 0.09653752602018406\n"
          ]
        }
      ]
    },
    {
      "cell_type": "code",
      "source": [
        "# (f) Simple matching coefficient distance\n",
        "from sklearn.metrics import pairwise_distances\n",
        "\n",
        "vector1 = df['Oldpeak'].values.reshape(1, -1)\n",
        "vector2 = df['HeartDisease'].values.reshape(1, -1)\n",
        "\n",
        "smc = 1 - pairwise_distances(vector1, vector2, metric='hamming')\n",
        "\n",
        "print(\"Simple Matching Coefficient between vector 1 and vector 2:\", smc[0][0])"
      ],
      "metadata": {
        "id": "MZuXDcYHyRO_",
        "colab": {
          "base_uri": "https://localhost:8080/"
        },
        "outputId": "5a2f81cc-47fb-4ec9-f63b-118929ee33a0"
      },
      "execution_count": null,
      "outputs": [
        {
          "output_type": "stream",
          "name": "stdout",
          "text": [
            "Simple Matching Coefficient between vector 1 and vector 2: 0.3311546840958606\n"
          ]
        }
      ]
    },
    {
      "cell_type": "code",
      "source": [
        "# (g) Hamming distance\n",
        "from sklearn.metrics.pairwise import pairwise_distances\n",
        "\n",
        "column1 = df['Oldpeak'].astype(str)\n",
        "column2 = df['HeartDisease'].astype(str)\n",
        "\n",
        "hamming_distance = pairwise_distances(column1.str.count('1').values.reshape(-1, 1),\n",
        "                                       column2.str.count('1').values.reshape(-1, 1),\n",
        "                                       metric='manhattan')\n",
        "\n",
        "print(\"Hamming Distance between column 1 and column 2:\", hamming_distance[0][0])"
      ],
      "metadata": {
        "id": "IBuELPLRyvWN",
        "colab": {
          "base_uri": "https://localhost:8080/"
        },
        "outputId": "8c362f81-4a86-4cbd-e025-41687d5d6d03"
      },
      "execution_count": null,
      "outputs": [
        {
          "output_type": "stream",
          "name": "stdout",
          "text": [
            "Hamming Distance between column 1 and column 2: 0.0\n"
          ]
        }
      ]
    },
    {
      "cell_type": "markdown",
      "source": [
        "<b>4.</b> Implement any data reduction technique.\n"
      ],
      "metadata": {
        "id": "lhn69huAEd10"
      }
    },
    {
      "cell_type": "code",
      "source": [
        "df.head()"
      ],
      "metadata": {
        "colab": {
          "base_uri": "https://localhost:8080/",
          "height": 206
        },
        "id": "DhNI3bzCWps_",
        "outputId": "d6b9755f-f2b9-4b7b-d353-8bb3dff24bfd"
      },
      "execution_count": null,
      "outputs": [
        {
          "output_type": "execute_result",
          "data": {
            "text/plain": [
              "   Age Sex ChestPainType  RestingBP  Cholesterol  FastingBS RestingECG  MaxHR  \\\n",
              "0   40   M           ATA        140       289.00          0     Normal    172   \n",
              "1   49   F           NAP        160       180.00          0     Normal    156   \n",
              "2   37   M           ATA        130       283.00          0         ST     98   \n",
              "3   48   F           ASY        138       214.00          0     Normal    108   \n",
              "4   54   M           NAP        150       195.00          0     Normal    122   \n",
              "\n",
              "  ExerciseAngina  Oldpeak ST_Slope  HeartDisease  \n",
              "0              N     0.00       Up             0  \n",
              "1              N     1.00     Flat             1  \n",
              "2              N     0.00       Up             0  \n",
              "3              Y     1.50     Flat             1  \n",
              "4              N     0.00       Up             0  "
            ],
            "text/html": [
              "\n",
              "  <div id=\"df-26cc27b0-2d6e-4c57-abea-fa874c98fa5c\" class=\"colab-df-container\">\n",
              "    <div>\n",
              "<style scoped>\n",
              "    .dataframe tbody tr th:only-of-type {\n",
              "        vertical-align: middle;\n",
              "    }\n",
              "\n",
              "    .dataframe tbody tr th {\n",
              "        vertical-align: top;\n",
              "    }\n",
              "\n",
              "    .dataframe thead th {\n",
              "        text-align: right;\n",
              "    }\n",
              "</style>\n",
              "<table border=\"1\" class=\"dataframe\">\n",
              "  <thead>\n",
              "    <tr style=\"text-align: right;\">\n",
              "      <th></th>\n",
              "      <th>Age</th>\n",
              "      <th>Sex</th>\n",
              "      <th>ChestPainType</th>\n",
              "      <th>RestingBP</th>\n",
              "      <th>Cholesterol</th>\n",
              "      <th>FastingBS</th>\n",
              "      <th>RestingECG</th>\n",
              "      <th>MaxHR</th>\n",
              "      <th>ExerciseAngina</th>\n",
              "      <th>Oldpeak</th>\n",
              "      <th>ST_Slope</th>\n",
              "      <th>HeartDisease</th>\n",
              "    </tr>\n",
              "  </thead>\n",
              "  <tbody>\n",
              "    <tr>\n",
              "      <th>0</th>\n",
              "      <td>40</td>\n",
              "      <td>M</td>\n",
              "      <td>ATA</td>\n",
              "      <td>140</td>\n",
              "      <td>289.00</td>\n",
              "      <td>0</td>\n",
              "      <td>Normal</td>\n",
              "      <td>172</td>\n",
              "      <td>N</td>\n",
              "      <td>0.00</td>\n",
              "      <td>Up</td>\n",
              "      <td>0</td>\n",
              "    </tr>\n",
              "    <tr>\n",
              "      <th>1</th>\n",
              "      <td>49</td>\n",
              "      <td>F</td>\n",
              "      <td>NAP</td>\n",
              "      <td>160</td>\n",
              "      <td>180.00</td>\n",
              "      <td>0</td>\n",
              "      <td>Normal</td>\n",
              "      <td>156</td>\n",
              "      <td>N</td>\n",
              "      <td>1.00</td>\n",
              "      <td>Flat</td>\n",
              "      <td>1</td>\n",
              "    </tr>\n",
              "    <tr>\n",
              "      <th>2</th>\n",
              "      <td>37</td>\n",
              "      <td>M</td>\n",
              "      <td>ATA</td>\n",
              "      <td>130</td>\n",
              "      <td>283.00</td>\n",
              "      <td>0</td>\n",
              "      <td>ST</td>\n",
              "      <td>98</td>\n",
              "      <td>N</td>\n",
              "      <td>0.00</td>\n",
              "      <td>Up</td>\n",
              "      <td>0</td>\n",
              "    </tr>\n",
              "    <tr>\n",
              "      <th>3</th>\n",
              "      <td>48</td>\n",
              "      <td>F</td>\n",
              "      <td>ASY</td>\n",
              "      <td>138</td>\n",
              "      <td>214.00</td>\n",
              "      <td>0</td>\n",
              "      <td>Normal</td>\n",
              "      <td>108</td>\n",
              "      <td>Y</td>\n",
              "      <td>1.50</td>\n",
              "      <td>Flat</td>\n",
              "      <td>1</td>\n",
              "    </tr>\n",
              "    <tr>\n",
              "      <th>4</th>\n",
              "      <td>54</td>\n",
              "      <td>M</td>\n",
              "      <td>NAP</td>\n",
              "      <td>150</td>\n",
              "      <td>195.00</td>\n",
              "      <td>0</td>\n",
              "      <td>Normal</td>\n",
              "      <td>122</td>\n",
              "      <td>N</td>\n",
              "      <td>0.00</td>\n",
              "      <td>Up</td>\n",
              "      <td>0</td>\n",
              "    </tr>\n",
              "  </tbody>\n",
              "</table>\n",
              "</div>\n",
              "    <div class=\"colab-df-buttons\">\n",
              "\n",
              "  <div class=\"colab-df-container\">\n",
              "    <button class=\"colab-df-convert\" onclick=\"convertToInteractive('df-26cc27b0-2d6e-4c57-abea-fa874c98fa5c')\"\n",
              "            title=\"Convert this dataframe to an interactive table.\"\n",
              "            style=\"display:none;\">\n",
              "\n",
              "  <svg xmlns=\"http://www.w3.org/2000/svg\" height=\"24px\" viewBox=\"0 -960 960 960\">\n",
              "    <path d=\"M120-120v-720h720v720H120Zm60-500h600v-160H180v160Zm220 220h160v-160H400v160Zm0 220h160v-160H400v160ZM180-400h160v-160H180v160Zm440 0h160v-160H620v160ZM180-180h160v-160H180v160Zm440 0h160v-160H620v160Z\"/>\n",
              "  </svg>\n",
              "    </button>\n",
              "\n",
              "  <style>\n",
              "    .colab-df-container {\n",
              "      display:flex;\n",
              "      gap: 12px;\n",
              "    }\n",
              "\n",
              "    .colab-df-convert {\n",
              "      background-color: #E8F0FE;\n",
              "      border: none;\n",
              "      border-radius: 50%;\n",
              "      cursor: pointer;\n",
              "      display: none;\n",
              "      fill: #1967D2;\n",
              "      height: 32px;\n",
              "      padding: 0 0 0 0;\n",
              "      width: 32px;\n",
              "    }\n",
              "\n",
              "    .colab-df-convert:hover {\n",
              "      background-color: #E2EBFA;\n",
              "      box-shadow: 0px 1px 2px rgba(60, 64, 67, 0.3), 0px 1px 3px 1px rgba(60, 64, 67, 0.15);\n",
              "      fill: #174EA6;\n",
              "    }\n",
              "\n",
              "    .colab-df-buttons div {\n",
              "      margin-bottom: 4px;\n",
              "    }\n",
              "\n",
              "    [theme=dark] .colab-df-convert {\n",
              "      background-color: #3B4455;\n",
              "      fill: #D2E3FC;\n",
              "    }\n",
              "\n",
              "    [theme=dark] .colab-df-convert:hover {\n",
              "      background-color: #434B5C;\n",
              "      box-shadow: 0px 1px 3px 1px rgba(0, 0, 0, 0.15);\n",
              "      filter: drop-shadow(0px 1px 2px rgba(0, 0, 0, 0.3));\n",
              "      fill: #FFFFFF;\n",
              "    }\n",
              "  </style>\n",
              "\n",
              "    <script>\n",
              "      const buttonEl =\n",
              "        document.querySelector('#df-26cc27b0-2d6e-4c57-abea-fa874c98fa5c button.colab-df-convert');\n",
              "      buttonEl.style.display =\n",
              "        google.colab.kernel.accessAllowed ? 'block' : 'none';\n",
              "\n",
              "      async function convertToInteractive(key) {\n",
              "        const element = document.querySelector('#df-26cc27b0-2d6e-4c57-abea-fa874c98fa5c');\n",
              "        const dataTable =\n",
              "          await google.colab.kernel.invokeFunction('convertToInteractive',\n",
              "                                                    [key], {});\n",
              "        if (!dataTable) return;\n",
              "\n",
              "        const docLinkHtml = 'Like what you see? Visit the ' +\n",
              "          '<a target=\"_blank\" href=https://colab.research.google.com/notebooks/data_table.ipynb>data table notebook</a>'\n",
              "          + ' to learn more about interactive tables.';\n",
              "        element.innerHTML = '';\n",
              "        dataTable['output_type'] = 'display_data';\n",
              "        await google.colab.output.renderOutput(dataTable, element);\n",
              "        const docLink = document.createElement('div');\n",
              "        docLink.innerHTML = docLinkHtml;\n",
              "        element.appendChild(docLink);\n",
              "      }\n",
              "    </script>\n",
              "  </div>\n",
              "\n",
              "\n",
              "<div id=\"df-7379de45-0299-4d0b-801e-e9fbe5841543\">\n",
              "  <button class=\"colab-df-quickchart\" onclick=\"quickchart('df-7379de45-0299-4d0b-801e-e9fbe5841543')\"\n",
              "            title=\"Suggest charts.\"\n",
              "            style=\"display:none;\">\n",
              "\n",
              "<svg xmlns=\"http://www.w3.org/2000/svg\" height=\"24px\"viewBox=\"0 0 24 24\"\n",
              "     width=\"24px\">\n",
              "    <g>\n",
              "        <path d=\"M19 3H5c-1.1 0-2 .9-2 2v14c0 1.1.9 2 2 2h14c1.1 0 2-.9 2-2V5c0-1.1-.9-2-2-2zM9 17H7v-7h2v7zm4 0h-2V7h2v10zm4 0h-2v-4h2v4z\"/>\n",
              "    </g>\n",
              "</svg>\n",
              "  </button>\n",
              "\n",
              "<style>\n",
              "  .colab-df-quickchart {\n",
              "      --bg-color: #E8F0FE;\n",
              "      --fill-color: #1967D2;\n",
              "      --hover-bg-color: #E2EBFA;\n",
              "      --hover-fill-color: #174EA6;\n",
              "      --disabled-fill-color: #AAA;\n",
              "      --disabled-bg-color: #DDD;\n",
              "  }\n",
              "\n",
              "  [theme=dark] .colab-df-quickchart {\n",
              "      --bg-color: #3B4455;\n",
              "      --fill-color: #D2E3FC;\n",
              "      --hover-bg-color: #434B5C;\n",
              "      --hover-fill-color: #FFFFFF;\n",
              "      --disabled-bg-color: #3B4455;\n",
              "      --disabled-fill-color: #666;\n",
              "  }\n",
              "\n",
              "  .colab-df-quickchart {\n",
              "    background-color: var(--bg-color);\n",
              "    border: none;\n",
              "    border-radius: 50%;\n",
              "    cursor: pointer;\n",
              "    display: none;\n",
              "    fill: var(--fill-color);\n",
              "    height: 32px;\n",
              "    padding: 0;\n",
              "    width: 32px;\n",
              "  }\n",
              "\n",
              "  .colab-df-quickchart:hover {\n",
              "    background-color: var(--hover-bg-color);\n",
              "    box-shadow: 0 1px 2px rgba(60, 64, 67, 0.3), 0 1px 3px 1px rgba(60, 64, 67, 0.15);\n",
              "    fill: var(--button-hover-fill-color);\n",
              "  }\n",
              "\n",
              "  .colab-df-quickchart-complete:disabled,\n",
              "  .colab-df-quickchart-complete:disabled:hover {\n",
              "    background-color: var(--disabled-bg-color);\n",
              "    fill: var(--disabled-fill-color);\n",
              "    box-shadow: none;\n",
              "  }\n",
              "\n",
              "  .colab-df-spinner {\n",
              "    border: 2px solid var(--fill-color);\n",
              "    border-color: transparent;\n",
              "    border-bottom-color: var(--fill-color);\n",
              "    animation:\n",
              "      spin 1s steps(1) infinite;\n",
              "  }\n",
              "\n",
              "  @keyframes spin {\n",
              "    0% {\n",
              "      border-color: transparent;\n",
              "      border-bottom-color: var(--fill-color);\n",
              "      border-left-color: var(--fill-color);\n",
              "    }\n",
              "    20% {\n",
              "      border-color: transparent;\n",
              "      border-left-color: var(--fill-color);\n",
              "      border-top-color: var(--fill-color);\n",
              "    }\n",
              "    30% {\n",
              "      border-color: transparent;\n",
              "      border-left-color: var(--fill-color);\n",
              "      border-top-color: var(--fill-color);\n",
              "      border-right-color: var(--fill-color);\n",
              "    }\n",
              "    40% {\n",
              "      border-color: transparent;\n",
              "      border-right-color: var(--fill-color);\n",
              "      border-top-color: var(--fill-color);\n",
              "    }\n",
              "    60% {\n",
              "      border-color: transparent;\n",
              "      border-right-color: var(--fill-color);\n",
              "    }\n",
              "    80% {\n",
              "      border-color: transparent;\n",
              "      border-right-color: var(--fill-color);\n",
              "      border-bottom-color: var(--fill-color);\n",
              "    }\n",
              "    90% {\n",
              "      border-color: transparent;\n",
              "      border-bottom-color: var(--fill-color);\n",
              "    }\n",
              "  }\n",
              "</style>\n",
              "\n",
              "  <script>\n",
              "    async function quickchart(key) {\n",
              "      const quickchartButtonEl =\n",
              "        document.querySelector('#' + key + ' button');\n",
              "      quickchartButtonEl.disabled = true;  // To prevent multiple clicks.\n",
              "      quickchartButtonEl.classList.add('colab-df-spinner');\n",
              "      try {\n",
              "        const charts = await google.colab.kernel.invokeFunction(\n",
              "            'suggestCharts', [key], {});\n",
              "      } catch (error) {\n",
              "        console.error('Error during call to suggestCharts:', error);\n",
              "      }\n",
              "      quickchartButtonEl.classList.remove('colab-df-spinner');\n",
              "      quickchartButtonEl.classList.add('colab-df-quickchart-complete');\n",
              "    }\n",
              "    (() => {\n",
              "      let quickchartButtonEl =\n",
              "        document.querySelector('#df-7379de45-0299-4d0b-801e-e9fbe5841543 button');\n",
              "      quickchartButtonEl.style.display =\n",
              "        google.colab.kernel.accessAllowed ? 'block' : 'none';\n",
              "    })();\n",
              "  </script>\n",
              "</div>\n",
              "    </div>\n",
              "  </div>\n"
            ]
          },
          "metadata": {},
          "execution_count": 19
        }
      ]
    },
    {
      "cell_type": "code",
      "source": [
        "from sklearn.preprocessing import LabelEncoder\n",
        "le = LabelEncoder()\n",
        "data = df\n",
        "data[final_categorical_feature]= df[final_categorical_feature].apply(lambda col: le.fit_transform(col))\n",
        "data.head(5)"
      ],
      "metadata": {
        "colab": {
          "base_uri": "https://localhost:8080/",
          "height": 261
        },
        "id": "GPqxf6a5Sin3",
        "outputId": "89f3f39c-aae8-472e-b5e1-8a78a4ffb92e"
      },
      "execution_count": null,
      "outputs": [
        {
          "output_type": "stream",
          "name": "stderr",
          "text": [
            "/usr/local/lib/python3.10/dist-packages/ipykernel/ipkernel.py:283: DeprecationWarning: `should_run_async` will not call `transform_cell` automatically in the future. Please pass the result to `transformed_cell` argument and any exception that happen during thetransform in `preprocessing_exc_tuple` in IPython 7.17 and above.\n",
            "  and should_run_async(code)\n"
          ]
        },
        {
          "output_type": "execute_result",
          "data": {
            "text/plain": [
              "   Age  Sex  ChestPainType  RestingBP  Cholesterol  FastingBS  RestingECG  \\\n",
              "0   40    1              1        140       289.00          0           1   \n",
              "1   49    0              2        160       180.00          0           1   \n",
              "2   37    1              1        130       283.00          0           2   \n",
              "3   48    0              0        138       214.00          0           1   \n",
              "4   54    1              2        150       195.00          0           1   \n",
              "\n",
              "   MaxHR  ExerciseAngina  Oldpeak  ST_Slope  HeartDisease  \n",
              "0    172               0     0.00         2             0  \n",
              "1    156               0     1.00         1             1  \n",
              "2     98               0     0.00         2             0  \n",
              "3    108               1     1.50         1             1  \n",
              "4    122               0     0.00         2             0  "
            ],
            "text/html": [
              "\n",
              "  <div id=\"df-bc7bc85a-ef47-4a80-8640-e34a62f6fe64\" class=\"colab-df-container\">\n",
              "    <div>\n",
              "<style scoped>\n",
              "    .dataframe tbody tr th:only-of-type {\n",
              "        vertical-align: middle;\n",
              "    }\n",
              "\n",
              "    .dataframe tbody tr th {\n",
              "        vertical-align: top;\n",
              "    }\n",
              "\n",
              "    .dataframe thead th {\n",
              "        text-align: right;\n",
              "    }\n",
              "</style>\n",
              "<table border=\"1\" class=\"dataframe\">\n",
              "  <thead>\n",
              "    <tr style=\"text-align: right;\">\n",
              "      <th></th>\n",
              "      <th>Age</th>\n",
              "      <th>Sex</th>\n",
              "      <th>ChestPainType</th>\n",
              "      <th>RestingBP</th>\n",
              "      <th>Cholesterol</th>\n",
              "      <th>FastingBS</th>\n",
              "      <th>RestingECG</th>\n",
              "      <th>MaxHR</th>\n",
              "      <th>ExerciseAngina</th>\n",
              "      <th>Oldpeak</th>\n",
              "      <th>ST_Slope</th>\n",
              "      <th>HeartDisease</th>\n",
              "    </tr>\n",
              "  </thead>\n",
              "  <tbody>\n",
              "    <tr>\n",
              "      <th>0</th>\n",
              "      <td>40</td>\n",
              "      <td>1</td>\n",
              "      <td>1</td>\n",
              "      <td>140</td>\n",
              "      <td>289.00</td>\n",
              "      <td>0</td>\n",
              "      <td>1</td>\n",
              "      <td>172</td>\n",
              "      <td>0</td>\n",
              "      <td>0.00</td>\n",
              "      <td>2</td>\n",
              "      <td>0</td>\n",
              "    </tr>\n",
              "    <tr>\n",
              "      <th>1</th>\n",
              "      <td>49</td>\n",
              "      <td>0</td>\n",
              "      <td>2</td>\n",
              "      <td>160</td>\n",
              "      <td>180.00</td>\n",
              "      <td>0</td>\n",
              "      <td>1</td>\n",
              "      <td>156</td>\n",
              "      <td>0</td>\n",
              "      <td>1.00</td>\n",
              "      <td>1</td>\n",
              "      <td>1</td>\n",
              "    </tr>\n",
              "    <tr>\n",
              "      <th>2</th>\n",
              "      <td>37</td>\n",
              "      <td>1</td>\n",
              "      <td>1</td>\n",
              "      <td>130</td>\n",
              "      <td>283.00</td>\n",
              "      <td>0</td>\n",
              "      <td>2</td>\n",
              "      <td>98</td>\n",
              "      <td>0</td>\n",
              "      <td>0.00</td>\n",
              "      <td>2</td>\n",
              "      <td>0</td>\n",
              "    </tr>\n",
              "    <tr>\n",
              "      <th>3</th>\n",
              "      <td>48</td>\n",
              "      <td>0</td>\n",
              "      <td>0</td>\n",
              "      <td>138</td>\n",
              "      <td>214.00</td>\n",
              "      <td>0</td>\n",
              "      <td>1</td>\n",
              "      <td>108</td>\n",
              "      <td>1</td>\n",
              "      <td>1.50</td>\n",
              "      <td>1</td>\n",
              "      <td>1</td>\n",
              "    </tr>\n",
              "    <tr>\n",
              "      <th>4</th>\n",
              "      <td>54</td>\n",
              "      <td>1</td>\n",
              "      <td>2</td>\n",
              "      <td>150</td>\n",
              "      <td>195.00</td>\n",
              "      <td>0</td>\n",
              "      <td>1</td>\n",
              "      <td>122</td>\n",
              "      <td>0</td>\n",
              "      <td>0.00</td>\n",
              "      <td>2</td>\n",
              "      <td>0</td>\n",
              "    </tr>\n",
              "  </tbody>\n",
              "</table>\n",
              "</div>\n",
              "    <div class=\"colab-df-buttons\">\n",
              "\n",
              "  <div class=\"colab-df-container\">\n",
              "    <button class=\"colab-df-convert\" onclick=\"convertToInteractive('df-bc7bc85a-ef47-4a80-8640-e34a62f6fe64')\"\n",
              "            title=\"Convert this dataframe to an interactive table.\"\n",
              "            style=\"display:none;\">\n",
              "\n",
              "  <svg xmlns=\"http://www.w3.org/2000/svg\" height=\"24px\" viewBox=\"0 -960 960 960\">\n",
              "    <path d=\"M120-120v-720h720v720H120Zm60-500h600v-160H180v160Zm220 220h160v-160H400v160Zm0 220h160v-160H400v160ZM180-400h160v-160H180v160Zm440 0h160v-160H620v160ZM180-180h160v-160H180v160Zm440 0h160v-160H620v160Z\"/>\n",
              "  </svg>\n",
              "    </button>\n",
              "\n",
              "  <style>\n",
              "    .colab-df-container {\n",
              "      display:flex;\n",
              "      gap: 12px;\n",
              "    }\n",
              "\n",
              "    .colab-df-convert {\n",
              "      background-color: #E8F0FE;\n",
              "      border: none;\n",
              "      border-radius: 50%;\n",
              "      cursor: pointer;\n",
              "      display: none;\n",
              "      fill: #1967D2;\n",
              "      height: 32px;\n",
              "      padding: 0 0 0 0;\n",
              "      width: 32px;\n",
              "    }\n",
              "\n",
              "    .colab-df-convert:hover {\n",
              "      background-color: #E2EBFA;\n",
              "      box-shadow: 0px 1px 2px rgba(60, 64, 67, 0.3), 0px 1px 3px 1px rgba(60, 64, 67, 0.15);\n",
              "      fill: #174EA6;\n",
              "    }\n",
              "\n",
              "    .colab-df-buttons div {\n",
              "      margin-bottom: 4px;\n",
              "    }\n",
              "\n",
              "    [theme=dark] .colab-df-convert {\n",
              "      background-color: #3B4455;\n",
              "      fill: #D2E3FC;\n",
              "    }\n",
              "\n",
              "    [theme=dark] .colab-df-convert:hover {\n",
              "      background-color: #434B5C;\n",
              "      box-shadow: 0px 1px 3px 1px rgba(0, 0, 0, 0.15);\n",
              "      filter: drop-shadow(0px 1px 2px rgba(0, 0, 0, 0.3));\n",
              "      fill: #FFFFFF;\n",
              "    }\n",
              "  </style>\n",
              "\n",
              "    <script>\n",
              "      const buttonEl =\n",
              "        document.querySelector('#df-bc7bc85a-ef47-4a80-8640-e34a62f6fe64 button.colab-df-convert');\n",
              "      buttonEl.style.display =\n",
              "        google.colab.kernel.accessAllowed ? 'block' : 'none';\n",
              "\n",
              "      async function convertToInteractive(key) {\n",
              "        const element = document.querySelector('#df-bc7bc85a-ef47-4a80-8640-e34a62f6fe64');\n",
              "        const dataTable =\n",
              "          await google.colab.kernel.invokeFunction('convertToInteractive',\n",
              "                                                    [key], {});\n",
              "        if (!dataTable) return;\n",
              "\n",
              "        const docLinkHtml = 'Like what you see? Visit the ' +\n",
              "          '<a target=\"_blank\" href=https://colab.research.google.com/notebooks/data_table.ipynb>data table notebook</a>'\n",
              "          + ' to learn more about interactive tables.';\n",
              "        element.innerHTML = '';\n",
              "        dataTable['output_type'] = 'display_data';\n",
              "        await google.colab.output.renderOutput(dataTable, element);\n",
              "        const docLink = document.createElement('div');\n",
              "        docLink.innerHTML = docLinkHtml;\n",
              "        element.appendChild(docLink);\n",
              "      }\n",
              "    </script>\n",
              "  </div>\n",
              "\n",
              "\n",
              "<div id=\"df-a38d870f-c4b0-441f-9e3e-8bc6413e66b5\">\n",
              "  <button class=\"colab-df-quickchart\" onclick=\"quickchart('df-a38d870f-c4b0-441f-9e3e-8bc6413e66b5')\"\n",
              "            title=\"Suggest charts.\"\n",
              "            style=\"display:none;\">\n",
              "\n",
              "<svg xmlns=\"http://www.w3.org/2000/svg\" height=\"24px\"viewBox=\"0 0 24 24\"\n",
              "     width=\"24px\">\n",
              "    <g>\n",
              "        <path d=\"M19 3H5c-1.1 0-2 .9-2 2v14c0 1.1.9 2 2 2h14c1.1 0 2-.9 2-2V5c0-1.1-.9-2-2-2zM9 17H7v-7h2v7zm4 0h-2V7h2v10zm4 0h-2v-4h2v4z\"/>\n",
              "    </g>\n",
              "</svg>\n",
              "  </button>\n",
              "\n",
              "<style>\n",
              "  .colab-df-quickchart {\n",
              "      --bg-color: #E8F0FE;\n",
              "      --fill-color: #1967D2;\n",
              "      --hover-bg-color: #E2EBFA;\n",
              "      --hover-fill-color: #174EA6;\n",
              "      --disabled-fill-color: #AAA;\n",
              "      --disabled-bg-color: #DDD;\n",
              "  }\n",
              "\n",
              "  [theme=dark] .colab-df-quickchart {\n",
              "      --bg-color: #3B4455;\n",
              "      --fill-color: #D2E3FC;\n",
              "      --hover-bg-color: #434B5C;\n",
              "      --hover-fill-color: #FFFFFF;\n",
              "      --disabled-bg-color: #3B4455;\n",
              "      --disabled-fill-color: #666;\n",
              "  }\n",
              "\n",
              "  .colab-df-quickchart {\n",
              "    background-color: var(--bg-color);\n",
              "    border: none;\n",
              "    border-radius: 50%;\n",
              "    cursor: pointer;\n",
              "    display: none;\n",
              "    fill: var(--fill-color);\n",
              "    height: 32px;\n",
              "    padding: 0;\n",
              "    width: 32px;\n",
              "  }\n",
              "\n",
              "  .colab-df-quickchart:hover {\n",
              "    background-color: var(--hover-bg-color);\n",
              "    box-shadow: 0 1px 2px rgba(60, 64, 67, 0.3), 0 1px 3px 1px rgba(60, 64, 67, 0.15);\n",
              "    fill: var(--button-hover-fill-color);\n",
              "  }\n",
              "\n",
              "  .colab-df-quickchart-complete:disabled,\n",
              "  .colab-df-quickchart-complete:disabled:hover {\n",
              "    background-color: var(--disabled-bg-color);\n",
              "    fill: var(--disabled-fill-color);\n",
              "    box-shadow: none;\n",
              "  }\n",
              "\n",
              "  .colab-df-spinner {\n",
              "    border: 2px solid var(--fill-color);\n",
              "    border-color: transparent;\n",
              "    border-bottom-color: var(--fill-color);\n",
              "    animation:\n",
              "      spin 1s steps(1) infinite;\n",
              "  }\n",
              "\n",
              "  @keyframes spin {\n",
              "    0% {\n",
              "      border-color: transparent;\n",
              "      border-bottom-color: var(--fill-color);\n",
              "      border-left-color: var(--fill-color);\n",
              "    }\n",
              "    20% {\n",
              "      border-color: transparent;\n",
              "      border-left-color: var(--fill-color);\n",
              "      border-top-color: var(--fill-color);\n",
              "    }\n",
              "    30% {\n",
              "      border-color: transparent;\n",
              "      border-left-color: var(--fill-color);\n",
              "      border-top-color: var(--fill-color);\n",
              "      border-right-color: var(--fill-color);\n",
              "    }\n",
              "    40% {\n",
              "      border-color: transparent;\n",
              "      border-right-color: var(--fill-color);\n",
              "      border-top-color: var(--fill-color);\n",
              "    }\n",
              "    60% {\n",
              "      border-color: transparent;\n",
              "      border-right-color: var(--fill-color);\n",
              "    }\n",
              "    80% {\n",
              "      border-color: transparent;\n",
              "      border-right-color: var(--fill-color);\n",
              "      border-bottom-color: var(--fill-color);\n",
              "    }\n",
              "    90% {\n",
              "      border-color: transparent;\n",
              "      border-bottom-color: var(--fill-color);\n",
              "    }\n",
              "  }\n",
              "</style>\n",
              "\n",
              "  <script>\n",
              "    async function quickchart(key) {\n",
              "      const quickchartButtonEl =\n",
              "        document.querySelector('#' + key + ' button');\n",
              "      quickchartButtonEl.disabled = true;  // To prevent multiple clicks.\n",
              "      quickchartButtonEl.classList.add('colab-df-spinner');\n",
              "      try {\n",
              "        const charts = await google.colab.kernel.invokeFunction(\n",
              "            'suggestCharts', [key], {});\n",
              "      } catch (error) {\n",
              "        console.error('Error during call to suggestCharts:', error);\n",
              "      }\n",
              "      quickchartButtonEl.classList.remove('colab-df-spinner');\n",
              "      quickchartButtonEl.classList.add('colab-df-quickchart-complete');\n",
              "    }\n",
              "    (() => {\n",
              "      let quickchartButtonEl =\n",
              "        document.querySelector('#df-a38d870f-c4b0-441f-9e3e-8bc6413e66b5 button');\n",
              "      quickchartButtonEl.style.display =\n",
              "        google.colab.kernel.accessAllowed ? 'block' : 'none';\n",
              "    })();\n",
              "  </script>\n",
              "</div>\n",
              "    </div>\n",
              "  </div>\n"
            ]
          },
          "metadata": {},
          "execution_count": 40
        }
      ]
    },
    {
      "cell_type": "code",
      "source": [
        "from sklearn.model_selection import train_test_split\n",
        "from sklearn.model_selection import KFold\n",
        "x = data.drop(\"HeartDisease\", axis = 1)\n",
        "y = data['HeartDisease']\n",
        "x_train, x_test, y_train, y_test = train_test_split(x, y, random_state =100 ,stratify=y, test_size = 0.3)\n",
        "print(y_train.value_counts())"
      ],
      "metadata": {
        "colab": {
          "base_uri": "https://localhost:8080/"
        },
        "id": "BbPvdesVTHFz",
        "outputId": "ecf5c584-e722-4853-cf7b-0749f6a0d779"
      },
      "execution_count": null,
      "outputs": [
        {
          "output_type": "stream",
          "name": "stdout",
          "text": [
            "1    355\n",
            "0    287\n",
            "Name: HeartDisease, dtype: int64\n"
          ]
        }
      ]
    },
    {
      "cell_type": "code",
      "source": [
        "from mlxtend.feature_selection import SequentialFeatureSelector as SFS\n",
        "from sklearn.ensemble import ExtraTreesClassifier, GradientBoostingClassifier, StackingClassifier, RandomForestClassifier\n",
        "sfs = SFS(GradientBoostingClassifier(n_estimators=100, random_state=0),\n",
        "          k_features = 7,\n",
        "          forward= True,\n",
        "          floating = False,\n",
        "          verbose= 2,\n",
        "          scoring= 'accuracy',\n",
        "          cv = 4,\n",
        "          n_jobs= -1).fit(x_train, y_train)"
      ],
      "metadata": {
        "colab": {
          "base_uri": "https://localhost:8080/"
        },
        "id": "N1ghAdXwUCyd",
        "outputId": "6a451fcb-2dea-42d4-b572-87ff9dcdc8f3"
      },
      "execution_count": null,
      "outputs": [
        {
          "output_type": "stream",
          "name": "stderr",
          "text": [
            "[Parallel(n_jobs=-1)]: Using backend LokyBackend with 2 concurrent workers.\n",
            "[Parallel(n_jobs=-1)]: Done  11 out of  11 | elapsed:    6.8s finished\n",
            "\n",
            "[2023-11-03 13:31:22] Features: 1/7 -- score: 0.8130628881987577[Parallel(n_jobs=-1)]: Using backend LokyBackend with 2 concurrent workers.\n",
            "[Parallel(n_jobs=-1)]: Done  10 out of  10 | elapsed:    3.1s finished\n",
            "\n",
            "[2023-11-03 13:31:25] Features: 2/7 -- score: 0.8364615683229814[Parallel(n_jobs=-1)]: Using backend LokyBackend with 2 concurrent workers.\n",
            "[Parallel(n_jobs=-1)]: Done   9 out of   9 | elapsed:    3.0s finished\n",
            "\n",
            "[2023-11-03 13:31:28] Features: 3/7 -- score: 0.8457880434782609[Parallel(n_jobs=-1)]: Using backend LokyBackend with 2 concurrent workers.\n",
            "[Parallel(n_jobs=-1)]: Done   8 out of   8 | elapsed:    3.3s finished\n",
            "\n",
            "[2023-11-03 13:31:31] Features: 4/7 -- score: 0.8598020186335403[Parallel(n_jobs=-1)]: Using backend LokyBackend with 2 concurrent workers.\n",
            "[Parallel(n_jobs=-1)]: Done   7 out of   7 | elapsed:    3.7s finished\n",
            "\n",
            "[2023-11-03 13:31:35] Features: 5/7 -- score: 0.866022903726708[Parallel(n_jobs=-1)]: Using backend LokyBackend with 2 concurrent workers.\n",
            "[Parallel(n_jobs=-1)]: Done   6 out of   6 | elapsed:    2.3s finished\n",
            "\n",
            "[2023-11-03 13:31:37] Features: 6/7 -- score: 0.8707201086956522[Parallel(n_jobs=-1)]: Using backend LokyBackend with 2 concurrent workers.\n",
            "[Parallel(n_jobs=-1)]: Done   5 out of   5 | elapsed:    2.0s finished\n",
            "\n",
            "[2023-11-03 13:31:39] Features: 7/7 -- score: 0.876950698757764"
          ]
        }
      ]
    },
    {
      "cell_type": "code",
      "source": [
        "print(\"Best features: \",sfs.k_feature_names_)\n",
        "print(\"Best score: \",sfs.k_score_)"
      ],
      "metadata": {
        "colab": {
          "base_uri": "https://localhost:8080/"
        },
        "id": "v3-0t9w7UG0P",
        "outputId": "21039706-eaae-4945-8220-34a87858abe6"
      },
      "execution_count": null,
      "outputs": [
        {
          "output_type": "stream",
          "name": "stdout",
          "text": [
            "Best features:  ('Sex', 'Cholesterol', 'FastingBS', 'RestingECG', 'ExerciseAngina', 'Oldpeak', 'ST_Slope')\n",
            "Best score:  0.876950698757764\n"
          ]
        }
      ]
    },
    {
      "cell_type": "code",
      "source": [
        "x_train_new = x_train[['Sex','Cholesterol','FastingBS','RestingECG','ExerciseAngina','Oldpeak','ST_Slope']]\n",
        "x_test_new = x_test[['Sex','Cholesterol','FastingBS','RestingECG','ExerciseAngina','Oldpeak','ST_Slope']]"
      ],
      "metadata": {
        "id": "sGD3evZWUMl2",
        "colab": {
          "base_uri": "https://localhost:8080/"
        },
        "outputId": "841f29d4-e32c-4df4-d2a8-757c07ecccb9"
      },
      "execution_count": null,
      "outputs": [
        {
          "output_type": "stream",
          "name": "stderr",
          "text": [
            "/usr/local/lib/python3.10/dist-packages/ipykernel/ipkernel.py:283: DeprecationWarning: `should_run_async` will not call `transform_cell` automatically in the future. Please pass the result to `transformed_cell` argument and any exception that happen during thetransform in `preprocessing_exc_tuple` in IPython 7.17 and above.\n",
            "  and should_run_async(code)\n"
          ]
        }
      ]
    },
    {
      "cell_type": "markdown",
      "source": [
        "<h3><u><B>CO-3. ASSIGNMENT"
      ],
      "metadata": {
        "id": "ynSJiQcwD3OE"
      }
    },
    {
      "cell_type": "code",
      "source": [
        "\n",
        "from sklearn.linear_model import LogisticRegression\n",
        "from sklearn.tree import DecisionTreeClassifier\n",
        "from sklearn.neural_network import MLPClassifier\n",
        "from sklearn.neighbors import KNeighborsClassifier\n",
        "from sklearn.svm import SVC\n",
        "from sklearn.ensemble import ExtraTreesClassifier, GradientBoostingClassifier, StackingClassifier, RandomForestClassifier\n",
        "from sklearn.metrics import confusion_matrix\n",
        "from sklearn.metrics import accuracy_score, f1_score,confusion_matrix, recall_score, precision_score, classification_report\n",
        "from sklearn.metrics import average_precision_score\n",
        "from sklearn.model_selection import cross_val_score, cross_val_predict\n",
        "from sklearn.model_selection import GridSearchCV, RandomizedSearchCV"
      ],
      "metadata": {
        "id": "tfQMcs5lTpwk",
        "colab": {
          "base_uri": "https://localhost:8080/"
        },
        "outputId": "eef7783f-6667-41ba-ffa0-a13e4f77368a"
      },
      "execution_count": null,
      "outputs": [
        {
          "output_type": "stream",
          "name": "stderr",
          "text": [
            "/usr/local/lib/python3.10/dist-packages/ipykernel/ipkernel.py:283: DeprecationWarning: `should_run_async` will not call `transform_cell` automatically in the future. Please pass the result to `transformed_cell` argument and any exception that happen during thetransform in `preprocessing_exc_tuple` in IPython 7.17 and above.\n",
            "  and should_run_async(code)\n"
          ]
        }
      ]
    },
    {
      "cell_type": "markdown",
      "source": [
        "<b>5.</b>Implement various knn classification algorithms and do prediction for unknown data.\n"
      ],
      "metadata": {
        "id": "uYfm5zVCEgbk"
      }
    },
    {
      "cell_type": "code",
      "source": [
        "from sklearn.neighbors import KNeighborsClassifier\n",
        "KNN = KNeighborsClassifier(n_neighbors=8)\n",
        "KNN.fit(x_train_new, y_train)\n",
        "\n",
        "y_test_pred_KNN = KNN.predict(x_test_new)\n",
        "y_train_pred_KNN = KNN.predict(x_train_new)\n",
        "\n",
        "test_acc_KNN = accuracy_score(y_test, y_test_pred_KNN)\n",
        "train_acc_KNN = accuracy_score(y_train, y_train_pred_KNN)\n",
        "scores_KNN = cross_val_score(KNN, x_train_new , y_train , cv = 10, scoring = 'accuracy' )\n",
        "\n",
        "precision_score_KNN = precision_score(y_test, y_test_pred_KNN)\n",
        "recall_score_KNN = recall_score(y_test, y_test_pred_KNN)\n",
        "f1_score_KNN = f1_score(y_test, y_test_pred_KNN)\n",
        "conf_KNN = confusion_matrix(y_test, y_test_pred_KNN)\n",
        "\n",
        "print(\"Tain set Accuracy: \", train_acc_KNN)\n",
        "print(\"Test set Accuracy: \", test_acc_KNN)\n",
        "print(\"cv:  %s\\n\"% scores_KNN.mean())\n",
        "print(\"************************************************\")\n",
        "print(\"precision_score: \", precision_score_KNN)\n",
        "print(\"recall_score: \", recall_score_KNN)\n",
        "print(\"f1_score: \", f1_score_KNN)\n",
        "print(\"************************************************\")\n",
        "print(\"\\nReport:\\n%s\\n\"%classification_report(y_test, y_test_pred_KNN))"
      ],
      "metadata": {
        "colab": {
          "base_uri": "https://localhost:8080/"
        },
        "id": "yMgx2HdCTr7U",
        "outputId": "7cfa8705-9151-413a-ca4b-d6a468fcf81a"
      },
      "execution_count": null,
      "outputs": [
        {
          "output_type": "stream",
          "name": "stdout",
          "text": [
            "Tain set Accuracy:  0.7772585669781932\n",
            "Test set Accuracy:  0.6847826086956522\n",
            "cv:  0.6867788461538462\n",
            "\n",
            "************************************************\n",
            "precision_score:  0.8173076923076923\n",
            "recall_score:  0.5555555555555556\n",
            "f1_score:  0.6614785992217899\n",
            "************************************************\n",
            "\n",
            "Report:\n",
            "              precision    recall  f1-score   support\n",
            "\n",
            "           0       0.60      0.85      0.71       123\n",
            "           1       0.82      0.56      0.66       153\n",
            "\n",
            "    accuracy                           0.68       276\n",
            "   macro avg       0.71      0.70      0.68       276\n",
            "weighted avg       0.72      0.68      0.68       276\n",
            "\n",
            "\n"
          ]
        },
        {
          "output_type": "stream",
          "name": "stderr",
          "text": [
            "/usr/local/lib/python3.10/dist-packages/ipykernel/ipkernel.py:283: DeprecationWarning: `should_run_async` will not call `transform_cell` automatically in the future. Please pass the result to `transformed_cell` argument and any exception that happen during thetransform in `preprocessing_exc_tuple` in IPython 7.17 and above.\n",
            "  and should_run_async(code)\n"
          ]
        }
      ]
    },
    {
      "cell_type": "markdown",
      "source": [
        "<b>6.</b>Implement a decision tree classification algorithm.\n"
      ],
      "metadata": {
        "id": "ze9dA7BMEhW4"
      }
    },
    {
      "cell_type": "code",
      "source": [
        "DT = DecisionTreeClassifier(max_depth=5, min_samples_leaf=5, random_state=0)\n",
        "DT.fit(x_train_new, y_train)\n",
        "\n",
        "y_test_pred_DT = DT.predict(x_test_new)\n",
        "y_train_pred_DT = DT.predict(x_train_new)\n",
        "\n",
        "test_acc_DT = accuracy_score(y_test, y_test_pred_DT)\n",
        "train_acc_DT = accuracy_score(y_train, y_train_pred_DT)\n",
        "scores_DT = cross_val_score(DT, x_train_new , y_train , cv = 10, scoring = 'accuracy' )\n",
        "\n",
        "precision_score_DT = precision_score(y_test, y_test_pred_DT)\n",
        "recall_score_DT = recall_score(y_test, y_test_pred_DT)\n",
        "f1_score_DT = f1_score(y_test, y_test_pred_DT)\n",
        "conf_DT = confusion_matrix(y_test, y_test_pred_DT)\n",
        "\n",
        "\n",
        "print(\"Tain set Accuracy: \", train_acc_DT)\n",
        "print(\"Test set Accuracy: \", test_acc_DT)\n",
        "print(\"cv:  %s\\n\"% scores_DT.mean())\n",
        "print(\"************************************************\")\n",
        "print(\"precision_score: \", precision_score_DT)\n",
        "print(\"recall_score: \", recall_score_DT)\n",
        "print(\"f1_score: \", f1_score_DT)\n",
        "print(\"************************************************\")\n",
        "print(\"\\nReport:\\n%s\\n\"%classification_report(y_test, y_test_pred_DT))"
      ],
      "metadata": {
        "colab": {
          "base_uri": "https://localhost:8080/"
        },
        "id": "6IZflBZTUW5F",
        "outputId": "79d8ed1f-bc21-4ce6-fa22-fbaf34385680"
      },
      "execution_count": null,
      "outputs": [
        {
          "output_type": "stream",
          "name": "stdout",
          "text": [
            "Tain set Accuracy:  0.8956386292834891\n",
            "Test set Accuracy:  0.8333333333333334\n",
            "cv:  0.8738461538461539\n",
            "\n",
            "************************************************\n",
            "precision_score:  0.8590604026845637\n",
            "recall_score:  0.8366013071895425\n",
            "f1_score:  0.847682119205298\n",
            "************************************************\n",
            "\n",
            "Report:\n",
            "              precision    recall  f1-score   support\n",
            "\n",
            "           0       0.80      0.83      0.82       123\n",
            "           1       0.86      0.84      0.85       153\n",
            "\n",
            "    accuracy                           0.83       276\n",
            "   macro avg       0.83      0.83      0.83       276\n",
            "weighted avg       0.83      0.83      0.83       276\n",
            "\n",
            "\n"
          ]
        }
      ]
    },
    {
      "cell_type": "markdown",
      "source": [
        "<b>7.</b>.Implement a support vector machine algorithm.\n"
      ],
      "metadata": {
        "id": "4Qroh_OJEtAe"
      }
    },
    {
      "cell_type": "code",
      "source": [
        "SVM = SVC(C=10)\n",
        "SVM.fit(x_train_new, y_train)\n",
        "\n",
        "y_test_pred_SVM = SVM.predict(x_test_new)\n",
        "y_train_pred_SVM = SVM.predict(x_train_new)\n",
        "\n",
        "test_acc_SVM = accuracy_score(y_test, y_test_pred_SVM)\n",
        "train_acc_SVM = accuracy_score(y_train, y_train_pred_SVM)\n",
        "scores_SVM = cross_val_score(SVM, x_train_new , y_train , cv = 10, scoring = 'accuracy' )\n",
        "\n",
        "precision_score_SVM = precision_score(y_test, y_test_pred_SVM, average='macro')\n",
        "recall_score_SVM = recall_score(y_test, y_test_pred_SVM, average='macro')\n",
        "f1_score_SVM = f1_score(y_test, y_test_pred_SVM, average='macro')\n",
        "conf_SVM = confusion_matrix(y_test, y_test_pred_SVM)\n",
        "\n",
        "\n",
        "print(\"Tain set Accuracy: \", train_acc_SVM)\n",
        "print(\"Test set Accuracy: \", test_acc_SVM)\n",
        "print(\"cv:  %s\\n\"% scores_SVM.mean())\n",
        "print(\"************************************************\")\n",
        "print(\"precision_score: \", precision_score_SVM)\n",
        "print(\"recall_score: \", recall_score_SVM)\n",
        "print(\"f1_score: \", f1_score_SVM)\n",
        "print(\"************************************************\")\n",
        "print(\"\\nReport:\\n%s\\n\"%classification_report(y_test, y_test_pred_SVM))"
      ],
      "metadata": {
        "id": "o6oiWDc7aprW",
        "colab": {
          "base_uri": "https://localhost:8080/"
        },
        "outputId": "3757a32f-c98a-4726-8245-3eb8955aaff2"
      },
      "execution_count": null,
      "outputs": [
        {
          "output_type": "stream",
          "name": "stdout",
          "text": [
            "Tain set Accuracy:  0.6355140186915887\n",
            "Test set Accuracy:  0.6014492753623188\n",
            "cv:  0.5996153846153847\n",
            "\n",
            "************************************************\n",
            "precision_score:  0.6525734112960226\n",
            "recall_score:  0.6261756735214411\n",
            "f1_score:  0.5910560344827587\n",
            "************************************************\n",
            "\n",
            "Report:\n",
            "              precision    recall  f1-score   support\n",
            "\n",
            "           0       0.53      0.85      0.66       123\n",
            "           1       0.77      0.40      0.53       153\n",
            "\n",
            "    accuracy                           0.60       276\n",
            "   macro avg       0.65      0.63      0.59       276\n",
            "weighted avg       0.67      0.60      0.58       276\n",
            "\n",
            "\n"
          ]
        }
      ]
    },
    {
      "cell_type": "markdown",
      "source": [
        "<b>8.</b>Implement regression algorithms:<br> (a)linear regression\n"
      ],
      "metadata": {
        "id": "CuRBvzTPEtgi"
      }
    },
    {
      "cell_type": "code",
      "source": [
        "import matplotlib.pyplot as plt\n",
        "from sklearn.linear_model import LinearRegression\n",
        "from sklearn.model_selection import train_test_split\n",
        "from sklearn.metrics import mean_absolute_error, mean_squared_error, r2_score\n",
        "\n",
        "X = data['RestingBP'].values.reshape(-1, 1)\n",
        "y = data['Cholesterol'].values.reshape(-1, 1)\n",
        "\n",
        "# Split the data into training and test sets\n",
        "X_train, X_test, y_train, y_test = train_test_split(X, y, test_size=0.2)\n",
        "\n",
        "# Create a linear regression model\n",
        "reg = LinearRegression()\n",
        "\n",
        "# Fit the model to the training data\n",
        "reg.fit(X_train, y_train)\n",
        "\n",
        "# Predict the target values of the test set\n",
        "y_pred = reg.predict(X_test)\n",
        "\n",
        "\n",
        "# Calculate performance metrics\n",
        "mae = mean_absolute_error(y_test, y_pred)\n",
        "mse = mean_squared_error(y_test, y_pred)\n",
        "rmse = np.sqrt(mse)\n",
        "r2 = r2_score(y_test, y_pred)\n",
        "\n",
        "# Print the results\n",
        "print('Mean Absolute Error (MAE):', mae)\n",
        "print('Mean Squared Error (MSE):', mse)\n",
        "print('Root Mean Squared Error (RMSE):', rmse)\n",
        "print('R-squared (R^2):', r2)\n",
        "\n",
        "\n",
        "# Plot the true vs predicted values\n",
        "plt.scatter(X_test, y_test)\n",
        "plt.xlabel('Maximum Wind')\n",
        "plt.ylabel('Minimum Pressure')\n",
        "\n",
        "# Add a regression line to the plot\n",
        "plt.plot(X_test, y_pred, color='red')\n",
        "\n",
        "plt.show()"
      ],
      "metadata": {
        "id": "u1S9LSDXZqwT",
        "colab": {
          "base_uri": "https://localhost:8080/",
          "height": 518
        },
        "outputId": "be2a0a53-8201-4c62-dd78-8584a48e8288"
      },
      "execution_count": null,
      "outputs": [
        {
          "output_type": "stream",
          "name": "stdout",
          "text": [
            "Mean Absolute Error (MAE): 76.42114166894726\n",
            "Mean Squared Error (MSE): 9691.53615613595\n",
            "Root Mean Squared Error (RMSE): 98.44559998362521\n",
            "R-squared (R^2): -0.021625100942510356\n"
          ]
        },
        {
          "output_type": "display_data",
          "data": {
            "text/plain": [
              "<Figure size 640x480 with 1 Axes>"
            ],
            "image/png": "[encoded data removed]"
          },
          "metadata": {}
        }
      ]
    },
    {
      "cell_type": "markdown",
      "source": [
        "(b)logistic regression"
      ],
      "metadata": {
        "id": "LiJ_-qvrZtW7"
      }
    },
    {
      "cell_type": "code",
      "source": [
        "LR = LogisticRegression(C=2, penalty='l1', random_state=0, solver='liblinear')\n",
        "LR.fit(x_train_new, y_train)\n",
        "\n",
        "y_test_pred_LR = LR.predict(x_test_new)\n",
        "y_train_pred_LR = LR.predict(x_train_new)\n",
        "\n",
        "test_acc_LR = accuracy_score(y_test, y_test_pred_LR)\n",
        "train_acc_LR = accuracy_score(y_train, y_train_pred_LR)\n",
        "scores_LR = cross_val_score(LR, x_train_new , y_train , cv = 10, scoring = 'accuracy' )\n",
        "\n",
        "precision_score_LR = precision_score(y_test, y_test_pred_LR)\n",
        "recall_score_LR = recall_score(y_test, y_test_pred_LR)\n",
        "f1_score_LR = f1_score(y_test, y_test_pred_LR)\n",
        "conf_LR = confusion_matrix(y_test, y_test_pred_LR)\n",
        "\n",
        "\n",
        "print(\"Tain set Accuracy: \", train_acc_LR)\n",
        "print(\"Test set Accuracy: \", test_acc_LR)\n",
        "print(\"cv:  %s\\n\"% scores_LR.mean())\n",
        "print(\"************************************************\")\n",
        "print(\"precision_score: \", precision_score_LR)\n",
        "print(\"recall_score: \", recall_score_LR)\n",
        "print(\"f1_score: \", f1_score_LR)\n",
        "print(\"************************************************\")\n",
        "print(\"\\nReport:\\n%s\\n\"%classification_report(y_test, y_test_pred_LR))"
      ],
      "metadata": {
        "id": "aL5PTJS2bbZk",
        "colab": {
          "base_uri": "https://localhost:8080/"
        },
        "outputId": "31aee0dd-3b8c-4749-e5ec-a029266a693a"
      },
      "execution_count": null,
      "outputs": [
        {
          "output_type": "stream",
          "name": "stdout",
          "text": [
            "Tain set Accuracy:  0.8504672897196262\n",
            "Test set Accuracy:  0.8115942028985508\n",
            "cv:  0.8505048076923079\n",
            "\n",
            "************************************************\n",
            "precision_score:  0.8435374149659864\n",
            "recall_score:  0.8104575163398693\n",
            "f1_score:  0.8266666666666667\n",
            "************************************************\n",
            "\n",
            "Report:\n",
            "              precision    recall  f1-score   support\n",
            "\n",
            "           0       0.78      0.81      0.79       123\n",
            "           1       0.84      0.81      0.83       153\n",
            "\n",
            "    accuracy                           0.81       276\n",
            "   macro avg       0.81      0.81      0.81       276\n",
            "weighted avg       0.81      0.81      0.81       276\n",
            "\n",
            "\n"
          ]
        }
      ]
    },
    {
      "cell_type": "markdown",
      "source": [
        "<h3><u><B>CO-4. ASSIGNMENT"
      ],
      "metadata": {
        "id": "R0MNAJT4D4pL"
      }
    },
    {
      "cell_type": "markdown",
      "source": [
        "<b>9.</b>Implement k-means/k-medoid clustering algorithms and do prediction for unknown data.\n"
      ],
      "metadata": {
        "id": "7vtIHbIeEvuJ"
      }
    },
    {
      "cell_type": "code",
      "source": [
        "pip install scikit-learn-extra"
      ],
      "metadata": {
        "colab": {
          "base_uri": "https://localhost:8080/"
        },
        "id": "bSH3y8IvlkCv",
        "outputId": "d49fbdcf-3386-4cf0-d4b2-55fe3872174d"
      },
      "execution_count": null,
      "outputs": [
        {
          "output_type": "stream",
          "name": "stdout",
          "text": [
            "Collecting scikit-learn-extra\n",
            "  Downloading scikit_learn_extra-0.3.0-cp310-cp310-manylinux_2_17_x86_64.manylinux2014_x86_64.whl (2.0 MB)\n",
            "\u001b[?25l     \u001b[90m━━━━━━━━━━━━━━━━━━━━━━━━━━━━━━━━━━━━━━━━\u001b[0m \u001b[32m0.0/2.0 MB\u001b[0m \u001b[31m?\u001b[0m eta \u001b[36m-:--:--\u001b[0m\r\u001b[2K     \u001b[91m━━━━\u001b[0m\u001b[90m╺\u001b[0m\u001b[90m━━━━━━━━━━━━━━━━━━━━━━━━━━━━━━━━━━━\u001b[0m \u001b[32m0.2/2.0 MB\u001b[0m \u001b[31m7.2 MB/s\u001b[0m eta \u001b[36m0:00:01\u001b[0m\r\u001b[2K     \u001b[91m━━━━━━━━━━━━━━━━━━━━━━━━━━━━━━━━━━━━━━━\u001b[0m\u001b[91m╸\u001b[0m \u001b[32m2.0/2.0 MB\u001b[0m \u001b[31m32.3 MB/s\u001b[0m eta \u001b[36m0:00:01\u001b[0m\r\u001b[2K     \u001b[90m━━━━━━━━━━━━━━━━━━━━━━━━━━━━━━━━━━━━━━━━\u001b[0m \u001b[32m2.0/2.0 MB\u001b[0m \u001b[31m25.2 MB/s\u001b[0m eta \u001b[36m0:00:00\u001b[0m\n",
            "\u001b[?25hRequirement already satisfied: numpy>=1.13.3 in /usr/local/lib/python3.10/dist-packages (from scikit-learn-extra) (1.23.5)\n",
            "Requirement already satisfied: scipy>=0.19.1 in /usr/local/lib/python3.10/dist-packages (from scikit-learn-extra) (1.11.2)\n",
            "Requirement already satisfied: scikit-learn>=0.23.0 in /usr/local/lib/python3.10/dist-packages (from scikit-learn-extra) (1.2.2)\n",
            "Requirement already satisfied: joblib>=1.1.1 in /usr/local/lib/python3.10/dist-packages (from scikit-learn>=0.23.0->scikit-learn-extra) (1.3.2)\n",
            "Requirement already satisfied: threadpoolctl>=2.0.0 in /usr/local/lib/python3.10/dist-packages (from scikit-learn>=0.23.0->scikit-learn-extra) (3.2.0)\n",
            "Installing collected packages: scikit-learn-extra\n",
            "Successfully installed scikit-learn-extra-0.3.0\n"
          ]
        }
      ]
    },
    {
      "cell_type": "code",
      "source": [
        "import numpy as np\n",
        "import pandas as pd\n",
        "from sklearn.datasets import load_iris\n",
        "from sklearn.cluster import KMeans\n",
        "from sklearn_extra.cluster import KMedoids\n",
        "import matplotlib.pyplot as plt\n",
        "\n",
        "\n",
        "X = data\n",
        "\n",
        "# Perform K-Means clustering\n",
        "kmeans = KMeans(n_clusters=3, random_state=42)\n",
        "kmeans.fit(X)\n",
        "\n",
        "# Perform K-Medoids clustering\n",
        "kmedoids = KMedoids(n_clusters=3, random_state=42)\n",
        "kmedoids.fit(X)\n",
        "\n",
        "# Predict clusters for the data points\n",
        "kmeans_labels = kmeans.predict(X)\n",
        "kmedoids_labels = kmedoids.predict(X)\n",
        "\n",
        "# Visualize the clusters for K-Means\n",
        "plt.scatter(X['RestingBP'], X['Cholesterol'], c=kmeans_labels, cmap='viridis')\n",
        "plt.scatter(kmeans.cluster_centers_[:,0], kmeans.cluster_centers_[:,1], s=300, c='red', label='Centroids')\n",
        "plt.title('K-Means Clustering')\n",
        "plt.legend()\n",
        "plt.show()\n",
        "\n",
        "# Visualize the clusters for K-Medoids\n",
        "plt.scatter(X['RestingBP'], X['Cholesterol'], c=kmedoids_labels, cmap='viridis')\n",
        "plt.scatter(kmedoids.cluster_centers_[:,0], kmedoids.cluster_centers_[:,1], s=300, c='red', label='Medoids')\n",
        "plt.title('K-Medoids Clustering')\n",
        "plt.legend()\n",
        "plt.show()\n",
        "\n",
        "# Predict clusters for unknown data points\n",
        "unknown_data = np.array([[140, 150, 130, 170,190,166,125,190,210,170,180,160], [289.00, 280.00, 290.00, 283.00,271.00,290.00,273.00,240.00,255.00,281.00,260.00,247.00]])  # Replace with your own data\n",
        "kmeans_prediction = kmeans.predict(unknown_data)\n",
        "kmedoids_prediction = kmedoids.predict(unknown_data)\n",
        "\n",
        "print(\"K-Means Prediction for Unknown Data:\", kmeans_prediction)\n",
        "print(\"K-Medoids Prediction for Unknown Data:\", kmedoids_prediction)"
      ],
      "metadata": {
        "id": "iHsC1FToafqv",
        "colab": {
          "base_uri": "https://localhost:8080/",
          "height": 922
        },
        "outputId": "1fd061ae-efee-48ff-e279-d6e8ed3f996d"
      },
      "execution_count": null,
      "outputs": [
        {
          "output_type": "display_data",
          "data": {
            "text/plain": [
              "<Figure size 640x480 with 1 Axes>"
            ],
            "image/png": "[encoded data removed]"
          },
          "metadata": {}
        },
        {
          "output_type": "display_data",
          "data": {
            "text/plain": [
              "<Figure size 640x480 with 1 Axes>"
            ],
            "image/png": "[encoded data removed]"
          },
          "metadata": {}
        },
        {
          "output_type": "stream",
          "name": "stdout",
          "text": [
            "K-Means Prediction for Unknown Data: [2 0]\n",
            "K-Medoids Prediction for Unknown Data: [2 1]\n"
          ]
        }
      ]
    },
    {
      "cell_type": "markdown",
      "source": [
        "<b>10.</b>Implement hierarchical clustering algorithms and do prediction for unknown data.\n"
      ],
      "metadata": {
        "id": "mXcSLVehEzCp"
      }
    },
    {
      "cell_type": "code",
      "source": [
        "import numpy as np\n",
        "import pandas as pd\n",
        "from sklearn.datasets import load_iris\n",
        "from scipy.cluster.hierarchy import dendrogram, linkage, fcluster\n",
        "import matplotlib.pyplot as plt\n",
        "\n",
        "\n",
        "X = df\n",
        "\n",
        "# Perform hierarchical clustering\n",
        "linkage_matrix = linkage(X, method='ward', metric='euclidean')\n",
        "\n",
        "# Create a dendrogram\n",
        "dendrogram(linkage_matrix)\n",
        "plt.title('Hierarchical Clustering Dendrogram')\n",
        "plt.xlabel('Sample Index')\n",
        "plt.ylabel('Distance')\n",
        "plt.show()\n",
        "\n",
        "# Determine the number of clusters using the dendrogram\n",
        "num_clusters = 3  # Adjust this based on the dendrogram\n",
        "\n",
        "# Perform clustering to assign data points to clusters\n",
        "clusters = fcluster(linkage_matrix, t=num_clusters, criterion='maxclust')\n",
        "\n",
        "# Visualize the clusters for the Iris dataset\n",
        "plt.scatter(X['RestingBP'], X['Cholesterol'], c=clusters, cmap='viridis')\n",
        "plt.title('Hierarchical Clustering ')\n",
        "plt.xlabel('RestingBP')\n",
        "plt.ylabel('Cholesterol')\n",
        "plt.show()\n",
        "\n"
      ],
      "metadata": {
        "colab": {
          "base_uri": "https://localhost:8080/",
          "height": 926
        },
        "id": "S0skFWK7h1uJ",
        "outputId": "54815d9a-6914-4e2c-87a6-a4f522f0bdc2"
      },
      "execution_count": null,
      "outputs": [
        {
          "output_type": "display_data",
          "data": {
            "text/plain": [
              "<Figure size 640x480 with 1 Axes>"
            ],
            "image/png": "[encoded data removed]"
          },
          "metadata": {}
        },
        {
          "output_type": "display_data",
          "data": {
            "text/plain": [
              "<Figure size 640x480 with 1 Axes>"
            ],
            "image/png": "[encoded data removed]"
          },
          "metadata": {}
        }
      ]
    },
    {
      "cell_type": "code",
      "source": [
        "# Predict clusters for unknown data points\n",
        "unknown_data = np.array([[140, 150, 130, 170], [289.00, 280.00, 290.00, 283.00]])  # Replace with your own data\n",
        "\n",
        "# Rebuild the linkage matrix with the unknown data points\n",
        "linkage_matrix_unknown = linkage(unknown_data, method='ward', metric='euclidean')\n",
        "\n",
        "# Assign clusters to the unknown data points\n",
        "unknown_clusters = fcluster(linkage_matrix, t=num_clusters, criterion='maxclust')\n",
        "\n",
        "print(\"Clusters for Unknown Data:\", unknown_clusters)"
      ],
      "metadata": {
        "colab": {
          "base_uri": "https://localhost:8080/"
        },
        "id": "6VSEyISFkitT",
        "outputId": "7f7b28f1-4670-4ea0-f1e1-4532ed570b59"
      },
      "execution_count": null,
      "outputs": [
        {
          "output_type": "stream",
          "name": "stdout",
          "text": [
            "Clusters for Unknown Data: [2 3 2 3 3 2 3 3 3 2 3 3 3 3 3 2 3 3 3 3 3 3 3 2 3 3 2 2 2 3 2 3 3 3 3 3 2\n",
            " 3 3 3 3 2 3 3 3 2 3 3 2 2 3 3 3 3 3 3 3 3 2 2 3 3 3 2 3 2 2 3 3 2 3 3 3 3\n",
            " 3 3 2 3 3 3 2 3 3 3 3 3 2 3 2 3 3 2 3 2 3 3 3 3 3 3 2 3 2 2 3 3 2 3 3 3 3\n",
            " 3 2 2 3 3 2 2 3 3 3 3 3 2 3 2 3 3 3 3 2 3 2 3 2 3 3 3 3 3 2 2 2 3 2 2 3 3\n",
            " 3 2 3 3 3 3 2 2 3 3 2 3 2 3 3 3 3 2 3 3 3 3 3 3 2 3 3 2 3 2 3 3 3 3 2 3 2\n",
            " 3 2 3 2 2 2 3 3 3 3 3 2 3 2 2 3 3 3 3 3 3 2 3 3 3 2 2 2 3 3 3 2 3 3 3 3 2\n",
            " 3 2 3 3 3 3 2 3 2 2 2 3 2 3 2 2 2 3 2 3 2 2 2 3 3 2 3 2 2 2 2 2 3 2 2 3 3\n",
            " 2 2 3 3 3 3 2 2 3 3 3 3 3 3 3 2 3 3 3 2 3 3 3 3 2 2 3 3 3 2 3 3 3 3 1 1 1\n",
            " 1 1 1 1 1 1 1 1 1 1 1 1 1 1 1 1 1 1 1 1 1 1 1 1 1 1 1 1 1 1 1 1 1 1 1 1 1\n",
            " 1 1 1 1 1 1 1 1 1 1 1 1 1 1 1 1 1 1 1 1 1 1 1 1 1 1 1 1 1 1 1 1 1 1 1 1 1\n",
            " 1 1 1 1 1 1 1 1 1 1 1 1 1 1 1 1 1 1 1 1 1 1 1 1 1 1 1 1 1 1 1 1 1 1 1 1 1\n",
            " 1 1 1 1 1 1 1 1 1 2 3 3 3 3 1 3 1 1 2 3 1 1 1 1 3 3 3 1 1 1 1 1 1 1 1 1 3\n",
            " 3 3 1 3 3 1 1 1 2 1 3 1 1 1 1 1 2 1 3 1 1 3 1 1 3 3 1 1 1 2 1 1 3 1 2 1 1\n",
            " 1 2 1 1 3 3 3 3 3 3 3 1 2 3 2 2 3 2 2 3 2 3 3 3 3 3 3 1 3 3 3 3 3 1 1 3 3\n",
            " 1 2 3 2 2 3 3 3 2 2 3 3 3 2 3 3 3 1 1 2 3 3 3 3 2 3 2 3 3 3 3 3 3 3 3 3 3\n",
            " 3 2 3 3 2 3 3 2 3 2 2 3 3 2 3 3 3 3 3 3 2 3 2 3 2 3 3 3 2 3 2 2 3 3 3 3 3\n",
            " 2 3 3 3 2 3 3 3 3 2 2 2 3 2 3 2 3 2 2 3 3 2 2 2 2 3 2 2 3 3 3 2 2 3 3 3 3\n",
            " 2 3 2 3 3 3 3 3 2 3 2 3 3 2 3 2 3 3 3 2 3 3 3 2 3 3 3 3 3 3 3 3 3 3 3 3 2\n",
            " 3 2 3 3 3 3 3 3 2 3 2 3 3 3 2 3 2 3 3 3 2 3 3 3 2 3 3 3 3 3 3 2 3 3 3 3 2\n",
            " 2 3 3 2 2 3 3 2 2 3 2 3 3 3 2 2 3 2 3 2 3 3 2 3 2 2 2 2 3 2 3 2 3 2 3 2 2\n",
            " 3 2 3 3 3 3 3 3 2 3 3 2 3 3 3 3 3 3 3 2 2 3 3 3 3 3 3 3 2 3 3 3 2 3 3 3 3\n",
            " 3 3 3 2 3 3 3 2 3 3 2 3 3 2 2 3 3 3 3 2 3 2 3 2 3 3 2 2 3 3 2 2 3 3 3 3 3\n",
            " 2 2 2 3 2 2 2 2 3 2 3 2 3 3 3 3 3 3 3 3 3 3 3 3 2 3 3 2 2 2 3 2 3 3 3 3 3\n",
            " 3 3 3 2 2 2 3 2 2 3 3 2 3 2 3 3 2 3 3 2 3 2 2 3 2 3 2 2 3 3 3 2 3 2 3 3 3\n",
            " 3 3 3 2 3 3 3 2 3 3 3 3 2 3 3 3 3 3 2 3 3 3 3 3 3 2 3 3 3 3]\n"
          ]
        }
      ]
    },
    {
      "cell_type": "markdown",
      "source": [
        "<b>11.</b>Implement DBSCAN clustering algorithms and do prediction for unknown data.\n"
      ],
      "metadata": {
        "id": "92j-SO8Ub6_E"
      }
    },
    {
      "cell_type": "code",
      "source": [
        "from sklearn.preprocessing import StandardScaler\n",
        "\n",
        "scaler = StandardScaler()\n",
        "data_1=data[['Sex','Cholesterol','FastingBS','RestingECG','ExerciseAngina','Oldpeak','ST_Slope']]\n",
        "data_scaled = scaler.fit_transform(data_1)"
      ],
      "metadata": {
        "colab": {
          "base_uri": "https://localhost:8080/"
        },
        "id": "dQCdcl44nAXC",
        "outputId": "51ad2c0b-d982-4b63-8f81-aa47c74a0ae9"
      },
      "execution_count": null,
      "outputs": [
        {
          "output_type": "stream",
          "name": "stderr",
          "text": [
            "/usr/local/lib/python3.10/dist-packages/ipykernel/ipkernel.py:283: DeprecationWarning: `should_run_async` will not call `transform_cell` automatically in the future. Please pass the result to `transformed_cell` argument and any exception that happen during thetransform in `preprocessing_exc_tuple` in IPython 7.17 and above.\n",
            "  and should_run_async(code)\n"
          ]
        }
      ]
    },
    {
      "cell_type": "code",
      "source": [
        "from sklearn.cluster import DBSCAN\n",
        "\n",
        "# Create a DBSCAN model\n",
        "dbscan = DBSCAN(eps=0.5, min_samples=5)\n",
        "\n",
        "# Fit the model to the data\n",
        "clusters = dbscan.fit_predict(data_scaled)\n",
        "\n",
        "# Add the cluster labels to the original dataset\n",
        "data['Cluster'] = clusters"
      ],
      "metadata": {
        "colab": {
          "base_uri": "https://localhost:8080/"
        },
        "id": "G6aQcwoKnDl3",
        "outputId": "4d3ad45f-123f-4323-a4b5-b76ea60384f7"
      },
      "execution_count": null,
      "outputs": [
        {
          "output_type": "stream",
          "name": "stderr",
          "text": [
            "/usr/local/lib/python3.10/dist-packages/ipykernel/ipkernel.py:283: DeprecationWarning: `should_run_async` will not call `transform_cell` automatically in the future. Please pass the result to `transformed_cell` argument and any exception that happen during thetransform in `preprocessing_exc_tuple` in IPython 7.17 and above.\n",
            "  and should_run_async(code)\n"
          ]
        }
      ]
    },
    {
      "cell_type": "code",
      "source": [
        "data_1\n"
      ],
      "metadata": {
        "colab": {
          "base_uri": "https://localhost:8080/",
          "height": 478
        },
        "id": "wH2eX9Syqain",
        "outputId": "b97e87dc-0a5d-43f1-b32f-77858f7114aa"
      },
      "execution_count": null,
      "outputs": [
        {
          "output_type": "stream",
          "name": "stderr",
          "text": [
            "/usr/local/lib/python3.10/dist-packages/ipykernel/ipkernel.py:283: DeprecationWarning: `should_run_async` will not call `transform_cell` automatically in the future. Please pass the result to `transformed_cell` argument and any exception that happen during thetransform in `preprocessing_exc_tuple` in IPython 7.17 and above.\n",
            "  and should_run_async(code)\n"
          ]
        },
        {
          "output_type": "execute_result",
          "data": {
            "text/plain": [
              "     Sex  Cholesterol  FastingBS  RestingECG  ExerciseAngina  Oldpeak  \\\n",
              "0      1       289.00          0           1               0     0.00   \n",
              "1      0       180.00          0           1               0     1.00   \n",
              "2      1       283.00          0           2               0     0.00   \n",
              "3      0       214.00          0           1               1     1.50   \n",
              "4      1       195.00          0           1               0     0.00   \n",
              "..   ...          ...        ...         ...             ...      ...   \n",
              "913    1       264.00          0           1               0     1.20   \n",
              "914    1       193.00          1           1               0     3.40   \n",
              "915    1       131.00          0           1               1     1.20   \n",
              "916    0       236.00          0           0               0     0.00   \n",
              "917    1       175.00          0           1               0     0.00   \n",
              "\n",
              "     ST_Slope  \n",
              "0           2  \n",
              "1           1  \n",
              "2           2  \n",
              "3           1  \n",
              "4           2  \n",
              "..        ...  \n",
              "913         1  \n",
              "914         1  \n",
              "915         1  \n",
              "916         1  \n",
              "917         2  \n",
              "\n",
              "[918 rows x 7 columns]"
            ],
            "text/html": [
              "\n",
              "  <div id=\"df-882b54ea-0976-498c-b608-f8243f8fe701\" class=\"colab-df-container\">\n",
              "    <div>\n",
              "<style scoped>\n",
              "    .dataframe tbody tr th:only-of-type {\n",
              "        vertical-align: middle;\n",
              "    }\n",
              "\n",
              "    .dataframe tbody tr th {\n",
              "        vertical-align: top;\n",
              "    }\n",
              "\n",
              "    .dataframe thead th {\n",
              "        text-align: right;\n",
              "    }\n",
              "</style>\n",
              "<table border=\"1\" class=\"dataframe\">\n",
              "  <thead>\n",
              "    <tr style=\"text-align: right;\">\n",
              "      <th></th>\n",
              "      <th>Sex</th>\n",
              "      <th>Cholesterol</th>\n",
              "      <th>FastingBS</th>\n",
              "      <th>RestingECG</th>\n",
              "      <th>ExerciseAngina</th>\n",
              "      <th>Oldpeak</th>\n",
              "      <th>ST_Slope</th>\n",
              "    </tr>\n",
              "  </thead>\n",
              "  <tbody>\n",
              "    <tr>\n",
              "      <th>0</th>\n",
              "      <td>1</td>\n",
              "      <td>289.00</td>\n",
              "      <td>0</td>\n",
              "      <td>1</td>\n",
              "      <td>0</td>\n",
              "      <td>0.00</td>\n",
              "      <td>2</td>\n",
              "    </tr>\n",
              "    <tr>\n",
              "      <th>1</th>\n",
              "      <td>0</td>\n",
              "      <td>180.00</td>\n",
              "      <td>0</td>\n",
              "      <td>1</td>\n",
              "      <td>0</td>\n",
              "      <td>1.00</td>\n",
              "      <td>1</td>\n",
              "    </tr>\n",
              "    <tr>\n",
              "      <th>2</th>\n",
              "      <td>1</td>\n",
              "      <td>283.00</td>\n",
              "      <td>0</td>\n",
              "      <td>2</td>\n",
              "      <td>0</td>\n",
              "      <td>0.00</td>\n",
              "      <td>2</td>\n",
              "    </tr>\n",
              "    <tr>\n",
              "      <th>3</th>\n",
              "      <td>0</td>\n",
              "      <td>214.00</td>\n",
              "      <td>0</td>\n",
              "      <td>1</td>\n",
              "      <td>1</td>\n",
              "      <td>1.50</td>\n",
              "      <td>1</td>\n",
              "    </tr>\n",
              "    <tr>\n",
              "      <th>4</th>\n",
              "      <td>1</td>\n",
              "      <td>195.00</td>\n",
              "      <td>0</td>\n",
              "      <td>1</td>\n",
              "      <td>0</td>\n",
              "      <td>0.00</td>\n",
              "      <td>2</td>\n",
              "    </tr>\n",
              "    <tr>\n",
              "      <th>...</th>\n",
              "      <td>...</td>\n",
              "      <td>...</td>\n",
              "      <td>...</td>\n",
              "      <td>...</td>\n",
              "      <td>...</td>\n",
              "      <td>...</td>\n",
              "      <td>...</td>\n",
              "    </tr>\n",
              "    <tr>\n",
              "      <th>913</th>\n",
              "      <td>1</td>\n",
              "      <td>264.00</td>\n",
              "      <td>0</td>\n",
              "      <td>1</td>\n",
              "      <td>0</td>\n",
              "      <td>1.20</td>\n",
              "      <td>1</td>\n",
              "    </tr>\n",
              "    <tr>\n",
              "      <th>914</th>\n",
              "      <td>1</td>\n",
              "      <td>193.00</td>\n",
              "      <td>1</td>\n",
              "      <td>1</td>\n",
              "      <td>0</td>\n",
              "      <td>3.40</td>\n",
              "      <td>1</td>\n",
              "    </tr>\n",
              "    <tr>\n",
              "      <th>915</th>\n",
              "      <td>1</td>\n",
              "      <td>131.00</td>\n",
              "      <td>0</td>\n",
              "      <td>1</td>\n",
              "      <td>1</td>\n",
              "      <td>1.20</td>\n",
              "      <td>1</td>\n",
              "    </tr>\n",
              "    <tr>\n",
              "      <th>916</th>\n",
              "      <td>0</td>\n",
              "      <td>236.00</td>\n",
              "      <td>0</td>\n",
              "      <td>0</td>\n",
              "      <td>0</td>\n",
              "      <td>0.00</td>\n",
              "      <td>1</td>\n",
              "    </tr>\n",
              "    <tr>\n",
              "      <th>917</th>\n",
              "      <td>1</td>\n",
              "      <td>175.00</td>\n",
              "      <td>0</td>\n",
              "      <td>1</td>\n",
              "      <td>0</td>\n",
              "      <td>0.00</td>\n",
              "      <td>2</td>\n",
              "    </tr>\n",
              "  </tbody>\n",
              "</table>\n",
              "<p>918 rows × 7 columns</p>\n",
              "</div>\n",
              "    <div class=\"colab-df-buttons\">\n",
              "\n",
              "  <div class=\"colab-df-container\">\n",
              "    <button class=\"colab-df-convert\" onclick=\"convertToInteractive('df-882b54ea-0976-498c-b608-f8243f8fe701')\"\n",
              "            title=\"Convert this dataframe to an interactive table.\"\n",
              "            style=\"display:none;\">\n",
              "\n",
              "  <svg xmlns=\"http://www.w3.org/2000/svg\" height=\"24px\" viewBox=\"0 -960 960 960\">\n",
              "    <path d=\"M120-120v-720h720v720H120Zm60-500h600v-160H180v160Zm220 220h160v-160H400v160Zm0 220h160v-160H400v160ZM180-400h160v-160H180v160Zm440 0h160v-160H620v160ZM180-180h160v-160H180v160Zm440 0h160v-160H620v160Z\"/>\n",
              "  </svg>\n",
              "    </button>\n",
              "\n",
              "  <style>\n",
              "    .colab-df-container {\n",
              "      display:flex;\n",
              "      gap: 12px;\n",
              "    }\n",
              "\n",
              "    .colab-df-convert {\n",
              "      background-color: #E8F0FE;\n",
              "      border: none;\n",
              "      border-radius: 50%;\n",
              "      cursor: pointer;\n",
              "      display: none;\n",
              "      fill: #1967D2;\n",
              "      height: 32px;\n",
              "      padding: 0 0 0 0;\n",
              "      width: 32px;\n",
              "    }\n",
              "\n",
              "    .colab-df-convert:hover {\n",
              "      background-color: #E2EBFA;\n",
              "      box-shadow: 0px 1px 2px rgba(60, 64, 67, 0.3), 0px 1px 3px 1px rgba(60, 64, 67, 0.15);\n",
              "      fill: #174EA6;\n",
              "    }\n",
              "\n",
              "    .colab-df-buttons div {\n",
              "      margin-bottom: 4px;\n",
              "    }\n",
              "\n",
              "    [theme=dark] .colab-df-convert {\n",
              "      background-color: #3B4455;\n",
              "      fill: #D2E3FC;\n",
              "    }\n",
              "\n",
              "    [theme=dark] .colab-df-convert:hover {\n",
              "      background-color: #434B5C;\n",
              "      box-shadow: 0px 1px 3px 1px rgba(0, 0, 0, 0.15);\n",
              "      filter: drop-shadow(0px 1px 2px rgba(0, 0, 0, 0.3));\n",
              "      fill: #FFFFFF;\n",
              "    }\n",
              "  </style>\n",
              "\n",
              "    <script>\n",
              "      const buttonEl =\n",
              "        document.querySelector('#df-882b54ea-0976-498c-b608-f8243f8fe701 button.colab-df-convert');\n",
              "      buttonEl.style.display =\n",
              "        google.colab.kernel.accessAllowed ? 'block' : 'none';\n",
              "\n",
              "      async function convertToInteractive(key) {\n",
              "        const element = document.querySelector('#df-882b54ea-0976-498c-b608-f8243f8fe701');\n",
              "        const dataTable =\n",
              "          await google.colab.kernel.invokeFunction('convertToInteractive',\n",
              "                                                    [key], {});\n",
              "        if (!dataTable) return;\n",
              "\n",
              "        const docLinkHtml = 'Like what you see? Visit the ' +\n",
              "          '<a target=\"_blank\" href=https://colab.research.google.com/notebooks/data_table.ipynb>data table notebook</a>'\n",
              "          + ' to learn more about interactive tables.';\n",
              "        element.innerHTML = '';\n",
              "        dataTable['output_type'] = 'display_data';\n",
              "        await google.colab.output.renderOutput(dataTable, element);\n",
              "        const docLink = document.createElement('div');\n",
              "        docLink.innerHTML = docLinkHtml;\n",
              "        element.appendChild(docLink);\n",
              "      }\n",
              "    </script>\n",
              "  </div>\n",
              "\n",
              "\n",
              "<div id=\"df-19b62639-7eee-4754-aac7-4b9f3d1c4002\">\n",
              "  <button class=\"colab-df-quickchart\" onclick=\"quickchart('df-19b62639-7eee-4754-aac7-4b9f3d1c4002')\"\n",
              "            title=\"Suggest charts.\"\n",
              "            style=\"display:none;\">\n",
              "\n",
              "<svg xmlns=\"http://www.w3.org/2000/svg\" height=\"24px\"viewBox=\"0 0 24 24\"\n",
              "     width=\"24px\">\n",
              "    <g>\n",
              "        <path d=\"M19 3H5c-1.1 0-2 .9-2 2v14c0 1.1.9 2 2 2h14c1.1 0 2-.9 2-2V5c0-1.1-.9-2-2-2zM9 17H7v-7h2v7zm4 0h-2V7h2v10zm4 0h-2v-4h2v4z\"/>\n",
              "    </g>\n",
              "</svg>\n",
              "  </button>\n",
              "\n",
              "<style>\n",
              "  .colab-df-quickchart {\n",
              "      --bg-color: #E8F0FE;\n",
              "      --fill-color: #1967D2;\n",
              "      --hover-bg-color: #E2EBFA;\n",
              "      --hover-fill-color: #174EA6;\n",
              "      --disabled-fill-color: #AAA;\n",
              "      --disabled-bg-color: #DDD;\n",
              "  }\n",
              "\n",
              "  [theme=dark] .colab-df-quickchart {\n",
              "      --bg-color: #3B4455;\n",
              "      --fill-color: #D2E3FC;\n",
              "      --hover-bg-color: #434B5C;\n",
              "      --hover-fill-color: #FFFFFF;\n",
              "      --disabled-bg-color: #3B4455;\n",
              "      --disabled-fill-color: #666;\n",
              "  }\n",
              "\n",
              "  .colab-df-quickchart {\n",
              "    background-color: var(--bg-color);\n",
              "    border: none;\n",
              "    border-radius: 50%;\n",
              "    cursor: pointer;\n",
              "    display: none;\n",
              "    fill: var(--fill-color);\n",
              "    height: 32px;\n",
              "    padding: 0;\n",
              "    width: 32px;\n",
              "  }\n",
              "\n",
              "  .colab-df-quickchart:hover {\n",
              "    background-color: var(--hover-bg-color);\n",
              "    box-shadow: 0 1px 2px rgba(60, 64, 67, 0.3), 0 1px 3px 1px rgba(60, 64, 67, 0.15);\n",
              "    fill: var(--button-hover-fill-color);\n",
              "  }\n",
              "\n",
              "  .colab-df-quickchart-complete:disabled,\n",
              "  .colab-df-quickchart-complete:disabled:hover {\n",
              "    background-color: var(--disabled-bg-color);\n",
              "    fill: var(--disabled-fill-color);\n",
              "    box-shadow: none;\n",
              "  }\n",
              "\n",
              "  .colab-df-spinner {\n",
              "    border: 2px solid var(--fill-color);\n",
              "    border-color: transparent;\n",
              "    border-bottom-color: var(--fill-color);\n",
              "    animation:\n",
              "      spin 1s steps(1) infinite;\n",
              "  }\n",
              "\n",
              "  @keyframes spin {\n",
              "    0% {\n",
              "      border-color: transparent;\n",
              "      border-bottom-color: var(--fill-color);\n",
              "      border-left-color: var(--fill-color);\n",
              "    }\n",
              "    20% {\n",
              "      border-color: transparent;\n",
              "      border-left-color: var(--fill-color);\n",
              "      border-top-color: var(--fill-color);\n",
              "    }\n",
              "    30% {\n",
              "      border-color: transparent;\n",
              "      border-left-color: var(--fill-color);\n",
              "      border-top-color: var(--fill-color);\n",
              "      border-right-color: var(--fill-color);\n",
              "    }\n",
              "    40% {\n",
              "      border-color: transparent;\n",
              "      border-right-color: var(--fill-color);\n",
              "      border-top-color: var(--fill-color);\n",
              "    }\n",
              "    60% {\n",
              "      border-color: transparent;\n",
              "      border-right-color: var(--fill-color);\n",
              "    }\n",
              "    80% {\n",
              "      border-color: transparent;\n",
              "      border-right-color: var(--fill-color);\n",
              "      border-bottom-color: var(--fill-color);\n",
              "    }\n",
              "    90% {\n",
              "      border-color: transparent;\n",
              "      border-bottom-color: var(--fill-color);\n",
              "    }\n",
              "  }\n",
              "</style>\n",
              "\n",
              "  <script>\n",
              "    async function quickchart(key) {\n",
              "      const quickchartButtonEl =\n",
              "        document.querySelector('#' + key + ' button');\n",
              "      quickchartButtonEl.disabled = true;  // To prevent multiple clicks.\n",
              "      quickchartButtonEl.classList.add('colab-df-spinner');\n",
              "      try {\n",
              "        const charts = await google.colab.kernel.invokeFunction(\n",
              "            'suggestCharts', [key], {});\n",
              "      } catch (error) {\n",
              "        console.error('Error during call to suggestCharts:', error);\n",
              "      }\n",
              "      quickchartButtonEl.classList.remove('colab-df-spinner');\n",
              "      quickchartButtonEl.classList.add('colab-df-quickchart-complete');\n",
              "    }\n",
              "    (() => {\n",
              "      let quickchartButtonEl =\n",
              "        document.querySelector('#df-19b62639-7eee-4754-aac7-4b9f3d1c4002 button');\n",
              "      quickchartButtonEl.style.display =\n",
              "        google.colab.kernel.accessAllowed ? 'block' : 'none';\n",
              "    })();\n",
              "  </script>\n",
              "</div>\n",
              "    </div>\n",
              "  </div>\n"
            ]
          },
          "metadata": {},
          "execution_count": 48
        }
      ]
    },
    {
      "cell_type": "code",
      "source": [
        "unknown_data = pd.DataFrame({\n",
        "    'Sex':[1],'Cholesterol': [195.0],'FastingBS': [0],'RestingECG': [1],'ExerciseAngina': [0],'Oldpeak': [1],'ST_Slope': [2]\n",
        "})\n",
        "\n",
        "# Scale the unknown data using the same scaler\n",
        "unknown_data_scaled = scaler.transform(unknown_data)\n",
        "\n",
        "# Predict the cluster for the unknown data\n",
        "unknown_cluster = dbscan.fit_predict(unknown_data_scaled)\n",
        "\n",
        "print(\"Cluster for unknown data:\", unknown_cluster)"
      ],
      "metadata": {
        "colab": {
          "base_uri": "https://localhost:8080/"
        },
        "id": "LTOhybDpnEfE",
        "outputId": "1a02b6c6-091a-4242-f75d-4504413be919"
      },
      "execution_count": null,
      "outputs": [
        {
          "output_type": "stream",
          "name": "stdout",
          "text": [
            "Cluster for unknown data: [-1]\n"
          ]
        },
        {
          "output_type": "stream",
          "name": "stderr",
          "text": [
            "/usr/local/lib/python3.10/dist-packages/ipykernel/ipkernel.py:283: DeprecationWarning: `should_run_async` will not call `transform_cell` automatically in the future. Please pass the result to `transformed_cell` argument and any exception that happen during thetransform in `preprocessing_exc_tuple` in IPython 7.17 and above.\n",
            "  and should_run_async(code)\n"
          ]
        }
      ]
    },
    {
      "cell_type": "markdown",
      "source": [
        "<b>12.</b>Implement apriori algorithm to get association rules.\n",
        "\n",
        "\n"
      ],
      "metadata": {
        "id": "ocEgYt-qb6HD"
      }
    },
    {
      "cell_type": "code",
      "source": [
        "from mlxtend.frequent_patterns import apriori\n",
        "from mlxtend.frequent_patterns import association_rules\n",
        "import pandas as pd\n",
        "\n",
        "# Sample transaction data (replace with your own dataset)\n",
        "data = pd.DataFrame({\n",
        "    'TransactionID': [1, 2, 3, 4, 5],\n",
        "    'Items': ['A, B, D', 'B, C', 'A, C, D', 'A, D', 'B, C']\n",
        "})\n",
        "\n",
        "# Split items in the 'Items' column and create binary columns\n",
        "items_df = data['Items'].str.get_dummies(', ')\n",
        "\n",
        "# Concatenate the binary columns with the original DataFrame\n",
        "data = pd.concat([data, items_df], axis=1)\n",
        "\n",
        "# Drop the original 'Items' column\n",
        "data.drop('Items', axis=1, inplace=True)\n",
        "\n",
        "# Apply Apriori algorithm\n",
        "frequent_itemsets = apriori(data.drop('TransactionID', axis=1), min_support=0.5, use_colnames=True)\n",
        "\n",
        "# Generate association rules\n",
        "rules = association_rules(frequent_itemsets, metric='lift', min_threshold=1.0)\n",
        "\n",
        "# Display association rules\n",
        "print(\"Association Rules:\")\n",
        "print(rules)"
      ],
      "metadata": {
        "colab": {
          "base_uri": "https://localhost:8080/"
        },
        "id": "V2SlWUSYh8cx",
        "outputId": "b44c9f05-8043-4beb-8883-f8690a69549f"
      },
      "execution_count": null,
      "outputs": [
        {
          "output_type": "stream",
          "name": "stdout",
          "text": [
            "Association Rules:\n",
            "  antecedents consequents  antecedent support  consequent support  support  \\\n",
            "0         (A)         (D)                0.60                0.60     0.60   \n",
            "1         (D)         (A)                0.60                0.60     0.60   \n",
            "\n",
            "   confidence  lift  leverage  conviction  zhangs_metric  \n",
            "0        1.00  1.67      0.24         inf           1.00  \n",
            "1        1.00  1.67      0.24         inf           1.00  \n"
          ]
        },
        {
          "output_type": "stream",
          "name": "stderr",
          "text": [
            "/usr/local/lib/python3.10/dist-packages/ipykernel/ipkernel.py:283: DeprecationWarning: `should_run_async` will not call `transform_cell` automatically in the future. Please pass the result to `transformed_cell` argument and any exception that happen during thetransform in `preprocessing_exc_tuple` in IPython 7.17 and above.\n",
            "  and should_run_async(code)\n",
            "/usr/local/lib/python3.10/dist-packages/mlxtend/frequent_patterns/fpcommon.py:110: DeprecationWarning: DataFrames with non-bool types result in worse computationalperformance and their support might be discontinued in the future.Please use a DataFrame with bool type\n",
            "  warnings.warn(\n"
          ]
        }
      ]
    },
    {
      "cell_type": "markdown",
      "source": [
        "<b>13.</b>Implement backpropagation neural network algorithm.\n",
        "\n"
      ],
      "metadata": {
        "id": "L23-AojIcQ87"
      }
    },
    {
      "cell_type": "code",
      "source": [
        "import pandas as pd\n",
        "import numpy as np\n",
        "from sklearn.model_selection import train_test_split\n",
        "from sklearn.preprocessing import StandardScaler\n",
        "from tensorflow import keras\n",
        "from tensorflow.keras import layers\n"
      ],
      "metadata": {
        "colab": {
          "base_uri": "https://localhost:8080/"
        },
        "id": "5IUooNlskeDu",
        "outputId": "f446e564-8ba9-4e1f-8b25-2f6f8e21a81a"
      },
      "execution_count": null,
      "outputs": [
        {
          "output_type": "stream",
          "name": "stderr",
          "text": [
            "/usr/local/lib/python3.10/dist-packages/ipykernel/ipkernel.py:283: DeprecationWarning: `should_run_async` will not call `transform_cell` automatically in the future. Please pass the result to `transformed_cell` argument and any exception that happen during thetransform in `preprocessing_exc_tuple` in IPython 7.17 and above.\n",
            "  and should_run_async(code)\n",
            "/usr/local/lib/python3.10/dist-packages/tensorflow/python/framework/dtypes.py:35: DeprecationWarning: ml_dtypes.float8_e4m3b11 is deprecated. Use ml_dtypes.float8_e4m3b11fnuz\n",
            "  from tensorflow.tsl.python.lib.core import pywrap_ml_dtypes\n"
          ]
        }
      ]
    },
    {
      "cell_type": "code",
      "source": [
        "model = keras.Sequential([\n",
        "    layers.Dense(64, activation='relu', input_shape=(x_train_new.shape[1],)),\n",
        "    layers.Dense(32, activation='relu'),\n",
        "    layers.Dense(1, activation='sigmoid')\n",
        "])\n",
        "\n",
        "model.compile(optimizer='adam', loss='binary_crossentropy', metrics=['accuracy'])\n",
        "\n"
      ],
      "metadata": {
        "colab": {
          "base_uri": "https://localhost:8080/"
        },
        "id": "2xtR1rebkgQP",
        "outputId": "fef7f86c-b067-4054-a425-d70be68c9349"
      },
      "execution_count": null,
      "outputs": [
        {
          "output_type": "stream",
          "name": "stderr",
          "text": [
            "/usr/local/lib/python3.10/dist-packages/ipykernel/ipkernel.py:283: DeprecationWarning: `should_run_async` will not call `transform_cell` automatically in the future. Please pass the result to `transformed_cell` argument and any exception that happen during thetransform in `preprocessing_exc_tuple` in IPython 7.17 and above.\n",
            "  and should_run_async(code)\n"
          ]
        }
      ]
    },
    {
      "cell_type": "code",
      "source": [
        "model.fit(x_train_new, y_train, epochs=50, batch_size=32, validation_data=(x_test_new, y_test))\n"
      ],
      "metadata": {
        "colab": {
          "base_uri": "https://localhost:8080/"
        },
        "id": "uqOV5aXulA9f",
        "outputId": "477d30d6-dcc1-4a4d-f585-835a9a95451a"
      },
      "execution_count": null,
      "outputs": [
        {
          "output_type": "stream",
          "name": "stderr",
          "text": [
            "/usr/local/lib/python3.10/dist-packages/ipykernel/ipkernel.py:283: DeprecationWarning: `should_run_async` will not call `transform_cell` automatically in the future. Please pass the result to `transformed_cell` argument and any exception that happen during thetransform in `preprocessing_exc_tuple` in IPython 7.17 and above.\n",
            "  and should_run_async(code)\n"
          ]
        },
        {
          "output_type": "stream",
          "name": "stdout",
          "text": [
            "Epoch 1/50\n",
            "21/21 [==============================] - 3s 39ms/step - loss: 2.1728 - accuracy: 0.5125 - val_loss: 1.3300 - val_accuracy: 0.5000\n",
            "Epoch 2/50\n",
            "21/21 [==============================] - 0s 4ms/step - loss: 0.8617 - accuracy: 0.5826 - val_loss: 0.6331 - val_accuracy: 0.5906\n",
            "Epoch 3/50\n",
            "21/21 [==============================] - 0s 13ms/step - loss: 0.7020 - accuracy: 0.5748 - val_loss: 0.6916 - val_accuracy: 0.5870\n",
            "Epoch 4/50\n",
            "21/21 [==============================] - 0s 9ms/step - loss: 0.6500 - accuracy: 0.6542 - val_loss: 0.6627 - val_accuracy: 0.6087\n",
            "Epoch 5/50\n",
            "21/21 [==============================] - 0s 10ms/step - loss: 0.6442 - accuracy: 0.5950 - val_loss: 0.5810 - val_accuracy: 0.7101\n",
            "Epoch 6/50\n",
            "21/21 [==============================] - 0s 10ms/step - loss: 0.5939 - accuracy: 0.7056 - val_loss: 0.6274 - val_accuracy: 0.6630\n",
            "Epoch 7/50\n",
            "21/21 [==============================] - 0s 13ms/step - loss: 0.6134 - accuracy: 0.6464 - val_loss: 0.6116 - val_accuracy: 0.6812\n",
            "Epoch 8/50\n",
            "21/21 [==============================] - 0s 10ms/step - loss: 0.6676 - accuracy: 0.6199 - val_loss: 0.6534 - val_accuracy: 0.5580\n",
            "Epoch 9/50\n",
            "21/21 [==============================] - 0s 17ms/step - loss: 0.5740 - accuracy: 0.7118 - val_loss: 0.5669 - val_accuracy: 0.6087\n",
            "Epoch 10/50\n",
            "21/21 [==============================] - 0s 19ms/step - loss: 0.5813 - accuracy: 0.6931 - val_loss: 0.5587 - val_accuracy: 0.7391\n",
            "Epoch 11/50\n",
            "21/21 [==============================] - 0s 18ms/step - loss: 0.5439 - accuracy: 0.7555 - val_loss: 0.5781 - val_accuracy: 0.7174\n",
            "Epoch 12/50\n",
            "21/21 [==============================] - 0s 16ms/step - loss: 0.5119 - accuracy: 0.7913 - val_loss: 0.5689 - val_accuracy: 0.6014\n",
            "Epoch 13/50\n",
            "21/21 [==============================] - 0s 15ms/step - loss: 0.5286 - accuracy: 0.7508 - val_loss: 0.5020 - val_accuracy: 0.7971\n",
            "Epoch 14/50\n",
            "21/21 [==============================] - 0s 18ms/step - loss: 0.4904 - accuracy: 0.7913 - val_loss: 0.5118 - val_accuracy: 0.7609\n",
            "Epoch 15/50\n",
            "21/21 [==============================] - 0s 20ms/step - loss: 0.4906 - accuracy: 0.7882 - val_loss: 0.4893 - val_accuracy: 0.7971\n",
            "Epoch 16/50\n",
            "21/21 [==============================] - 0s 12ms/step - loss: 0.4784 - accuracy: 0.7991 - val_loss: 0.5389 - val_accuracy: 0.6957\n",
            "Epoch 17/50\n",
            "21/21 [==============================] - 0s 14ms/step - loss: 0.5881 - accuracy: 0.6838 - val_loss: 0.5919 - val_accuracy: 0.7283\n",
            "Epoch 18/50\n",
            "21/21 [==============================] - 0s 9ms/step - loss: 0.4931 - accuracy: 0.7695 - val_loss: 0.5220 - val_accuracy: 0.7428\n",
            "Epoch 19/50\n",
            "21/21 [==============================] - 0s 13ms/step - loss: 0.4674 - accuracy: 0.8100 - val_loss: 0.4688 - val_accuracy: 0.8007\n",
            "Epoch 20/50\n",
            "21/21 [==============================] - 0s 10ms/step - loss: 0.4581 - accuracy: 0.7991 - val_loss: 0.4731 - val_accuracy: 0.8007\n",
            "Epoch 21/50\n",
            "21/21 [==============================] - 0s 9ms/step - loss: 0.4623 - accuracy: 0.7991 - val_loss: 0.4625 - val_accuracy: 0.8007\n",
            "Epoch 22/50\n",
            "21/21 [==============================] - 0s 9ms/step - loss: 0.4769 - accuracy: 0.7882 - val_loss: 0.4636 - val_accuracy: 0.8007\n",
            "Epoch 23/50\n",
            "21/21 [==============================] - 0s 8ms/step - loss: 0.4417 - accuracy: 0.8240 - val_loss: 0.4557 - val_accuracy: 0.8080\n",
            "Epoch 24/50\n",
            "21/21 [==============================] - 0s 10ms/step - loss: 0.4457 - accuracy: 0.8100 - val_loss: 0.4698 - val_accuracy: 0.8007\n",
            "Epoch 25/50\n",
            "21/21 [==============================] - 0s 8ms/step - loss: 0.4347 - accuracy: 0.8209 - val_loss: 0.4540 - val_accuracy: 0.8007\n",
            "Epoch 26/50\n",
            "21/21 [==============================] - 0s 8ms/step - loss: 0.4758 - accuracy: 0.7866 - val_loss: 0.4745 - val_accuracy: 0.7862\n",
            "Epoch 27/50\n",
            "21/21 [==============================] - 0s 9ms/step - loss: 0.4512 - accuracy: 0.8162 - val_loss: 0.7044 - val_accuracy: 0.6993\n",
            "Epoch 28/50\n",
            "21/21 [==============================] - 0s 8ms/step - loss: 0.5740 - accuracy: 0.7414 - val_loss: 0.4451 - val_accuracy: 0.8043\n",
            "Epoch 29/50\n",
            "21/21 [==============================] - 0s 18ms/step - loss: 0.5028 - accuracy: 0.7913 - val_loss: 0.4419 - val_accuracy: 0.8080\n",
            "Epoch 30/50\n",
            "21/21 [==============================] - 0s 19ms/step - loss: 0.4236 - accuracy: 0.8271 - val_loss: 0.4594 - val_accuracy: 0.8080\n",
            "Epoch 31/50\n",
            "21/21 [==============================] - 0s 21ms/step - loss: 0.4226 - accuracy: 0.8255 - val_loss: 0.5320 - val_accuracy: 0.7826\n",
            "Epoch 32/50\n",
            "21/21 [==============================] - 0s 4ms/step - loss: 0.4506 - accuracy: 0.8100 - val_loss: 0.4989 - val_accuracy: 0.7935\n",
            "Epoch 33/50\n",
            "21/21 [==============================] - 0s 5ms/step - loss: 0.4174 - accuracy: 0.8271 - val_loss: 0.4400 - val_accuracy: 0.8080\n",
            "Epoch 34/50\n",
            "21/21 [==============================] - 0s 4ms/step - loss: 0.4072 - accuracy: 0.8318 - val_loss: 0.5433 - val_accuracy: 0.7754\n",
            "Epoch 35/50\n",
            "21/21 [==============================] - 0s 5ms/step - loss: 0.4104 - accuracy: 0.8442 - val_loss: 0.4407 - val_accuracy: 0.8080\n",
            "Epoch 36/50\n",
            "21/21 [==============================] - 0s 4ms/step - loss: 0.4247 - accuracy: 0.8209 - val_loss: 0.7147 - val_accuracy: 0.7029\n",
            "Epoch 37/50\n",
            "21/21 [==============================] - 0s 5ms/step - loss: 0.6093 - accuracy: 0.7227 - val_loss: 0.4311 - val_accuracy: 0.8043\n",
            "Epoch 38/50\n",
            "21/21 [==============================] - 0s 5ms/step - loss: 0.4236 - accuracy: 0.8224 - val_loss: 0.4256 - val_accuracy: 0.8261\n",
            "Epoch 39/50\n",
            "21/21 [==============================] - 0s 4ms/step - loss: 0.4235 - accuracy: 0.8178 - val_loss: 0.4308 - val_accuracy: 0.8152\n",
            "Epoch 40/50\n",
            "21/21 [==============================] - 0s 21ms/step - loss: 0.4123 - accuracy: 0.8224 - val_loss: 0.4272 - val_accuracy: 0.8116\n",
            "Epoch 41/50\n",
            "21/21 [==============================] - 0s 5ms/step - loss: 0.4060 - accuracy: 0.8302 - val_loss: 0.4452 - val_accuracy: 0.8080\n",
            "Epoch 42/50\n",
            "21/21 [==============================] - 0s 4ms/step - loss: 0.4548 - accuracy: 0.8084 - val_loss: 0.5787 - val_accuracy: 0.7174\n",
            "Epoch 43/50\n",
            "21/21 [==============================] - 0s 5ms/step - loss: 0.5064 - accuracy: 0.7866 - val_loss: 0.4258 - val_accuracy: 0.8225\n",
            "Epoch 44/50\n",
            "21/21 [==============================] - 0s 4ms/step - loss: 0.4151 - accuracy: 0.8271 - val_loss: 0.4312 - val_accuracy: 0.8297\n",
            "Epoch 45/50\n",
            "21/21 [==============================] - 0s 5ms/step - loss: 0.3954 - accuracy: 0.8442 - val_loss: 0.4837 - val_accuracy: 0.7899\n",
            "Epoch 46/50\n",
            "21/21 [==============================] - 0s 5ms/step - loss: 0.4380 - accuracy: 0.8115 - val_loss: 0.4215 - val_accuracy: 0.8261\n",
            "Epoch 47/50\n",
            "21/21 [==============================] - 0s 5ms/step - loss: 0.4004 - accuracy: 0.8302 - val_loss: 0.4172 - val_accuracy: 0.8116\n",
            "Epoch 48/50\n",
            "21/21 [==============================] - 0s 6ms/step - loss: 0.4138 - accuracy: 0.8255 - val_loss: 0.4175 - val_accuracy: 0.8188\n",
            "Epoch 49/50\n",
            "21/21 [==============================] - 0s 5ms/step - loss: 0.4239 - accuracy: 0.8287 - val_loss: 0.4687 - val_accuracy: 0.7862\n",
            "Epoch 50/50\n",
            "21/21 [==============================] - 0s 4ms/step - loss: 0.4538 - accuracy: 0.7991 - val_loss: 0.4157 - val_accuracy: 0.8116\n"
          ]
        },
        {
          "output_type": "execute_result",
          "data": {
            "text/plain": [
              "<keras.src.callbacks.History at 0x7b1564163af0>"
            ]
          },
          "metadata": {},
          "execution_count": 37
        }
      ]
    },
    {
      "cell_type": "code",
      "source": [
        "loss, accuracy = model.evaluate(x_test_new, y_test)\n",
        "print(f'Accuracy: {accuracy * 100:.2f}%')\n"
      ],
      "metadata": {
        "colab": {
          "base_uri": "https://localhost:8080/"
        },
        "id": "NQtIN6CQlFzU",
        "outputId": "d1725c2d-a143-43fe-835d-1c91714ed8eb"
      },
      "execution_count": null,
      "outputs": [
        {
          "output_type": "stream",
          "name": "stdout",
          "text": [
            "9/9 [==============================] - 0s 3ms/step - loss: 0.4157 - accuracy: 0.8116\n",
            "Accuracy: 81.16%\n"
          ]
        },
        {
          "output_type": "stream",
          "name": "stderr",
          "text": [
            "/usr/local/lib/python3.10/dist-packages/ipykernel/ipkernel.py:283: DeprecationWarning: `should_run_async` will not call `transform_cell` automatically in the future. Please pass the result to `transformed_cell` argument and any exception that happen during thetransform in `preprocessing_exc_tuple` in IPython 7.17 and above.\n",
            "  and should_run_async(code)\n"
          ]
        }
      ]
    },
    {
      "cell_type": "markdown",
      "source": [
        "<b>14.</b>Make a comparison tables for classification and clustering algorithms, for what you implemented here:\n"
      ],
      "metadata": {
        "id": "eVG0V5elcSi3"
      }
    },
    {
      "cell_type": "markdown",
      "source": [
        "(a)Write unknown data:\n"
      ],
      "metadata": {
        "id": "PWZQPfw3xtUo"
      }
    },
    {
      "cell_type": "code",
      "source": [
        "unknown_data = pd.DataFrame({\n",
        "    'Sex':[1],'Cholesterol': [195.0],'FastingBS': [0],'RestingECG': [1],'ExerciseAngina': [0],'Oldpeak': [1],'ST_Slope': [2]\n",
        "})"
      ],
      "metadata": {
        "id": "5Ei3q6WLxxCU"
      },
      "execution_count": null,
      "outputs": []
    },
    {
      "cell_type": "markdown",
      "source": [
        "(b)Compare performance of classification algorithms:\n"
      ],
      "metadata": {
        "id": "0cWm8MLyxrme"
      }
    },
    {
      "cell_type": "markdown",
      "source": [
        "<table>\n",
        "  <tr>\n",
        "    <th>Algorithm name</th>\n",
        "    <th>Accuracy</th>\n",
        "    <th>Sensitivity</th>\n",
        "    <th>F-measure</th>\n",
        "    <th>Precision</th>\n",
        "    <th>Recall</th>\n",
        "    <th>Predicted value for unknown data</th>\n",
        "  </tr>\n",
        "  <tr>\n",
        "    <td>KNN</td>\n",
        "    <td> 0.77</td>\n",
        "    <td> 0.56 </td>\n",
        "    <td>0.66</td>\n",
        "    <td>0.82</td>\n",
        "    <td>0.56 </td>\n",
        "    <td>[1,264.00,0,1,0,1.20,1]</td>\n",
        "  </tr>\n",
        "  <tr>\n",
        "    <td>Decision tree </td>\n",
        "    <td>0.68</td>\n",
        "    <td>0.56</td>\n",
        "    <td>0.66</td>\n",
        "    <td>0.82</td>\n",
        "    <td>0.56</td>\n",
        "    <td>[0,192.00,0,1,0,1,1]</td>\n",
        "  </tr>\n",
        "  <tr>\n",
        "    <td>SVM</td>\n",
        "    <td>0.60</td>\n",
        "    <td>0.40</td>\n",
        "    <td>0.53</td>\n",
        "    <td>0.77 </td>\n",
        "    <td>0.40</td>\n",
        "    <td>[1,190.00,1,1,0,1.20,1]</td>\n",
        "  </tr>\n",
        "  <tr>\n",
        "    <td>logistic regression</td>\n",
        "    <td>0.81</td>\n",
        "    <td>0.81</td>\n",
        "    <td>0.83</td>\n",
        "    <td>0.84</td>\n",
        "    <td>0.81</td>\n",
        "    <td>[1,224.00,0,1,0,1.20,1]</td>\n",
        "    </tr>\n"
      ],
      "metadata": {
        "id": "yva-8hV-rEkK"
      }
    },
    {
      "cell_type": "markdown",
      "source": [
        "(c) Compare performance of clustering algorithms you implemented.\n",
        "Conclude which clustering algorithm is the best for your data.\n"
      ],
      "metadata": {
        "id": "Bkd3Tp9FzaNJ"
      }
    },
    {
      "cell_type": "code",
      "source": [
        "from sklearn.cluster import KMeans, AgglomerativeClustering\n",
        "from sklearn.metrics import silhouette_score\n",
        "\n",
        "# Assuming you have your data stored in X\n",
        "\n",
        "# K-means clustering\n",
        "kmeans = KMeans(n_clusters=3, random_state=0)\n",
        "kmeans.fit(data[['Cholesterol','Oldpeak']])\n",
        "kmeans_labels = kmeans.labels_\n",
        "kmeans_silhouette_score = silhouette_score(data[['Cholesterol','Oldpeak']], kmeans_labels)\n",
        "\n",
        "# Agglomerative clustering\n",
        "agg = AgglomerativeClustering(n_clusters=3)\n",
        "agg.fit(data[['Cholesterol','Oldpeak']])\n",
        "agg_labels = agg.labels_\n",
        "agg_silhouette_score = silhouette_score(data[['Cholesterol','Oldpeak']], agg_labels)\n",
        "\n",
        "# Printing the results\n",
        "print(\"Comparison of Clustering Algorithms:\")\n",
        "print(f\"K-means Silhouette Score: {kmeans_silhouette_score}\")\n",
        "print(f\"Agglomerative Clustering Silhouette Score: {agg_silhouette_score}\")"
      ],
      "metadata": {
        "colab": {
          "base_uri": "https://localhost:8080/"
        },
        "id": "z1mxqmQ_zi6e",
        "outputId": "664e8acc-032c-4d28-b348-9ce06079fc92"
      },
      "execution_count": null,
      "outputs": [
        {
          "output_type": "stream",
          "name": "stderr",
          "text": [
            "/usr/local/lib/python3.10/dist-packages/ipykernel/ipkernel.py:283: DeprecationWarning: `should_run_async` will not call `transform_cell` automatically in the future. Please pass the result to `transformed_cell` argument and any exception that happen during thetransform in `preprocessing_exc_tuple` in IPython 7.17 and above.\n",
            "  and should_run_async(code)\n"
          ]
        },
        {
          "output_type": "stream",
          "name": "stdout",
          "text": [
            "Comparison of Clustering Algorithms:\n",
            "K-means Silhouette Score: 0.6412359569219986\n",
            "Agglomerative Clustering Silhouette Score: 0.6331864431898627\n"
          ]
        }
      ]
    },
    {
      "cell_type": "markdown",
      "source": [
        "(d) Use different distance measures as in CO2’s 3rd assignment and make a table to compare the performance of clustering algorithms you implemented. Conclude which clustering algorithm is the best for your data."
      ],
      "metadata": {
        "id": "q7yKkrOxzfU1"
      }
    },
    {
      "cell_type": "code",
      "source": [
        "import numpy as np\n",
        "from scipy.spatial.distance import cdist\n",
        "from scipy.spatial.distance import cityblock, cosine, hamming\n",
        "\n",
        "# Assuming you have already initialized X and the clustering algorithms\n",
        "X=data[['Cholesterol','Oldpeak']]\n",
        "# Calculate distances for K-means\n",
        "kmeans_distances = {\n",
        "    'Euclidean': cdist(X, kmeans.cluster_centers_, 'euclidean'),\n",
        "    'Minkowski': cdist(X, kmeans.cluster_centers_, 'minkowski', p=3),\n",
        "    'Manhattan': cdist(X, kmeans.cluster_centers_, 'cityblock'),\n",
        "    'Jaccard': cdist(X, kmeans.cluster_centers_, 'jaccard'),\n",
        "    'Cosine': cdist(X, kmeans.cluster_centers_, 'cosine'),\n",
        "    'Simple matching coefficient': cdist(X, kmeans.cluster_centers_, 'hamming')\n",
        "}\n",
        "\n",
        "# Calculate distances for Agglomerative clustering\n",
        "agg_distances = {\n",
        "    'Euclidean': cdist(X, np.array([np.mean(X, axis=0)]), 'euclidean'),\n",
        "    'Minkowski': cdist(X, np.array([np.mean(X, axis=0)]), 'minkowski', p=3),\n",
        "    'Manhattan': cdist(X, np.array([np.mean(X, axis=0)]), 'cityblock'),\n",
        "    'Jaccard': cdist(X, np.array([np.mean(X, axis=0)]), 'jaccard'),\n",
        "    'Cosine': cdist(X, np.array([np.mean(X, axis=0)]), 'cosine'),\n",
        "    'Simple matching coefficient': cdist(X, np.array([np.mean(X, axis=0)]), 'hamming')\n",
        "}\n",
        "\n",
        "# Create a table to compare the performance of clustering algorithms using different distance measures\n",
        "print(\"Comparison Table for Clustering Algorithms with Different Distance Measures:\")\n",
        "print(\"{:<30} {:<15} {:<15}\".format('Distance Measure', 'K-means', 'Agglomerative'))\n",
        "for key in kmeans_distances:\n",
        "    print(\"{:<30} {:<15} {:<15}\".format(key, np.mean(kmeans_distances[key]), np.mean(agg_distances[key])))\n",
        "\n",
        "kmeans_avg_distance = np.mean([np.mean(kmeans_distances[key]) for key in kmeans_distances])\n",
        "agg_avg_distance = np.mean([np.mean(agg_distances[key]) for key in agg_distances])\n",
        "\n",
        "if kmeans_avg_distance < agg_avg_distance:\n",
        "    print(\"K-means clustering is better for this data based on average distance.\")\n",
        "elif kmeans_avg_distance > agg_avg_distance:\n",
        "    print(\"Agglomerative clustering is better for this data based on average distance.\")\n",
        "else:\n",
        "    print(\"Both clustering algorithms perform equally well on this data based on average distance.\")"
      ],
      "metadata": {
        "colab": {
          "base_uri": "https://localhost:8080/"
        },
        "id": "GQ1WL1gW_icP",
        "outputId": "cc831702-a802-4319-d2bf-fec993ade2a4"
      },
      "execution_count": null,
      "outputs": [
        {
          "output_type": "stream",
          "name": "stdout",
          "text": [
            "Comparison Table for Clustering Algorithms with Different Distance Measures:\n",
            "Distance Measure               K-means         Agglomerative  \n",
            "Euclidean                      114.69836183068112 73.93444631498534\n",
            "Minkowski                      114.67886375312288 73.91572636510742\n",
            "Manhattan                      115.53680360449827 74.77196816514065\n",
            "Jaccard                        1.0             1.0            \n",
            "Cosine                         0.0001881248529648123 0.00014330835913913814\n",
            "Simple matching coefficient    1.0             1.0            \n",
            "Agglomerative clustering is better for this data based on average distance.\n"
          ]
        },
        {
          "output_type": "stream",
          "name": "stderr",
          "text": [
            "/usr/local/lib/python3.10/dist-packages/ipykernel/ipkernel.py:283: DeprecationWarning: `should_run_async` will not call `transform_cell` automatically in the future. Please pass the result to `transformed_cell` argument and any exception that happen during thetransform in `preprocessing_exc_tuple` in IPython 7.17 and above.\n",
            "  and should_run_async(code)\n"
          ]
        }
      ]
    },
    {
      "cell_type": "markdown",
      "source": [
        "<b>15.</b>Write any deep learning program of your choice.\n"
      ],
      "metadata": {
        "id": "D7rPzCvjcUKy"
      }
    },
    {
      "cell_type": "code",
      "source": [
        "data"
      ],
      "metadata": {
        "colab": {
          "base_uri": "https://localhost:8080/",
          "height": 478
        },
        "id": "TIPW3OKDfH5P",
        "outputId": "cbb2aaa3-d9f2-4ed7-fc67-0365cfc9fda8"
      },
      "execution_count": null,
      "outputs": [
        {
          "output_type": "stream",
          "name": "stderr",
          "text": [
            "/usr/local/lib/python3.10/dist-packages/ipykernel/ipkernel.py:283: DeprecationWarning: `should_run_async` will not call `transform_cell` automatically in the future. Please pass the result to `transformed_cell` argument and any exception that happen during thetransform in `preprocessing_exc_tuple` in IPython 7.17 and above.\n",
            "  and should_run_async(code)\n"
          ]
        },
        {
          "output_type": "execute_result",
          "data": {
            "text/plain": [
              "     Age Sex ChestPainType  RestingBP  Cholesterol  FastingBS RestingECG  \\\n",
              "0     40   M           ATA        140          289          0     Normal   \n",
              "1     49   F           NAP        160          180          0     Normal   \n",
              "2     37   M           ATA        130          283          0         ST   \n",
              "3     48   F           ASY        138          214          0     Normal   \n",
              "4     54   M           NAP        150          195          0     Normal   \n",
              "..   ...  ..           ...        ...          ...        ...        ...   \n",
              "913   45   M            TA        110          264          0     Normal   \n",
              "914   68   M           ASY        144          193          1     Normal   \n",
              "915   57   M           ASY        130          131          0     Normal   \n",
              "916   57   F           ATA        130          236          0        LVH   \n",
              "917   38   M           NAP        138          175          0     Normal   \n",
              "\n",
              "     MaxHR ExerciseAngina  Oldpeak ST_Slope  HeartDisease  \n",
              "0      172              N     0.00       Up             0  \n",
              "1      156              N     1.00     Flat             1  \n",
              "2       98              N     0.00       Up             0  \n",
              "3      108              Y     1.50     Flat             1  \n",
              "4      122              N     0.00       Up             0  \n",
              "..     ...            ...      ...      ...           ...  \n",
              "913    132              N     1.20     Flat             1  \n",
              "914    141              N     3.40     Flat             1  \n",
              "915    115              Y     1.20     Flat             1  \n",
              "916    174              N     0.00     Flat             1  \n",
              "917    173              N     0.00       Up             0  \n",
              "\n",
              "[918 rows x 12 columns]"
            ],
            "text/html": [
              "\n",
              "  <div id=\"df-53187fd0-bf69-4022-9025-6c62080d0433\" class=\"colab-df-container\">\n",
              "    <div>\n",
              "<style scoped>\n",
              "    .dataframe tbody tr th:only-of-type {\n",
              "        vertical-align: middle;\n",
              "    }\n",
              "\n",
              "    .dataframe tbody tr th {\n",
              "        vertical-align: top;\n",
              "    }\n",
              "\n",
              "    .dataframe thead th {\n",
              "        text-align: right;\n",
              "    }\n",
              "</style>\n",
              "<table border=\"1\" class=\"dataframe\">\n",
              "  <thead>\n",
              "    <tr style=\"text-align: right;\">\n",
              "      <th></th>\n",
              "      <th>Age</th>\n",
              "      <th>Sex</th>\n",
              "      <th>ChestPainType</th>\n",
              "      <th>RestingBP</th>\n",
              "      <th>Cholesterol</th>\n",
              "      <th>FastingBS</th>\n",
              "      <th>RestingECG</th>\n",
              "      <th>MaxHR</th>\n",
              "      <th>ExerciseAngina</th>\n",
              "      <th>Oldpeak</th>\n",
              "      <th>ST_Slope</th>\n",
              "      <th>HeartDisease</th>\n",
              "    </tr>\n",
              "  </thead>\n",
              "  <tbody>\n",
              "    <tr>\n",
              "      <th>0</th>\n",
              "      <td>40</td>\n",
              "      <td>M</td>\n",
              "      <td>ATA</td>\n",
              "      <td>140</td>\n",
              "      <td>289</td>\n",
              "      <td>0</td>\n",
              "      <td>Normal</td>\n",
              "      <td>172</td>\n",
              "      <td>N</td>\n",
              "      <td>0.00</td>\n",
              "      <td>Up</td>\n",
              "      <td>0</td>\n",
              "    </tr>\n",
              "    <tr>\n",
              "      <th>1</th>\n",
              "      <td>49</td>\n",
              "      <td>F</td>\n",
              "      <td>NAP</td>\n",
              "      <td>160</td>\n",
              "      <td>180</td>\n",
              "      <td>0</td>\n",
              "      <td>Normal</td>\n",
              "      <td>156</td>\n",
              "      <td>N</td>\n",
              "      <td>1.00</td>\n",
              "      <td>Flat</td>\n",
              "      <td>1</td>\n",
              "    </tr>\n",
              "    <tr>\n",
              "      <th>2</th>\n",
              "      <td>37</td>\n",
              "      <td>M</td>\n",
              "      <td>ATA</td>\n",
              "      <td>130</td>\n",
              "      <td>283</td>\n",
              "      <td>0</td>\n",
              "      <td>ST</td>\n",
              "      <td>98</td>\n",
              "      <td>N</td>\n",
              "      <td>0.00</td>\n",
              "      <td>Up</td>\n",
              "      <td>0</td>\n",
              "    </tr>\n",
              "    <tr>\n",
              "      <th>3</th>\n",
              "      <td>48</td>\n",
              "      <td>F</td>\n",
              "      <td>ASY</td>\n",
              "      <td>138</td>\n",
              "      <td>214</td>\n",
              "      <td>0</td>\n",
              "      <td>Normal</td>\n",
              "      <td>108</td>\n",
              "      <td>Y</td>\n",
              "      <td>1.50</td>\n",
              "      <td>Flat</td>\n",
              "      <td>1</td>\n",
              "    </tr>\n",
              "    <tr>\n",
              "      <th>4</th>\n",
              "      <td>54</td>\n",
              "      <td>M</td>\n",
              "      <td>NAP</td>\n",
              "      <td>150</td>\n",
              "      <td>195</td>\n",
              "      <td>0</td>\n",
              "      <td>Normal</td>\n",
              "      <td>122</td>\n",
              "      <td>N</td>\n",
              "      <td>0.00</td>\n",
              "      <td>Up</td>\n",
              "      <td>0</td>\n",
              "    </tr>\n",
              "    <tr>\n",
              "      <th>...</th>\n",
              "      <td>...</td>\n",
              "      <td>...</td>\n",
              "      <td>...</td>\n",
              "      <td>...</td>\n",
              "      <td>...</td>\n",
              "      <td>...</td>\n",
              "      <td>...</td>\n",
              "      <td>...</td>\n",
              "      <td>...</td>\n",
              "      <td>...</td>\n",
              "      <td>...</td>\n",
              "      <td>...</td>\n",
              "    </tr>\n",
              "    <tr>\n",
              "      <th>913</th>\n",
              "      <td>45</td>\n",
              "      <td>M</td>\n",
              "      <td>TA</td>\n",
              "      <td>110</td>\n",
              "      <td>264</td>\n",
              "      <td>0</td>\n",
              "      <td>Normal</td>\n",
              "      <td>132</td>\n",
              "      <td>N</td>\n",
              "      <td>1.20</td>\n",
              "      <td>Flat</td>\n",
              "      <td>1</td>\n",
              "    </tr>\n",
              "    <tr>\n",
              "      <th>914</th>\n",
              "      <td>68</td>\n",
              "      <td>M</td>\n",
              "      <td>ASY</td>\n",
              "      <td>144</td>\n",
              "      <td>193</td>\n",
              "      <td>1</td>\n",
              "      <td>Normal</td>\n",
              "      <td>141</td>\n",
              "      <td>N</td>\n",
              "      <td>3.40</td>\n",
              "      <td>Flat</td>\n",
              "      <td>1</td>\n",
              "    </tr>\n",
              "    <tr>\n",
              "      <th>915</th>\n",
              "      <td>57</td>\n",
              "      <td>M</td>\n",
              "      <td>ASY</td>\n",
              "      <td>130</td>\n",
              "      <td>131</td>\n",
              "      <td>0</td>\n",
              "      <td>Normal</td>\n",
              "      <td>115</td>\n",
              "      <td>Y</td>\n",
              "      <td>1.20</td>\n",
              "      <td>Flat</td>\n",
              "      <td>1</td>\n",
              "    </tr>\n",
              "    <tr>\n",
              "      <th>916</th>\n",
              "      <td>57</td>\n",
              "      <td>F</td>\n",
              "      <td>ATA</td>\n",
              "      <td>130</td>\n",
              "      <td>236</td>\n",
              "      <td>0</td>\n",
              "      <td>LVH</td>\n",
              "      <td>174</td>\n",
              "      <td>N</td>\n",
              "      <td>0.00</td>\n",
              "      <td>Flat</td>\n",
              "      <td>1</td>\n",
              "    </tr>\n",
              "    <tr>\n",
              "      <th>917</th>\n",
              "      <td>38</td>\n",
              "      <td>M</td>\n",
              "      <td>NAP</td>\n",
              "      <td>138</td>\n",
              "      <td>175</td>\n",
              "      <td>0</td>\n",
              "      <td>Normal</td>\n",
              "      <td>173</td>\n",
              "      <td>N</td>\n",
              "      <td>0.00</td>\n",
              "      <td>Up</td>\n",
              "      <td>0</td>\n",
              "    </tr>\n",
              "  </tbody>\n",
              "</table>\n",
              "<p>918 rows × 12 columns</p>\n",
              "</div>\n",
              "    <div class=\"colab-df-buttons\">\n",
              "\n",
              "  <div class=\"colab-df-container\">\n",
              "    <button class=\"colab-df-convert\" onclick=\"convertToInteractive('df-53187fd0-bf69-4022-9025-6c62080d0433')\"\n",
              "            title=\"Convert this dataframe to an interactive table.\"\n",
              "            style=\"display:none;\">\n",
              "\n",
              "  <svg xmlns=\"http://www.w3.org/2000/svg\" height=\"24px\" viewBox=\"0 -960 960 960\">\n",
              "    <path d=\"M120-120v-720h720v720H120Zm60-500h600v-160H180v160Zm220 220h160v-160H400v160Zm0 220h160v-160H400v160ZM180-400h160v-160H180v160Zm440 0h160v-160H620v160ZM180-180h160v-160H180v160Zm440 0h160v-160H620v160Z\"/>\n",
              "  </svg>\n",
              "    </button>\n",
              "\n",
              "  <style>\n",
              "    .colab-df-container {\n",
              "      display:flex;\n",
              "      gap: 12px;\n",
              "    }\n",
              "\n",
              "    .colab-df-convert {\n",
              "      background-color: #E8F0FE;\n",
              "      border: none;\n",
              "      border-radius: 50%;\n",
              "      cursor: pointer;\n",
              "      display: none;\n",
              "      fill: #1967D2;\n",
              "      height: 32px;\n",
              "      padding: 0 0 0 0;\n",
              "      width: 32px;\n",
              "    }\n",
              "\n",
              "    .colab-df-convert:hover {\n",
              "      background-color: #E2EBFA;\n",
              "      box-shadow: 0px 1px 2px rgba(60, 64, 67, 0.3), 0px 1px 3px 1px rgba(60, 64, 67, 0.15);\n",
              "      fill: #174EA6;\n",
              "    }\n",
              "\n",
              "    .colab-df-buttons div {\n",
              "      margin-bottom: 4px;\n",
              "    }\n",
              "\n",
              "    [theme=dark] .colab-df-convert {\n",
              "      background-color: #3B4455;\n",
              "      fill: #D2E3FC;\n",
              "    }\n",
              "\n",
              "    [theme=dark] .colab-df-convert:hover {\n",
              "      background-color: #434B5C;\n",
              "      box-shadow: 0px 1px 3px 1px rgba(0, 0, 0, 0.15);\n",
              "      filter: drop-shadow(0px 1px 2px rgba(0, 0, 0, 0.3));\n",
              "      fill: #FFFFFF;\n",
              "    }\n",
              "  </style>\n",
              "\n",
              "    <script>\n",
              "      const buttonEl =\n",
              "        document.querySelector('#df-53187fd0-bf69-4022-9025-6c62080d0433 button.colab-df-convert');\n",
              "      buttonEl.style.display =\n",
              "        google.colab.kernel.accessAllowed ? 'block' : 'none';\n",
              "\n",
              "      async function convertToInteractive(key) {\n",
              "        const element = document.querySelector('#df-53187fd0-bf69-4022-9025-6c62080d0433');\n",
              "        const dataTable =\n",
              "          await google.colab.kernel.invokeFunction('convertToInteractive',\n",
              "                                                    [key], {});\n",
              "        if (!dataTable) return;\n",
              "\n",
              "        const docLinkHtml = 'Like what you see? Visit the ' +\n",
              "          '<a target=\"_blank\" href=https://colab.research.google.com/notebooks/data_table.ipynb>data table notebook</a>'\n",
              "          + ' to learn more about interactive tables.';\n",
              "        element.innerHTML = '';\n",
              "        dataTable['output_type'] = 'display_data';\n",
              "        await google.colab.output.renderOutput(dataTable, element);\n",
              "        const docLink = document.createElement('div');\n",
              "        docLink.innerHTML = docLinkHtml;\n",
              "        element.appendChild(docLink);\n",
              "      }\n",
              "    </script>\n",
              "  </div>\n",
              "\n",
              "\n",
              "<div id=\"df-617c8b72-97d1-4a76-ac80-76bd43fcce8f\">\n",
              "  <button class=\"colab-df-quickchart\" onclick=\"quickchart('df-617c8b72-97d1-4a76-ac80-76bd43fcce8f')\"\n",
              "            title=\"Suggest charts.\"\n",
              "            style=\"display:none;\">\n",
              "\n",
              "<svg xmlns=\"http://www.w3.org/2000/svg\" height=\"24px\"viewBox=\"0 0 24 24\"\n",
              "     width=\"24px\">\n",
              "    <g>\n",
              "        <path d=\"M19 3H5c-1.1 0-2 .9-2 2v14c0 1.1.9 2 2 2h14c1.1 0 2-.9 2-2V5c0-1.1-.9-2-2-2zM9 17H7v-7h2v7zm4 0h-2V7h2v10zm4 0h-2v-4h2v4z\"/>\n",
              "    </g>\n",
              "</svg>\n",
              "  </button>\n",
              "\n",
              "<style>\n",
              "  .colab-df-quickchart {\n",
              "      --bg-color: #E8F0FE;\n",
              "      --fill-color: #1967D2;\n",
              "      --hover-bg-color: #E2EBFA;\n",
              "      --hover-fill-color: #174EA6;\n",
              "      --disabled-fill-color: #AAA;\n",
              "      --disabled-bg-color: #DDD;\n",
              "  }\n",
              "\n",
              "  [theme=dark] .colab-df-quickchart {\n",
              "      --bg-color: #3B4455;\n",
              "      --fill-color: #D2E3FC;\n",
              "      --hover-bg-color: #434B5C;\n",
              "      --hover-fill-color: #FFFFFF;\n",
              "      --disabled-bg-color: #3B4455;\n",
              "      --disabled-fill-color: #666;\n",
              "  }\n",
              "\n",
              "  .colab-df-quickchart {\n",
              "    background-color: var(--bg-color);\n",
              "    border: none;\n",
              "    border-radius: 50%;\n",
              "    cursor: pointer;\n",
              "    display: none;\n",
              "    fill: var(--fill-color);\n",
              "    height: 32px;\n",
              "    padding: 0;\n",
              "    width: 32px;\n",
              "  }\n",
              "\n",
              "  .colab-df-quickchart:hover {\n",
              "    background-color: var(--hover-bg-color);\n",
              "    box-shadow: 0 1px 2px rgba(60, 64, 67, 0.3), 0 1px 3px 1px rgba(60, 64, 67, 0.15);\n",
              "    fill: var(--button-hover-fill-color);\n",
              "  }\n",
              "\n",
              "  .colab-df-quickchart-complete:disabled,\n",
              "  .colab-df-quickchart-complete:disabled:hover {\n",
              "    background-color: var(--disabled-bg-color);\n",
              "    fill: var(--disabled-fill-color);\n",
              "    box-shadow: none;\n",
              "  }\n",
              "\n",
              "  .colab-df-spinner {\n",
              "    border: 2px solid var(--fill-color);\n",
              "    border-color: transparent;\n",
              "    border-bottom-color: var(--fill-color);\n",
              "    animation:\n",
              "      spin 1s steps(1) infinite;\n",
              "  }\n",
              "\n",
              "  @keyframes spin {\n",
              "    0% {\n",
              "      border-color: transparent;\n",
              "      border-bottom-color: var(--fill-color);\n",
              "      border-left-color: var(--fill-color);\n",
              "    }\n",
              "    20% {\n",
              "      border-color: transparent;\n",
              "      border-left-color: var(--fill-color);\n",
              "      border-top-color: var(--fill-color);\n",
              "    }\n",
              "    30% {\n",
              "      border-color: transparent;\n",
              "      border-left-color: var(--fill-color);\n",
              "      border-top-color: var(--fill-color);\n",
              "      border-right-color: var(--fill-color);\n",
              "    }\n",
              "    40% {\n",
              "      border-color: transparent;\n",
              "      border-right-color: var(--fill-color);\n",
              "      border-top-color: var(--fill-color);\n",
              "    }\n",
              "    60% {\n",
              "      border-color: transparent;\n",
              "      border-right-color: var(--fill-color);\n",
              "    }\n",
              "    80% {\n",
              "      border-color: transparent;\n",
              "      border-right-color: var(--fill-color);\n",
              "      border-bottom-color: var(--fill-color);\n",
              "    }\n",
              "    90% {\n",
              "      border-color: transparent;\n",
              "      border-bottom-color: var(--fill-color);\n",
              "    }\n",
              "  }\n",
              "</style>\n",
              "\n",
              "  <script>\n",
              "    async function quickchart(key) {\n",
              "      const quickchartButtonEl =\n",
              "        document.querySelector('#' + key + ' button');\n",
              "      quickchartButtonEl.disabled = true;  // To prevent multiple clicks.\n",
              "      quickchartButtonEl.classList.add('colab-df-spinner');\n",
              "      try {\n",
              "        const charts = await google.colab.kernel.invokeFunction(\n",
              "            'suggestCharts', [key], {});\n",
              "      } catch (error) {\n",
              "        console.error('Error during call to suggestCharts:', error);\n",
              "      }\n",
              "      quickchartButtonEl.classList.remove('colab-df-spinner');\n",
              "      quickchartButtonEl.classList.add('colab-df-quickchart-complete');\n",
              "    }\n",
              "    (() => {\n",
              "      let quickchartButtonEl =\n",
              "        document.querySelector('#df-617c8b72-97d1-4a76-ac80-76bd43fcce8f button');\n",
              "      quickchartButtonEl.style.display =\n",
              "        google.colab.kernel.accessAllowed ? 'block' : 'none';\n",
              "    })();\n",
              "  </script>\n",
              "</div>\n",
              "    </div>\n",
              "  </div>\n"
            ]
          },
          "metadata": {},
          "execution_count": 26
        }
      ]
    },
    {
      "cell_type": "code",
      "source": [
        "import numpy as np\n",
        "import pandas as pd\n",
        "\n",
        "from sklearn.feature_selection import SelectKBest ,chi2 ,f_classif\n",
        "from sklearn.preprocessing import StandardScaler , MinMaxScaler\n",
        "\n",
        "from sklearn.linear_model import LogisticRegression , Lasso , RidgeClassifier\n",
        "#from lazypredict.Supervised import LazyClassifier\n",
        "from sklearn.tree import DecisionTreeClassifier\n",
        "from sklearn.ensemble import RandomForestClassifier\n",
        "from sklearn.svm import SVC\n",
        "from sklearn.metrics import accuracy_score , confusion_matrix\n",
        "from sklearn.model_selection import train_test_split\n",
        "\n",
        "import tensorflow as tf\n",
        "import keras\n",
        "from tensorflow.keras.callbacks import ModelCheckpoint, EarlyStopping\n",
        "\n",
        "import matplotlib.pyplot as plt\n",
        "%matplotlib inline\n",
        "import seaborn as sns\n",
        "import plotly.express as px\n",
        "import plotly.graph_objects as go\n",
        "\n",
        "\n",
        "\n"
      ],
      "metadata": {
        "colab": {
          "base_uri": "https://localhost:8080/"
        },
        "id": "58oCh0xzcluE",
        "outputId": "6d25989f-729f-46d7-c550-14739ba32a44"
      },
      "execution_count": null,
      "outputs": [
        {
          "output_type": "stream",
          "name": "stderr",
          "text": [
            "/usr/local/lib/python3.10/dist-packages/ipykernel/ipkernel.py:283: DeprecationWarning: `should_run_async` will not call `transform_cell` automatically in the future. Please pass the result to `transformed_cell` argument and any exception that happen during thetransform in `preprocessing_exc_tuple` in IPython 7.17 and above.\n",
            "  and should_run_async(code)\n"
          ]
        }
      ]
    },
    {
      "cell_type": "code",
      "source": [
        "model = keras.models.Sequential([\n",
        "    keras.layers.Flatten(input_shape=(x_train_new.shape[1],)),\n",
        "    keras.layers.Dense(256 , activation = \"relu\"),\n",
        "    keras.layers.Dropout(0.3),\n",
        "    keras.layers.Dense(128 , activation = \"relu\"),\n",
        "    keras.layers.Dropout(0.25),\n",
        "\n",
        "\n",
        "    keras.layers.Dense(1 , activation = \"sigmoid\"),\n",
        "])"
      ],
      "metadata": {
        "colab": {
          "base_uri": "https://localhost:8080/"
        },
        "id": "N_oFudK6e-73",
        "outputId": "3115cf5c-75b7-469f-f75e-e3bf01e3c457"
      },
      "execution_count": null,
      "outputs": [
        {
          "output_type": "stream",
          "name": "stderr",
          "text": [
            "/usr/local/lib/python3.10/dist-packages/ipykernel/ipkernel.py:283: DeprecationWarning: `should_run_async` will not call `transform_cell` automatically in the future. Please pass the result to `transformed_cell` argument and any exception that happen during thetransform in `preprocessing_exc_tuple` in IPython 7.17 and above.\n",
            "  and should_run_async(code)\n"
          ]
        }
      ]
    },
    {
      "cell_type": "code",
      "source": [
        "model.compile(optimizer=\"adam\", loss='binary_crossentropy', metrics=['accuracy'])"
      ],
      "metadata": {
        "colab": {
          "base_uri": "https://localhost:8080/"
        },
        "id": "hFwGaXyzGN95",
        "outputId": "cc037fc2-5993-48e5-f2c8-ae097fb79fa3"
      },
      "execution_count": null,
      "outputs": [
        {
          "output_type": "stream",
          "name": "stderr",
          "text": [
            "/usr/local/lib/python3.10/dist-packages/ipykernel/ipkernel.py:283: DeprecationWarning: `should_run_async` will not call `transform_cell` automatically in the future. Please pass the result to `transformed_cell` argument and any exception that happen during thetransform in `preprocessing_exc_tuple` in IPython 7.17 and above.\n",
            "  and should_run_async(code)\n"
          ]
        }
      ]
    },
    {
      "cell_type": "code",
      "source": [
        "\n",
        "earlystopping = EarlyStopping(monitor='val_loss',\n",
        "                                        mode='min',\n",
        "                                        verbose=1,\n",
        "                                        patience=20)\n"
      ],
      "metadata": {
        "colab": {
          "base_uri": "https://localhost:8080/"
        },
        "id": "XQF1OXPeGRDG",
        "outputId": "85f9ff6d-794a-4dab-f5eb-30980740001b"
      },
      "execution_count": null,
      "outputs": [
        {
          "output_type": "stream",
          "name": "stderr",
          "text": [
            "/usr/local/lib/python3.10/dist-packages/ipykernel/ipkernel.py:283: DeprecationWarning: `should_run_async` will not call `transform_cell` automatically in the future. Please pass the result to `transformed_cell` argument and any exception that happen during thetransform in `preprocessing_exc_tuple` in IPython 7.17 and above.\n",
            "  and should_run_async(code)\n"
          ]
        }
      ]
    },
    {
      "cell_type": "code",
      "source": [
        "model.summary()"
      ],
      "metadata": {
        "colab": {
          "base_uri": "https://localhost:8080/"
        },
        "id": "SymFZZV8GUXu",
        "outputId": "355fa20f-ecb7-4b6f-93e2-847e8be102a9"
      },
      "execution_count": null,
      "outputs": [
        {
          "output_type": "stream",
          "name": "stdout",
          "text": [
            "Model: \"sequential_1\"\n",
            "_________________________________________________________________\n",
            " Layer (type)                Output Shape              Param #   \n",
            "=================================================================\n",
            " flatten (Flatten)           (None, 7)                 0         \n",
            "                                                                 \n",
            " dense_3 (Dense)             (None, 256)               2048      \n",
            "                                                                 \n",
            " dropout (Dropout)           (None, 256)               0         \n",
            "                                                                 \n",
            " dense_4 (Dense)             (None, 128)               32896     \n",
            "                                                                 \n",
            " dropout_1 (Dropout)         (None, 128)               0         \n",
            "                                                                 \n",
            " dense_5 (Dense)             (None, 1)                 129       \n",
            "                                                                 \n",
            "=================================================================\n",
            "Total params: 35073 (137.00 KB)\n",
            "Trainable params: 35073 (137.00 KB)\n",
            "Non-trainable params: 0 (0.00 Byte)\n",
            "_________________________________________________________________\n"
          ]
        },
        {
          "output_type": "stream",
          "name": "stderr",
          "text": [
            "/usr/local/lib/python3.10/dist-packages/ipykernel/ipkernel.py:283: DeprecationWarning: `should_run_async` will not call `transform_cell` automatically in the future. Please pass the result to `transformed_cell` argument and any exception that happen during thetransform in `preprocessing_exc_tuple` in IPython 7.17 and above.\n",
            "  and should_run_async(code)\n"
          ]
        }
      ]
    },
    {
      "cell_type": "code",
      "source": [
        "history = model.fit(x_train_new, y_train, validation_data=(x_test_new, y_test), epochs=300, batch_size=64, callbacks=[earlystopping])"
      ],
      "metadata": {
        "colab": {
          "base_uri": "https://localhost:8080/"
        },
        "id": "0cTX81q7GYkJ",
        "outputId": "a7c986a3-7256-4160-a258-a90f111cbae2"
      },
      "execution_count": null,
      "outputs": [
        {
          "output_type": "stream",
          "name": "stdout",
          "text": [
            "Epoch 1/300\n"
          ]
        },
        {
          "output_type": "stream",
          "name": "stderr",
          "text": [
            "/usr/local/lib/python3.10/dist-packages/ipykernel/ipkernel.py:283: DeprecationWarning: `should_run_async` will not call `transform_cell` automatically in the future. Please pass the result to `transformed_cell` argument and any exception that happen during thetransform in `preprocessing_exc_tuple` in IPython 7.17 and above.\n",
            "  and should_run_async(code)\n"
          ]
        },
        {
          "output_type": "stream",
          "name": "stdout",
          "text": [
            "11/11 [==============================] - 3s 63ms/step - loss: 6.4640 - accuracy: 0.5156 - val_loss: 2.9860 - val_accuracy: 0.4457\n",
            "Epoch 2/300\n",
            "11/11 [==============================] - 0s 20ms/step - loss: 4.7146 - accuracy: 0.4844 - val_loss: 2.8045 - val_accuracy: 0.5543\n",
            "Epoch 3/300\n",
            "11/11 [==============================] - 0s 44ms/step - loss: 3.5021 - accuracy: 0.5234 - val_loss: 0.7515 - val_accuracy: 0.5543\n",
            "Epoch 4/300\n",
            "11/11 [==============================] - 1s 61ms/step - loss: 3.0441 - accuracy: 0.5312 - val_loss: 1.7012 - val_accuracy: 0.4783\n",
            "Epoch 5/300\n",
            "11/11 [==============================] - 1s 62ms/step - loss: 2.9675 - accuracy: 0.4829 - val_loss: 1.0572 - val_accuracy: 0.5543\n",
            "Epoch 6/300\n",
            "11/11 [==============================] - 0s 42ms/step - loss: 2.5610 - accuracy: 0.5530 - val_loss: 1.6527 - val_accuracy: 0.4493\n",
            "Epoch 7/300\n",
            "11/11 [==============================] - 1s 51ms/step - loss: 2.0296 - accuracy: 0.5218 - val_loss: 0.8404 - val_accuracy: 0.5543\n",
            "Epoch 8/300\n",
            "11/11 [==============================] - 0s 17ms/step - loss: 1.9053 - accuracy: 0.5140 - val_loss: 0.9169 - val_accuracy: 0.5362\n",
            "Epoch 9/300\n",
            "11/11 [==============================] - 0s 13ms/step - loss: 1.4980 - accuracy: 0.5530 - val_loss: 0.7552 - val_accuracy: 0.5543\n",
            "Epoch 10/300\n",
            "11/11 [==============================] - 0s 12ms/step - loss: 1.4515 - accuracy: 0.5561 - val_loss: 0.6625 - val_accuracy: 0.6304\n",
            "Epoch 11/300\n",
            "11/11 [==============================] - 0s 18ms/step - loss: 1.3763 - accuracy: 0.5545 - val_loss: 0.7395 - val_accuracy: 0.5543\n",
            "Epoch 12/300\n",
            "11/11 [==============================] - 0s 18ms/step - loss: 1.2350 - accuracy: 0.5483 - val_loss: 0.6570 - val_accuracy: 0.6920\n",
            "Epoch 13/300\n",
            "11/11 [==============================] - 0s 18ms/step - loss: 1.1372 - accuracy: 0.5748 - val_loss: 0.6684 - val_accuracy: 0.6268\n",
            "Epoch 14/300\n",
            "11/11 [==============================] - 0s 14ms/step - loss: 1.0164 - accuracy: 0.5997 - val_loss: 0.7227 - val_accuracy: 0.5362\n",
            "Epoch 15/300\n",
            "11/11 [==============================] - 0s 14ms/step - loss: 0.9871 - accuracy: 0.5701 - val_loss: 0.7365 - val_accuracy: 0.5362\n",
            "Epoch 16/300\n",
            "11/11 [==============================] - 0s 13ms/step - loss: 0.9537 - accuracy: 0.5888 - val_loss: 0.7255 - val_accuracy: 0.5362\n",
            "Epoch 17/300\n",
            "11/11 [==============================] - 0s 8ms/step - loss: 0.8982 - accuracy: 0.5779 - val_loss: 0.6833 - val_accuracy: 0.5543\n",
            "Epoch 18/300\n",
            "11/11 [==============================] - 0s 9ms/step - loss: 0.9025 - accuracy: 0.5623 - val_loss: 0.6846 - val_accuracy: 0.5543\n",
            "Epoch 19/300\n",
            "11/11 [==============================] - 0s 9ms/step - loss: 0.7869 - accuracy: 0.5592 - val_loss: 0.6888 - val_accuracy: 0.5507\n",
            "Epoch 20/300\n",
            "11/11 [==============================] - 0s 9ms/step - loss: 0.7887 - accuracy: 0.5779 - val_loss: 0.6896 - val_accuracy: 0.5399\n",
            "Epoch 21/300\n",
            "11/11 [==============================] - 0s 8ms/step - loss: 0.8117 - accuracy: 0.5592 - val_loss: 0.6901 - val_accuracy: 0.5652\n",
            "Epoch 22/300\n",
            "11/11 [==============================] - 0s 7ms/step - loss: 0.7748 - accuracy: 0.5872 - val_loss: 0.6896 - val_accuracy: 0.5580\n",
            "Epoch 23/300\n",
            "11/11 [==============================] - 0s 9ms/step - loss: 0.7587 - accuracy: 0.5561 - val_loss: 0.6855 - val_accuracy: 0.5543\n",
            "Epoch 24/300\n",
            "11/11 [==============================] - 0s 10ms/step - loss: 0.7620 - accuracy: 0.5639 - val_loss: 0.6853 - val_accuracy: 0.5543\n",
            "Epoch 25/300\n",
            "11/11 [==============================] - 0s 8ms/step - loss: 0.7831 - accuracy: 0.5639 - val_loss: 0.6873 - val_accuracy: 0.5543\n",
            "Epoch 26/300\n",
            "11/11 [==============================] - 0s 9ms/step - loss: 0.7421 - accuracy: 0.5981 - val_loss: 0.6872 - val_accuracy: 0.5543\n",
            "Epoch 27/300\n",
            "11/11 [==============================] - 0s 8ms/step - loss: 0.7330 - accuracy: 0.5810 - val_loss: 0.6872 - val_accuracy: 0.5543\n",
            "Epoch 28/300\n",
            "11/11 [==============================] - 0s 9ms/step - loss: 0.7448 - accuracy: 0.5623 - val_loss: 0.6876 - val_accuracy: 0.5543\n",
            "Epoch 29/300\n",
            "11/11 [==============================] - 0s 7ms/step - loss: 0.7332 - accuracy: 0.5763 - val_loss: 0.6883 - val_accuracy: 0.5543\n",
            "Epoch 30/300\n",
            "11/11 [==============================] - 0s 8ms/step - loss: 0.7237 - accuracy: 0.5763 - val_loss: 0.6888 - val_accuracy: 0.5543\n",
            "Epoch 31/300\n",
            "11/11 [==============================] - 0s 8ms/step - loss: 0.7035 - accuracy: 0.5794 - val_loss: 0.6872 - val_accuracy: 0.5543\n",
            "Epoch 32/300\n",
            "11/11 [==============================] - 0s 9ms/step - loss: 0.7185 - accuracy: 0.5919 - val_loss: 0.6869 - val_accuracy: 0.5543\n",
            "Epoch 32: early stopping\n"
          ]
        }
      ]
    },
    {
      "cell_type": "code",
      "source": [
        "model.evaluate(x_test_new  ,y_test)"
      ],
      "metadata": {
        "colab": {
          "base_uri": "https://localhost:8080/"
        },
        "id": "XCwRVOEjGl17",
        "outputId": "6f491318-f789-4e9a-e4de-fb881beadc76"
      },
      "execution_count": null,
      "outputs": [
        {
          "output_type": "stream",
          "name": "stdout",
          "text": [
            "9/9 [==============================] - 0s 4ms/step - loss: 0.6869 - accuracy: 0.5543\n"
          ]
        },
        {
          "output_type": "stream",
          "name": "stderr",
          "text": [
            "/usr/local/lib/python3.10/dist-packages/ipykernel/ipkernel.py:283: DeprecationWarning: `should_run_async` will not call `transform_cell` automatically in the future. Please pass the result to `transformed_cell` argument and any exception that happen during thetransform in `preprocessing_exc_tuple` in IPython 7.17 and above.\n",
            "  and should_run_async(code)\n"
          ]
        },
        {
          "output_type": "execute_result",
          "data": {
            "text/plain": [
              "[0.6868999600410461, 0.554347813129425]"
            ]
          },
          "metadata": {},
          "execution_count": 71
        }
      ]
    },
    {
      "cell_type": "code",
      "source": [
        "fig, ax = plt.subplots(2,1)\n",
        "ax[0].plot(history.history['loss'], color='b', label=\"Training loss\")\n",
        "ax[0].plot(history.history['val_loss'], color='r', label=\"validation loss\",axes =ax[0])\n",
        "legend = ax[0].legend(loc='best', shadow=True)\n",
        "\n",
        "ax[1].plot(history.history['accuracy'], color='b', label=\"Training accuracy\")\n",
        "ax[1].plot(history.history['val_accuracy'], color='r',label=\"Validation accuracy\")\n",
        "legend = ax[1].legend(loc='best', shadow=True)"
      ],
      "metadata": {
        "colab": {
          "base_uri": "https://localhost:8080/",
          "height": 485
        },
        "id": "hOTSuoSEGvDh",
        "outputId": "4bba4e17-9821-48ee-db69-1419be30add1"
      },
      "execution_count": null,
      "outputs": [
        {
          "output_type": "stream",
          "name": "stderr",
          "text": [
            "/usr/local/lib/python3.10/dist-packages/ipykernel/ipkernel.py:283: DeprecationWarning: `should_run_async` will not call `transform_cell` automatically in the future. Please pass the result to `transformed_cell` argument and any exception that happen during thetransform in `preprocessing_exc_tuple` in IPython 7.17 and above.\n",
            "  and should_run_async(code)\n"
          ]
        },
        {
          "output_type": "display_data",
          "data": {
            "text/plain": [
              "<Figure size 640x480 with 2 Axes>"
            ],
            "image/png": "[encoded data removed]"
          },
          "metadata": {}
        }
      ]
    },
    {
      "cell_type": "code",
      "source": [
        "Y_pred = model.predict(x_test_new)"
      ],
      "metadata": {
        "colab": {
          "base_uri": "https://localhost:8080/"
        },
        "id": "Z-f44ZMZG9YO",
        "outputId": "3fce5f49-88d4-449c-c0be-ef250133abec"
      },
      "execution_count": null,
      "outputs": [
        {
          "output_type": "stream",
          "name": "stderr",
          "text": [
            "/usr/local/lib/python3.10/dist-packages/ipykernel/ipkernel.py:283: DeprecationWarning: `should_run_async` will not call `transform_cell` automatically in the future. Please pass the result to `transformed_cell` argument and any exception that happen during thetransform in `preprocessing_exc_tuple` in IPython 7.17 and above.\n",
            "  and should_run_async(code)\n"
          ]
        },
        {
          "output_type": "stream",
          "name": "stdout",
          "text": [
            "9/9 [==============================] - 0s 5ms/step\n"
          ]
        }
      ]
    },
    {
      "cell_type": "code",
      "source": [
        "y_pred_binary = (Y_pred > 0.5).astype(int)\n",
        "y_pred_binary.reshape(276)"
      ],
      "metadata": {
        "colab": {
          "base_uri": "https://localhost:8080/"
        },
        "id": "N9t6ZQliHBZA",
        "outputId": "922907d4-6aa5-47dc-c181-a5d91555142d"
      },
      "execution_count": null,
      "outputs": [
        {
          "output_type": "stream",
          "name": "stderr",
          "text": [
            "/usr/local/lib/python3.10/dist-packages/ipykernel/ipkernel.py:283: DeprecationWarning: `should_run_async` will not call `transform_cell` automatically in the future. Please pass the result to `transformed_cell` argument and any exception that happen during thetransform in `preprocessing_exc_tuple` in IPython 7.17 and above.\n",
            "  and should_run_async(code)\n"
          ]
        },
        {
          "output_type": "execute_result",
          "data": {
            "text/plain": [
              "array([1, 1, 1, 1, 1, 1, 1, 1, 1, 1, 1, 1, 1, 1, 1, 1, 1, 1, 1, 1, 1, 1,\n",
              "       1, 1, 1, 1, 1, 1, 1, 1, 1, 1, 1, 1, 1, 1, 1, 1, 1, 1, 1, 1, 1, 1,\n",
              "       1, 1, 1, 1, 1, 1, 1, 1, 1, 1, 1, 1, 1, 1, 1, 1, 1, 1, 1, 1, 1, 1,\n",
              "       1, 1, 1, 1, 1, 1, 1, 1, 1, 1, 1, 1, 1, 1, 1, 1, 1, 1, 1, 1, 1, 1,\n",
              "       1, 1, 1, 1, 1, 1, 1, 1, 1, 1, 1, 1, 1, 1, 1, 1, 1, 1, 1, 1, 1, 1,\n",
              "       1, 1, 1, 1, 1, 1, 1, 1, 1, 1, 1, 1, 1, 1, 1, 1, 1, 1, 1, 1, 1, 1,\n",
              "       1, 1, 1, 1, 1, 1, 1, 1, 1, 1, 1, 1, 1, 1, 1, 1, 1, 1, 1, 1, 1, 1,\n",
              "       1, 1, 1, 1, 1, 1, 1, 1, 1, 1, 1, 1, 1, 1, 1, 1, 1, 1, 1, 1, 1, 1,\n",
              "       1, 1, 1, 1, 1, 1, 1, 1, 1, 1, 1, 1, 1, 1, 1, 1, 1, 1, 1, 1, 1, 1,\n",
              "       1, 1, 1, 1, 1, 1, 1, 1, 1, 1, 1, 1, 1, 1, 1, 1, 1, 1, 1, 1, 1, 1,\n",
              "       1, 1, 1, 1, 1, 1, 1, 1, 1, 1, 1, 1, 1, 1, 1, 1, 1, 1, 1, 1, 1, 1,\n",
              "       1, 1, 1, 1, 1, 1, 1, 1, 1, 1, 1, 1, 1, 1, 1, 1, 1, 1, 1, 1, 1, 1,\n",
              "       1, 1, 1, 1, 1, 1, 1, 1, 1, 1, 1, 1])"
            ]
          },
          "metadata": {},
          "execution_count": 74
        }
      ]
    },
    {
      "cell_type": "code",
      "source": [
        "ann_cm = confusion_matrix(y_test, y_pred_binary)\n",
        "ann_acc = round(accuracy_score(y_pred_binary,y_test) * 100, 2)\n",
        "print(ann_cm)\n",
        "print(ann_acc,'%')"
      ],
      "metadata": {
        "colab": {
          "base_uri": "https://localhost:8080/"
        },
        "id": "_KJRUtOOHDv1",
        "outputId": "3fbc5099-35eb-4064-cc2d-5808a2d386e0"
      },
      "execution_count": null,
      "outputs": [
        {
          "output_type": "stream",
          "name": "stdout",
          "text": [
            "[[  0 123]\n",
            " [  0 153]]\n",
            "55.43 %\n"
          ]
        },
        {
          "output_type": "stream",
          "name": "stderr",
          "text": [
            "/usr/local/lib/python3.10/dist-packages/ipykernel/ipkernel.py:283: DeprecationWarning: `should_run_async` will not call `transform_cell` automatically in the future. Please pass the result to `transformed_cell` argument and any exception that happen during thetransform in `preprocessing_exc_tuple` in IPython 7.17 and above.\n",
            "  and should_run_async(code)\n"
          ]
        }
      ]
    }
  ]
}