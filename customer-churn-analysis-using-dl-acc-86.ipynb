{
 "cells": [
  {
   "cell_type": "markdown",
   "id": "d8ed34c9",
   "metadata": {
    "papermill": {
     "duration": 0.014344,
     "end_time": "2023-08-27T01:30:52.848894",
     "exception": false,
     "start_time": "2023-08-27T01:30:52.834550",
     "status": "completed"
    },
    "tags": []
   },
   "source": [
    "## Introduction"
   ]
  },
  {
   "cell_type": "markdown",
   "id": "28c56c21",
   "metadata": {
    "papermill": {
     "duration": 0.013129,
     "end_time": "2023-08-27T01:30:52.876148",
     "exception": false,
     "start_time": "2023-08-27T01:30:52.863019",
     "status": "completed"
    },
    "tags": []
   },
   "source": [
    "In this Kaggle notebook, we tackle the practical challenge of predicting customer churn within the banking sector. With a dataset of 10,000 records at hand, our focus is on uncovering insights and patterns that indicate a customer's likelihood of leaving the bank. By utilizing deep learning techniques, we aim to provide a data-driven approach to identifying potential churn and contributing to effective retention strategies."
   ]
  },
  {
   "cell_type": "markdown",
   "id": "6bfad2ca",
   "metadata": {
    "papermill": {
     "duration": 0.01496,
     "end_time": "2023-08-27T01:30:52.904939",
     "exception": false,
     "start_time": "2023-08-27T01:30:52.889979",
     "status": "completed"
    },
    "tags": []
   },
   "source": [
    "For that our job consist of some steps :\n",
    "1. Getting The Data\n",
    "2. Cleaning Our Data\n",
    "3. Data Preproccessing And Feature Engineering\n",
    "4. Building Our Neural Network Model \n",
    "5. Making Predictions "
   ]
  },
  {
   "cell_type": "markdown",
   "id": "017a9eef",
   "metadata": {
    "papermill": {
     "duration": 0.013555,
     "end_time": "2023-08-27T01:30:52.932074",
     "exception": false,
     "start_time": "2023-08-27T01:30:52.918519",
     "status": "completed"
    },
    "tags": []
   },
   "source": [
    "## Imports"
   ]
  },
  {
   "cell_type": "code",
   "execution_count": 1,
   "id": "96137341",
   "metadata": {
    "_kg_hide-input": false,
    "_kg_hide-output": true,
    "execution": {
     "iopub.execute_input": "2023-08-27T01:30:52.962597Z",
     "iopub.status.busy": "2023-08-27T01:30:52.961482Z",
     "iopub.status.idle": "2023-08-27T01:31:04.511646Z",
     "shell.execute_reply": "2023-08-27T01:31:04.510134Z"
    },
    "papermill": {
     "duration": 11.569716,
     "end_time": "2023-08-27T01:31:04.515465",
     "exception": false,
     "start_time": "2023-08-27T01:30:52.945749",
     "status": "completed"
    },
    "tags": []
   },
   "outputs": [
    {
     "name": "stderr",
     "output_type": "stream",
     "text": [
      "/opt/conda/lib/python3.10/site-packages/scipy/__init__.py:146: UserWarning: A NumPy version >=1.16.5 and <1.23.0 is required for this version of SciPy (detected version 1.23.5\n",
      "  warnings.warn(f\"A NumPy version >={np_minversion} and <{np_maxversion}\"\n",
      "/opt/conda/lib/python3.10/site-packages/tensorflow_io/python/ops/__init__.py:98: UserWarning: unable to load libtensorflow_io_plugins.so: unable to open file: libtensorflow_io_plugins.so, from paths: ['/opt/conda/lib/python3.10/site-packages/tensorflow_io/python/ops/libtensorflow_io_plugins.so']\n",
      "caused by: ['/opt/conda/lib/python3.10/site-packages/tensorflow_io/python/ops/libtensorflow_io_plugins.so: undefined symbol: _ZN3tsl6StatusC1EN10tensorflow5error4CodeESt17basic_string_viewIcSt11char_traitsIcEENS_14SourceLocationE']\n",
      "  warnings.warn(f\"unable to load libtensorflow_io_plugins.so: {e}\")\n",
      "/opt/conda/lib/python3.10/site-packages/tensorflow_io/python/ops/__init__.py:104: UserWarning: file system plugins are not loaded: unable to open file: libtensorflow_io.so, from paths: ['/opt/conda/lib/python3.10/site-packages/tensorflow_io/python/ops/libtensorflow_io.so']\n",
      "caused by: ['/opt/conda/lib/python3.10/site-packages/tensorflow_io/python/ops/libtensorflow_io.so: undefined symbol: _ZTVN10tensorflow13GcsFileSystemE']\n",
      "  warnings.warn(f\"file system plugins are not loaded: {e}\")\n"
     ]
    }
   ],
   "source": [
    "import numpy as np\n",
    "import pandas as pd\n",
    "import matplotlib.pyplot as plt\n",
    "import seaborn as sns\n",
    "from sklearn.preprocessing import MinMaxScaler\n",
    "from sklearn.model_selection import train_test_split\n",
    "import tensorflow as tf\n",
    "from tensorflow.keras.callbacks import EarlyStopping\n",
    "from sklearn.model_selection import GridSearchCV\n",
    "from tensorflow.keras.wrappers.scikit_learn import KerasClassifier"
   ]
  },
  {
   "cell_type": "markdown",
   "id": "e243e9db",
   "metadata": {
    "papermill": {
     "duration": 0.013521,
     "end_time": "2023-08-27T01:31:04.543296",
     "exception": false,
     "start_time": "2023-08-27T01:31:04.529775",
     "status": "completed"
    },
    "tags": []
   },
   "source": [
    "## Getting The Data"
   ]
  },
  {
   "cell_type": "markdown",
   "id": "1fdd834c",
   "metadata": {
    "papermill": {
     "duration": 0.013345,
     "end_time": "2023-08-27T01:31:04.570324",
     "exception": false,
     "start_time": "2023-08-27T01:31:04.556979",
     "status": "completed"
    },
    "tags": []
   },
   "source": [
    "Since Our data is a csv format it would be a great choise to transforme it into a DataFrame using **read_csv** "
   ]
  },
  {
   "cell_type": "code",
   "execution_count": 2,
   "id": "13c76242",
   "metadata": {
    "execution": {
     "iopub.execute_input": "2023-08-27T01:31:04.600395Z",
     "iopub.status.busy": "2023-08-27T01:31:04.599389Z",
     "iopub.status.idle": "2023-08-27T01:31:04.684299Z",
     "shell.execute_reply": "2023-08-27T01:31:04.683203Z"
    },
    "papermill": {
     "duration": 0.103178,
     "end_time": "2023-08-27T01:31:04.686912",
     "exception": false,
     "start_time": "2023-08-27T01:31:04.583734",
     "status": "completed"
    },
    "tags": []
   },
   "outputs": [
    {
     "data": {
      "text/html": [
       "<div>\n",
       "<style scoped>\n",
       "    .dataframe tbody tr th:only-of-type {\n",
       "        vertical-align: middle;\n",
       "    }\n",
       "\n",
       "    .dataframe tbody tr th {\n",
       "        vertical-align: top;\n",
       "    }\n",
       "\n",
       "    .dataframe thead th {\n",
       "        text-align: right;\n",
       "    }\n",
       "</style>\n",
       "<table border=\"1\" class=\"dataframe\">\n",
       "  <thead>\n",
       "    <tr style=\"text-align: right;\">\n",
       "      <th></th>\n",
       "      <th>RowNumber</th>\n",
       "      <th>CustomerId</th>\n",
       "      <th>Surname</th>\n",
       "      <th>CreditScore</th>\n",
       "      <th>Geography</th>\n",
       "      <th>Gender</th>\n",
       "      <th>Age</th>\n",
       "      <th>Tenure</th>\n",
       "      <th>Balance</th>\n",
       "      <th>NumOfProducts</th>\n",
       "      <th>HasCrCard</th>\n",
       "      <th>IsActiveMember</th>\n",
       "      <th>EstimatedSalary</th>\n",
       "      <th>Exited</th>\n",
       "    </tr>\n",
       "  </thead>\n",
       "  <tbody>\n",
       "    <tr>\n",
       "      <th>0</th>\n",
       "      <td>1</td>\n",
       "      <td>15634602</td>\n",
       "      <td>Hargrave</td>\n",
       "      <td>619</td>\n",
       "      <td>France</td>\n",
       "      <td>Female</td>\n",
       "      <td>42</td>\n",
       "      <td>2</td>\n",
       "      <td>0.00</td>\n",
       "      <td>1</td>\n",
       "      <td>1</td>\n",
       "      <td>1</td>\n",
       "      <td>101348.88</td>\n",
       "      <td>1</td>\n",
       "    </tr>\n",
       "    <tr>\n",
       "      <th>1</th>\n",
       "      <td>2</td>\n",
       "      <td>15647311</td>\n",
       "      <td>Hill</td>\n",
       "      <td>608</td>\n",
       "      <td>Spain</td>\n",
       "      <td>Female</td>\n",
       "      <td>41</td>\n",
       "      <td>1</td>\n",
       "      <td>83807.86</td>\n",
       "      <td>1</td>\n",
       "      <td>0</td>\n",
       "      <td>1</td>\n",
       "      <td>112542.58</td>\n",
       "      <td>0</td>\n",
       "    </tr>\n",
       "    <tr>\n",
       "      <th>2</th>\n",
       "      <td>3</td>\n",
       "      <td>15619304</td>\n",
       "      <td>Onio</td>\n",
       "      <td>502</td>\n",
       "      <td>France</td>\n",
       "      <td>Female</td>\n",
       "      <td>42</td>\n",
       "      <td>8</td>\n",
       "      <td>159660.80</td>\n",
       "      <td>3</td>\n",
       "      <td>1</td>\n",
       "      <td>0</td>\n",
       "      <td>113931.57</td>\n",
       "      <td>1</td>\n",
       "    </tr>\n",
       "    <tr>\n",
       "      <th>3</th>\n",
       "      <td>4</td>\n",
       "      <td>15701354</td>\n",
       "      <td>Boni</td>\n",
       "      <td>699</td>\n",
       "      <td>France</td>\n",
       "      <td>Female</td>\n",
       "      <td>39</td>\n",
       "      <td>1</td>\n",
       "      <td>0.00</td>\n",
       "      <td>2</td>\n",
       "      <td>0</td>\n",
       "      <td>0</td>\n",
       "      <td>93826.63</td>\n",
       "      <td>0</td>\n",
       "    </tr>\n",
       "    <tr>\n",
       "      <th>4</th>\n",
       "      <td>5</td>\n",
       "      <td>15737888</td>\n",
       "      <td>Mitchell</td>\n",
       "      <td>850</td>\n",
       "      <td>Spain</td>\n",
       "      <td>Female</td>\n",
       "      <td>43</td>\n",
       "      <td>2</td>\n",
       "      <td>125510.82</td>\n",
       "      <td>1</td>\n",
       "      <td>1</td>\n",
       "      <td>1</td>\n",
       "      <td>79084.10</td>\n",
       "      <td>0</td>\n",
       "    </tr>\n",
       "  </tbody>\n",
       "</table>\n",
       "</div>"
      ],
      "text/plain": [
       "   RowNumber  CustomerId   Surname  CreditScore Geography  Gender  Age  \\\n",
       "0          1    15634602  Hargrave          619    France  Female   42   \n",
       "1          2    15647311      Hill          608     Spain  Female   41   \n",
       "2          3    15619304      Onio          502    France  Female   42   \n",
       "3          4    15701354      Boni          699    France  Female   39   \n",
       "4          5    15737888  Mitchell          850     Spain  Female   43   \n",
       "\n",
       "   Tenure    Balance  NumOfProducts  HasCrCard  IsActiveMember  \\\n",
       "0       2       0.00              1          1               1   \n",
       "1       1   83807.86              1          0               1   \n",
       "2       8  159660.80              3          1               0   \n",
       "3       1       0.00              2          0               0   \n",
       "4       2  125510.82              1          1               1   \n",
       "\n",
       "   EstimatedSalary  Exited  \n",
       "0        101348.88       1  \n",
       "1        112542.58       0  \n",
       "2        113931.57       1  \n",
       "3         93826.63       0  \n",
       "4         79084.10       0  "
      ]
     },
     "execution_count": 2,
     "metadata": {},
     "output_type": "execute_result"
    }
   ],
   "source": [
    "data = pd.read_csv(\"/kaggle/input/deep-learning-az-ann/Churn_Modelling.csv\")\n",
    "data.head()"
   ]
  },
  {
   "cell_type": "markdown",
   "id": "b6634c06",
   "metadata": {
    "papermill": {
     "duration": 0.013726,
     "end_time": "2023-08-27T01:31:04.715442",
     "exception": false,
     "start_time": "2023-08-27T01:31:04.701716",
     "status": "completed"
    },
    "tags": []
   },
   "source": [
    "## Data Statistics"
   ]
  },
  {
   "cell_type": "markdown",
   "id": "5238a9c0",
   "metadata": {
    "papermill": {
     "duration": 0.013511,
     "end_time": "2023-08-27T01:31:04.743132",
     "exception": false,
     "start_time": "2023-08-27T01:31:04.729621",
     "status": "completed"
    },
    "tags": []
   },
   "source": [
    "Now that we got our data , our job is to have a look at it and understand its structure"
   ]
  },
  {
   "cell_type": "code",
   "execution_count": 3,
   "id": "824e6f0f",
   "metadata": {
    "execution": {
     "iopub.execute_input": "2023-08-27T01:31:04.772826Z",
     "iopub.status.busy": "2023-08-27T01:31:04.772385Z",
     "iopub.status.idle": "2023-08-27T01:31:04.819103Z",
     "shell.execute_reply": "2023-08-27T01:31:04.816928Z"
    },
    "papermill": {
     "duration": 0.064864,
     "end_time": "2023-08-27T01:31:04.821921",
     "exception": false,
     "start_time": "2023-08-27T01:31:04.757057",
     "status": "completed"
    },
    "tags": []
   },
   "outputs": [
    {
     "name": "stdout",
     "output_type": "stream",
     "text": [
      "<class 'pandas.core.frame.DataFrame'>\n",
      "RangeIndex: 10000 entries, 0 to 9999\n",
      "Data columns (total 14 columns):\n",
      " #   Column           Non-Null Count  Dtype  \n",
      "---  ------           --------------  -----  \n",
      " 0   RowNumber        10000 non-null  int64  \n",
      " 1   CustomerId       10000 non-null  int64  \n",
      " 2   Surname          10000 non-null  object \n",
      " 3   CreditScore      10000 non-null  int64  \n",
      " 4   Geography        10000 non-null  object \n",
      " 5   Gender           10000 non-null  object \n",
      " 6   Age              10000 non-null  int64  \n",
      " 7   Tenure           10000 non-null  int64  \n",
      " 8   Balance          10000 non-null  float64\n",
      " 9   NumOfProducts    10000 non-null  int64  \n",
      " 10  HasCrCard        10000 non-null  int64  \n",
      " 11  IsActiveMember   10000 non-null  int64  \n",
      " 12  EstimatedSalary  10000 non-null  float64\n",
      " 13  Exited           10000 non-null  int64  \n",
      "dtypes: float64(2), int64(9), object(3)\n",
      "memory usage: 1.1+ MB\n"
     ]
    }
   ],
   "source": [
    "data.info()"
   ]
  },
  {
   "cell_type": "code",
   "execution_count": 4,
   "id": "9a074394",
   "metadata": {
    "execution": {
     "iopub.execute_input": "2023-08-27T01:31:04.852491Z",
     "iopub.status.busy": "2023-08-27T01:31:04.851949Z",
     "iopub.status.idle": "2023-08-27T01:31:04.910875Z",
     "shell.execute_reply": "2023-08-27T01:31:04.909946Z"
    },
    "papermill": {
     "duration": 0.076596,
     "end_time": "2023-08-27T01:31:04.913122",
     "exception": false,
     "start_time": "2023-08-27T01:31:04.836526",
     "status": "completed"
    },
    "tags": []
   },
   "outputs": [
    {
     "data": {
      "text/html": [
       "<div>\n",
       "<style scoped>\n",
       "    .dataframe tbody tr th:only-of-type {\n",
       "        vertical-align: middle;\n",
       "    }\n",
       "\n",
       "    .dataframe tbody tr th {\n",
       "        vertical-align: top;\n",
       "    }\n",
       "\n",
       "    .dataframe thead th {\n",
       "        text-align: right;\n",
       "    }\n",
       "</style>\n",
       "<table border=\"1\" class=\"dataframe\">\n",
       "  <thead>\n",
       "    <tr style=\"text-align: right;\">\n",
       "      <th></th>\n",
       "      <th>RowNumber</th>\n",
       "      <th>CustomerId</th>\n",
       "      <th>CreditScore</th>\n",
       "      <th>Age</th>\n",
       "      <th>Tenure</th>\n",
       "      <th>Balance</th>\n",
       "      <th>NumOfProducts</th>\n",
       "      <th>HasCrCard</th>\n",
       "      <th>IsActiveMember</th>\n",
       "      <th>EstimatedSalary</th>\n",
       "      <th>Exited</th>\n",
       "    </tr>\n",
       "  </thead>\n",
       "  <tbody>\n",
       "    <tr>\n",
       "      <th>count</th>\n",
       "      <td>10000.00000</td>\n",
       "      <td>1.000000e+04</td>\n",
       "      <td>10000.000000</td>\n",
       "      <td>10000.000000</td>\n",
       "      <td>10000.000000</td>\n",
       "      <td>10000.000000</td>\n",
       "      <td>10000.000000</td>\n",
       "      <td>10000.00000</td>\n",
       "      <td>10000.000000</td>\n",
       "      <td>10000.000000</td>\n",
       "      <td>10000.000000</td>\n",
       "    </tr>\n",
       "    <tr>\n",
       "      <th>mean</th>\n",
       "      <td>5000.50000</td>\n",
       "      <td>1.569094e+07</td>\n",
       "      <td>650.528800</td>\n",
       "      <td>38.921800</td>\n",
       "      <td>5.012800</td>\n",
       "      <td>76485.889288</td>\n",
       "      <td>1.530200</td>\n",
       "      <td>0.70550</td>\n",
       "      <td>0.515100</td>\n",
       "      <td>100090.239881</td>\n",
       "      <td>0.203700</td>\n",
       "    </tr>\n",
       "    <tr>\n",
       "      <th>std</th>\n",
       "      <td>2886.89568</td>\n",
       "      <td>7.193619e+04</td>\n",
       "      <td>96.653299</td>\n",
       "      <td>10.487806</td>\n",
       "      <td>2.892174</td>\n",
       "      <td>62397.405202</td>\n",
       "      <td>0.581654</td>\n",
       "      <td>0.45584</td>\n",
       "      <td>0.499797</td>\n",
       "      <td>57510.492818</td>\n",
       "      <td>0.402769</td>\n",
       "    </tr>\n",
       "    <tr>\n",
       "      <th>min</th>\n",
       "      <td>1.00000</td>\n",
       "      <td>1.556570e+07</td>\n",
       "      <td>350.000000</td>\n",
       "      <td>18.000000</td>\n",
       "      <td>0.000000</td>\n",
       "      <td>0.000000</td>\n",
       "      <td>1.000000</td>\n",
       "      <td>0.00000</td>\n",
       "      <td>0.000000</td>\n",
       "      <td>11.580000</td>\n",
       "      <td>0.000000</td>\n",
       "    </tr>\n",
       "    <tr>\n",
       "      <th>25%</th>\n",
       "      <td>2500.75000</td>\n",
       "      <td>1.562853e+07</td>\n",
       "      <td>584.000000</td>\n",
       "      <td>32.000000</td>\n",
       "      <td>3.000000</td>\n",
       "      <td>0.000000</td>\n",
       "      <td>1.000000</td>\n",
       "      <td>0.00000</td>\n",
       "      <td>0.000000</td>\n",
       "      <td>51002.110000</td>\n",
       "      <td>0.000000</td>\n",
       "    </tr>\n",
       "    <tr>\n",
       "      <th>50%</th>\n",
       "      <td>5000.50000</td>\n",
       "      <td>1.569074e+07</td>\n",
       "      <td>652.000000</td>\n",
       "      <td>37.000000</td>\n",
       "      <td>5.000000</td>\n",
       "      <td>97198.540000</td>\n",
       "      <td>1.000000</td>\n",
       "      <td>1.00000</td>\n",
       "      <td>1.000000</td>\n",
       "      <td>100193.915000</td>\n",
       "      <td>0.000000</td>\n",
       "    </tr>\n",
       "    <tr>\n",
       "      <th>75%</th>\n",
       "      <td>7500.25000</td>\n",
       "      <td>1.575323e+07</td>\n",
       "      <td>718.000000</td>\n",
       "      <td>44.000000</td>\n",
       "      <td>7.000000</td>\n",
       "      <td>127644.240000</td>\n",
       "      <td>2.000000</td>\n",
       "      <td>1.00000</td>\n",
       "      <td>1.000000</td>\n",
       "      <td>149388.247500</td>\n",
       "      <td>0.000000</td>\n",
       "    </tr>\n",
       "    <tr>\n",
       "      <th>max</th>\n",
       "      <td>10000.00000</td>\n",
       "      <td>1.581569e+07</td>\n",
       "      <td>850.000000</td>\n",
       "      <td>92.000000</td>\n",
       "      <td>10.000000</td>\n",
       "      <td>250898.090000</td>\n",
       "      <td>4.000000</td>\n",
       "      <td>1.00000</td>\n",
       "      <td>1.000000</td>\n",
       "      <td>199992.480000</td>\n",
       "      <td>1.000000</td>\n",
       "    </tr>\n",
       "  </tbody>\n",
       "</table>\n",
       "</div>"
      ],
      "text/plain": [
       "         RowNumber    CustomerId   CreditScore           Age        Tenure  \\\n",
       "count  10000.00000  1.000000e+04  10000.000000  10000.000000  10000.000000   \n",
       "mean    5000.50000  1.569094e+07    650.528800     38.921800      5.012800   \n",
       "std     2886.89568  7.193619e+04     96.653299     10.487806      2.892174   \n",
       "min        1.00000  1.556570e+07    350.000000     18.000000      0.000000   \n",
       "25%     2500.75000  1.562853e+07    584.000000     32.000000      3.000000   \n",
       "50%     5000.50000  1.569074e+07    652.000000     37.000000      5.000000   \n",
       "75%     7500.25000  1.575323e+07    718.000000     44.000000      7.000000   \n",
       "max    10000.00000  1.581569e+07    850.000000     92.000000     10.000000   \n",
       "\n",
       "             Balance  NumOfProducts    HasCrCard  IsActiveMember  \\\n",
       "count   10000.000000   10000.000000  10000.00000    10000.000000   \n",
       "mean    76485.889288       1.530200      0.70550        0.515100   \n",
       "std     62397.405202       0.581654      0.45584        0.499797   \n",
       "min         0.000000       1.000000      0.00000        0.000000   \n",
       "25%         0.000000       1.000000      0.00000        0.000000   \n",
       "50%     97198.540000       1.000000      1.00000        1.000000   \n",
       "75%    127644.240000       2.000000      1.00000        1.000000   \n",
       "max    250898.090000       4.000000      1.00000        1.000000   \n",
       "\n",
       "       EstimatedSalary        Exited  \n",
       "count     10000.000000  10000.000000  \n",
       "mean     100090.239881      0.203700  \n",
       "std       57510.492818      0.402769  \n",
       "min          11.580000      0.000000  \n",
       "25%       51002.110000      0.000000  \n",
       "50%      100193.915000      0.000000  \n",
       "75%      149388.247500      0.000000  \n",
       "max      199992.480000      1.000000  "
      ]
     },
     "execution_count": 4,
     "metadata": {},
     "output_type": "execute_result"
    }
   ],
   "source": [
    "data.describe()"
   ]
  },
  {
   "cell_type": "code",
   "execution_count": 5,
   "id": "87002738",
   "metadata": {
    "execution": {
     "iopub.execute_input": "2023-08-27T01:31:04.946771Z",
     "iopub.status.busy": "2023-08-27T01:31:04.946014Z",
     "iopub.status.idle": "2023-08-27T01:31:06.157764Z",
     "shell.execute_reply": "2023-08-27T01:31:06.156331Z"
    },
    "papermill": {
     "duration": 1.231155,
     "end_time": "2023-08-27T01:31:06.160399",
     "exception": false,
     "start_time": "2023-08-27T01:31:04.929244",
     "status": "completed"
    },
    "tags": []
   },
   "outputs": [
    {
     "data": {
      "image/png": "[encoded data removed]",
      "text/plain": [
       "<Figure size 2400x1800 with 6 Axes>"
      ]
     },
     "metadata": {},
     "output_type": "display_data"
    }
   ],
   "source": [
    "fig, axes = plt.subplots(3, 2, figsize=(24,18))\n",
    "axes = axes.flatten()\n",
    "features = [\"Geography\",\"Gender\",\"Tenure\",\"NumOfProducts\",\"HasCrCard\",\"IsActiveMember\"]\n",
    "for i in range(len(features)):\n",
    "    sns.countplot(x=features[i],data=data, palette=\"Set2\",ax=axes[i])\n",
    "    \n",
    "plt.show()"
   ]
  },
  {
   "cell_type": "code",
   "execution_count": 6,
   "id": "4c352326",
   "metadata": {
    "execution": {
     "iopub.execute_input": "2023-08-27T01:31:06.195082Z",
     "iopub.status.busy": "2023-08-27T01:31:06.194663Z",
     "iopub.status.idle": "2023-08-27T01:31:06.452930Z",
     "shell.execute_reply": "2023-08-27T01:31:06.451608Z"
    },
    "papermill": {
     "duration": 0.279284,
     "end_time": "2023-08-27T01:31:06.455725",
     "exception": false,
     "start_time": "2023-08-27T01:31:06.176441",
     "status": "completed"
    },
    "tags": []
   },
   "outputs": [
    {
     "data": {
      "text/plain": [
       "<Axes: xlabel='Exited', ylabel='count'>"
      ]
     },
     "execution_count": 6,
     "metadata": {},
     "output_type": "execute_result"
    },
    {
     "data": {
      "image/png": "[encoded data removed]",
      "text/plain": [
       "<Figure size 640x480 with 1 Axes>"
      ]
     },
     "metadata": {},
     "output_type": "display_data"
    }
   ],
   "source": [
    "sns.countplot(x=\"Exited\",data=data, palette=\"Set2\")"
   ]
  },
  {
   "cell_type": "markdown",
   "id": "67e15c0c",
   "metadata": {
    "papermill": {
     "duration": 0.016624,
     "end_time": "2023-08-27T01:31:06.489535",
     "exception": false,
     "start_time": "2023-08-27T01:31:06.472911",
     "status": "completed"
    },
    "tags": []
   },
   "source": [
    "Looking at the info and the charts plotted we can understand that we have a dataset with **10000 observations** with **0 Missing Values** that contains 13 features/inputs and a single target/output which is **Exited** .\n",
    "\n",
    "We Can also notice that we have 3 catagorical features to encode and the rest is all numerical . We will cover that in the cleaning faze of this notebook.\n",
    "\n",
    "We Can Conclude from the charts that we have an umbalanced dataset we have 8000 customer that didn't quit and 2000 customer quit and it wouldn't make sens if they were balanced because we would have a huge number of customers that quited the bank .\n",
    "\n",
    "Looking at the other plots we can see that most of the customers are : from france , males and have a card . Also , we have a balanced Tensure and Activity of Members which explains the quit rate : We have about 5000 unactive members which with time they would quit "
   ]
  },
  {
   "cell_type": "code",
   "execution_count": 7,
   "id": "8572ccdc",
   "metadata": {
    "execution": {
     "iopub.execute_input": "2023-08-27T01:31:06.524649Z",
     "iopub.status.busy": "2023-08-27T01:31:06.524227Z",
     "iopub.status.idle": "2023-08-27T01:31:06.544364Z",
     "shell.execute_reply": "2023-08-27T01:31:06.542640Z"
    },
    "papermill": {
     "duration": 0.040488,
     "end_time": "2023-08-27T01:31:06.546893",
     "exception": false,
     "start_time": "2023-08-27T01:31:06.506405",
     "status": "completed"
    },
    "tags": []
   },
   "outputs": [
    {
     "name": "stdout",
     "output_type": "stream",
     "text": [
      "Gender Count :\n",
      "Male      5457\n",
      "Female    4543\n",
      "Name: Gender, dtype: int64\n",
      "\n",
      "\n",
      "Female Quit Rate :\n",
      "0    3404\n",
      "1    1139\n",
      "Name: Exited, dtype: int64\n",
      "\n",
      "\n",
      "Male Quit Rate :\n",
      "0    4559\n",
      "1     898\n",
      "Name: Exited, dtype: int64\n"
     ]
    }
   ],
   "source": [
    "print(\"Gender Count :\")\n",
    "print(data['Gender'].value_counts())\n",
    "print(\"\\n\")\n",
    "print(\"Female Quit Rate :\")\n",
    "print(data[data[\"Gender\"]==\"Female\"][\"Exited\"].value_counts())\n",
    "print(\"\\n\")\n",
    "print(\"Male Quit Rate :\")\n",
    "print(data[data[\"Gender\"]==\"Male\"][\"Exited\"].value_counts())"
   ]
  },
  {
   "cell_type": "code",
   "execution_count": 8,
   "id": "fc49584e",
   "metadata": {
    "execution": {
     "iopub.execute_input": "2023-08-27T01:31:06.582655Z",
     "iopub.status.busy": "2023-08-27T01:31:06.581373Z",
     "iopub.status.idle": "2023-08-27T01:31:06.867478Z",
     "shell.execute_reply": "2023-08-27T01:31:06.865994Z"
    },
    "papermill": {
     "duration": 0.3065,
     "end_time": "2023-08-27T01:31:06.870129",
     "exception": false,
     "start_time": "2023-08-27T01:31:06.563629",
     "status": "completed"
    },
    "tags": []
   },
   "outputs": [
    {
     "data": {
      "text/plain": [
       "<Axes: xlabel='Gender', ylabel='count'>"
      ]
     },
     "execution_count": 8,
     "metadata": {},
     "output_type": "execute_result"
    },
    {
     "data": {
      "image/png": "[encoded data removed]",
      "text/plain": [
       "<Figure size 640x480 with 1 Axes>"
      ]
     },
     "metadata": {},
     "output_type": "display_data"
    }
   ],
   "source": [
    "sns.countplot(data=data, x=\"Gender\", hue=\"Exited\", palette=\"pastel\")"
   ]
  },
  {
   "cell_type": "markdown",
   "id": "ebd99005",
   "metadata": {
    "papermill": {
     "duration": 0.019899,
     "end_time": "2023-08-27T01:31:06.907746",
     "exception": false,
     "start_time": "2023-08-27T01:31:06.887847",
     "status": "completed"
    },
    "tags": []
   },
   "source": [
    "From this Chart we can understand that Females are more likely to quit that Males . Females have a 25% rate to quit where Males have only 16% "
   ]
  },
  {
   "cell_type": "code",
   "execution_count": 9,
   "id": "c7f4f6d4",
   "metadata": {
    "execution": {
     "iopub.execute_input": "2023-08-27T01:31:06.943741Z",
     "iopub.status.busy": "2023-08-27T01:31:06.943201Z",
     "iopub.status.idle": "2023-08-27T01:31:06.968720Z",
     "shell.execute_reply": "2023-08-27T01:31:06.967049Z"
    },
    "papermill": {
     "duration": 0.046993,
     "end_time": "2023-08-27T01:31:06.971712",
     "exception": false,
     "start_time": "2023-08-27T01:31:06.924719",
     "status": "completed"
    },
    "tags": []
   },
   "outputs": [
    {
     "name": "stdout",
     "output_type": "stream",
     "text": [
      "Adresses :\n",
      "France     5014\n",
      "Germany    2509\n",
      "Spain      2477\n",
      "Name: Geography, dtype: int64\n",
      "\n",
      "\n",
      "France Quit Rate :\n",
      "0    4204\n",
      "1     810\n",
      "Name: Exited, dtype: int64\n",
      "\n",
      "\n",
      "Spain Quit Rate :\n",
      "0    2064\n",
      "1     413\n",
      "Name: Exited, dtype: int64\n",
      "\n",
      "\n",
      "Germany Quit Rate :\n",
      "0    1695\n",
      "1     814\n",
      "Name: Exited, dtype: int64\n",
      "\n",
      "\n"
     ]
    }
   ],
   "source": [
    "print(\"Adresses :\")\n",
    "print(data['Geography'].value_counts())\n",
    "print(\"\\n\")\n",
    "l =[\"France\",\"Spain\",\"Germany\"]\n",
    "for x in l:\n",
    "    print(f\"{x} Quit Rate :\")\n",
    "    print(data[data[\"Geography\"]==x][\"Exited\"].value_counts())\n",
    "    print(\"\\n\")"
   ]
  },
  {
   "cell_type": "code",
   "execution_count": 10,
   "id": "e7e6ebcf",
   "metadata": {
    "execution": {
     "iopub.execute_input": "2023-08-27T01:31:07.010054Z",
     "iopub.status.busy": "2023-08-27T01:31:07.009271Z",
     "iopub.status.idle": "2023-08-27T01:31:07.347437Z",
     "shell.execute_reply": "2023-08-27T01:31:07.345970Z"
    },
    "papermill": {
     "duration": 0.361329,
     "end_time": "2023-08-27T01:31:07.350052",
     "exception": false,
     "start_time": "2023-08-27T01:31:06.988723",
     "status": "completed"
    },
    "tags": []
   },
   "outputs": [
    {
     "data": {
      "text/plain": [
       "<Axes: xlabel='Geography', ylabel='count'>"
      ]
     },
     "execution_count": 10,
     "metadata": {},
     "output_type": "execute_result"
    },
    {
     "data": {
      "image/png": "[encoded data removed]",
      "text/plain": [
       "<Figure size 640x480 with 1 Axes>"
      ]
     },
     "metadata": {},
     "output_type": "display_data"
    }
   ],
   "source": [
    "sns.countplot(data=data, x=\"Geography\", hue=\"Exited\", palette=\"pastel\")"
   ]
  },
  {
   "cell_type": "markdown",
   "id": "1ee1d727",
   "metadata": {
    "papermill": {
     "duration": 0.017123,
     "end_time": "2023-08-27T01:31:07.384155",
     "exception": false,
     "start_time": "2023-08-27T01:31:07.367032",
     "status": "completed"
    },
    "tags": []
   },
   "source": [
    "After having a look at this plot we can conclude that 16% of France and Spain Members quit where Germany got 32% quitting rate which is the highest amoung the 3 countries."
   ]
  },
  {
   "cell_type": "markdown",
   "id": "9bee8adb",
   "metadata": {
    "papermill": {
     "duration": 0.01694,
     "end_time": "2023-08-27T01:31:07.418698",
     "exception": false,
     "start_time": "2023-08-27T01:31:07.401758",
     "status": "completed"
    },
    "tags": []
   },
   "source": [
    "## Data Cleaning"
   ]
  },
  {
   "cell_type": "markdown",
   "id": "2d54899c",
   "metadata": {
    "papermill": {
     "duration": 0.016885,
     "end_time": "2023-08-27T01:31:07.452725",
     "exception": false,
     "start_time": "2023-08-27T01:31:07.435840",
     "status": "completed"
    },
    "tags": []
   },
   "source": [
    "It's Clear that the **RowNumber**,**CustomerId** and **Surname** Columns don't have any predictive power since they are just some general information about a certain client and for that it would make sens to drop them using **drop** method in pandas DataFrames.\n",
    "Notice that we are going to set the inplace argument to **True** to apply the modifications to the current data"
   ]
  },
  {
   "cell_type": "code",
   "execution_count": 11,
   "id": "e3a3fe8c",
   "metadata": {
    "execution": {
     "iopub.execute_input": "2023-08-27T01:31:07.489881Z",
     "iopub.status.busy": "2023-08-27T01:31:07.489426Z",
     "iopub.status.idle": "2023-08-27T01:31:07.509928Z",
     "shell.execute_reply": "2023-08-27T01:31:07.508736Z"
    },
    "papermill": {
     "duration": 0.042031,
     "end_time": "2023-08-27T01:31:07.512350",
     "exception": false,
     "start_time": "2023-08-27T01:31:07.470319",
     "status": "completed"
    },
    "tags": []
   },
   "outputs": [
    {
     "data": {
      "text/html": [
       "<div>\n",
       "<style scoped>\n",
       "    .dataframe tbody tr th:only-of-type {\n",
       "        vertical-align: middle;\n",
       "    }\n",
       "\n",
       "    .dataframe tbody tr th {\n",
       "        vertical-align: top;\n",
       "    }\n",
       "\n",
       "    .dataframe thead th {\n",
       "        text-align: right;\n",
       "    }\n",
       "</style>\n",
       "<table border=\"1\" class=\"dataframe\">\n",
       "  <thead>\n",
       "    <tr style=\"text-align: right;\">\n",
       "      <th></th>\n",
       "      <th>CreditScore</th>\n",
       "      <th>Geography</th>\n",
       "      <th>Gender</th>\n",
       "      <th>Age</th>\n",
       "      <th>Tenure</th>\n",
       "      <th>Balance</th>\n",
       "      <th>NumOfProducts</th>\n",
       "      <th>HasCrCard</th>\n",
       "      <th>IsActiveMember</th>\n",
       "      <th>EstimatedSalary</th>\n",
       "      <th>Exited</th>\n",
       "    </tr>\n",
       "  </thead>\n",
       "  <tbody>\n",
       "    <tr>\n",
       "      <th>0</th>\n",
       "      <td>619</td>\n",
       "      <td>France</td>\n",
       "      <td>Female</td>\n",
       "      <td>42</td>\n",
       "      <td>2</td>\n",
       "      <td>0.00</td>\n",
       "      <td>1</td>\n",
       "      <td>1</td>\n",
       "      <td>1</td>\n",
       "      <td>101348.88</td>\n",
       "      <td>1</td>\n",
       "    </tr>\n",
       "    <tr>\n",
       "      <th>1</th>\n",
       "      <td>608</td>\n",
       "      <td>Spain</td>\n",
       "      <td>Female</td>\n",
       "      <td>41</td>\n",
       "      <td>1</td>\n",
       "      <td>83807.86</td>\n",
       "      <td>1</td>\n",
       "      <td>0</td>\n",
       "      <td>1</td>\n",
       "      <td>112542.58</td>\n",
       "      <td>0</td>\n",
       "    </tr>\n",
       "    <tr>\n",
       "      <th>2</th>\n",
       "      <td>502</td>\n",
       "      <td>France</td>\n",
       "      <td>Female</td>\n",
       "      <td>42</td>\n",
       "      <td>8</td>\n",
       "      <td>159660.80</td>\n",
       "      <td>3</td>\n",
       "      <td>1</td>\n",
       "      <td>0</td>\n",
       "      <td>113931.57</td>\n",
       "      <td>1</td>\n",
       "    </tr>\n",
       "    <tr>\n",
       "      <th>3</th>\n",
       "      <td>699</td>\n",
       "      <td>France</td>\n",
       "      <td>Female</td>\n",
       "      <td>39</td>\n",
       "      <td>1</td>\n",
       "      <td>0.00</td>\n",
       "      <td>2</td>\n",
       "      <td>0</td>\n",
       "      <td>0</td>\n",
       "      <td>93826.63</td>\n",
       "      <td>0</td>\n",
       "    </tr>\n",
       "    <tr>\n",
       "      <th>4</th>\n",
       "      <td>850</td>\n",
       "      <td>Spain</td>\n",
       "      <td>Female</td>\n",
       "      <td>43</td>\n",
       "      <td>2</td>\n",
       "      <td>125510.82</td>\n",
       "      <td>1</td>\n",
       "      <td>1</td>\n",
       "      <td>1</td>\n",
       "      <td>79084.10</td>\n",
       "      <td>0</td>\n",
       "    </tr>\n",
       "  </tbody>\n",
       "</table>\n",
       "</div>"
      ],
      "text/plain": [
       "   CreditScore Geography  Gender  Age  Tenure    Balance  NumOfProducts  \\\n",
       "0          619    France  Female   42       2       0.00              1   \n",
       "1          608     Spain  Female   41       1   83807.86              1   \n",
       "2          502    France  Female   42       8  159660.80              3   \n",
       "3          699    France  Female   39       1       0.00              2   \n",
       "4          850     Spain  Female   43       2  125510.82              1   \n",
       "\n",
       "   HasCrCard  IsActiveMember  EstimatedSalary  Exited  \n",
       "0          1               1        101348.88       1  \n",
       "1          0               1        112542.58       0  \n",
       "2          1               0        113931.57       1  \n",
       "3          0               0         93826.63       0  \n",
       "4          1               1         79084.10       0  "
      ]
     },
     "execution_count": 11,
     "metadata": {},
     "output_type": "execute_result"
    }
   ],
   "source": [
    "data.drop(columns=[\"RowNumber\",\"CustomerId\",\"Surname\"],inplace=True,axis=1)\n",
    "data.head()"
   ]
  },
  {
   "cell_type": "markdown",
   "id": "81e440d7",
   "metadata": {
    "papermill": {
     "duration": 0.017166,
     "end_time": "2023-08-27T01:31:07.546934",
     "exception": false,
     "start_time": "2023-08-27T01:31:07.529768",
     "status": "completed"
    },
    "tags": []
   },
   "source": [
    "Now we still got 2 Categorical features we will simply use 2 maps to transform them into numerical features"
   ]
  },
  {
   "cell_type": "code",
   "execution_count": 12,
   "id": "aa4d878d",
   "metadata": {
    "execution": {
     "iopub.execute_input": "2023-08-27T01:31:07.584317Z",
     "iopub.status.busy": "2023-08-27T01:31:07.583914Z",
     "iopub.status.idle": "2023-08-27T01:31:07.607700Z",
     "shell.execute_reply": "2023-08-27T01:31:07.606438Z"
    },
    "papermill": {
     "duration": 0.045505,
     "end_time": "2023-08-27T01:31:07.610245",
     "exception": false,
     "start_time": "2023-08-27T01:31:07.564740",
     "status": "completed"
    },
    "tags": []
   },
   "outputs": [
    {
     "data": {
      "text/html": [
       "<div>\n",
       "<style scoped>\n",
       "    .dataframe tbody tr th:only-of-type {\n",
       "        vertical-align: middle;\n",
       "    }\n",
       "\n",
       "    .dataframe tbody tr th {\n",
       "        vertical-align: top;\n",
       "    }\n",
       "\n",
       "    .dataframe thead th {\n",
       "        text-align: right;\n",
       "    }\n",
       "</style>\n",
       "<table border=\"1\" class=\"dataframe\">\n",
       "  <thead>\n",
       "    <tr style=\"text-align: right;\">\n",
       "      <th></th>\n",
       "      <th>CreditScore</th>\n",
       "      <th>Geography</th>\n",
       "      <th>Gender</th>\n",
       "      <th>Age</th>\n",
       "      <th>Tenure</th>\n",
       "      <th>Balance</th>\n",
       "      <th>NumOfProducts</th>\n",
       "      <th>HasCrCard</th>\n",
       "      <th>IsActiveMember</th>\n",
       "      <th>EstimatedSalary</th>\n",
       "      <th>Exited</th>\n",
       "    </tr>\n",
       "  </thead>\n",
       "  <tbody>\n",
       "    <tr>\n",
       "      <th>0</th>\n",
       "      <td>619</td>\n",
       "      <td>0</td>\n",
       "      <td>1</td>\n",
       "      <td>42</td>\n",
       "      <td>2</td>\n",
       "      <td>0.00</td>\n",
       "      <td>1</td>\n",
       "      <td>1</td>\n",
       "      <td>1</td>\n",
       "      <td>101348.88</td>\n",
       "      <td>1</td>\n",
       "    </tr>\n",
       "    <tr>\n",
       "      <th>1</th>\n",
       "      <td>608</td>\n",
       "      <td>1</td>\n",
       "      <td>1</td>\n",
       "      <td>41</td>\n",
       "      <td>1</td>\n",
       "      <td>83807.86</td>\n",
       "      <td>1</td>\n",
       "      <td>0</td>\n",
       "      <td>1</td>\n",
       "      <td>112542.58</td>\n",
       "      <td>0</td>\n",
       "    </tr>\n",
       "    <tr>\n",
       "      <th>2</th>\n",
       "      <td>502</td>\n",
       "      <td>0</td>\n",
       "      <td>1</td>\n",
       "      <td>42</td>\n",
       "      <td>8</td>\n",
       "      <td>159660.80</td>\n",
       "      <td>3</td>\n",
       "      <td>1</td>\n",
       "      <td>0</td>\n",
       "      <td>113931.57</td>\n",
       "      <td>1</td>\n",
       "    </tr>\n",
       "    <tr>\n",
       "      <th>3</th>\n",
       "      <td>699</td>\n",
       "      <td>0</td>\n",
       "      <td>1</td>\n",
       "      <td>39</td>\n",
       "      <td>1</td>\n",
       "      <td>0.00</td>\n",
       "      <td>2</td>\n",
       "      <td>0</td>\n",
       "      <td>0</td>\n",
       "      <td>93826.63</td>\n",
       "      <td>0</td>\n",
       "    </tr>\n",
       "    <tr>\n",
       "      <th>4</th>\n",
       "      <td>850</td>\n",
       "      <td>1</td>\n",
       "      <td>1</td>\n",
       "      <td>43</td>\n",
       "      <td>2</td>\n",
       "      <td>125510.82</td>\n",
       "      <td>1</td>\n",
       "      <td>1</td>\n",
       "      <td>1</td>\n",
       "      <td>79084.10</td>\n",
       "      <td>0</td>\n",
       "    </tr>\n",
       "  </tbody>\n",
       "</table>\n",
       "</div>"
      ],
      "text/plain": [
       "   CreditScore  Geography  Gender  Age  Tenure    Balance  NumOfProducts  \\\n",
       "0          619          0       1   42       2       0.00              1   \n",
       "1          608          1       1   41       1   83807.86              1   \n",
       "2          502          0       1   42       8  159660.80              3   \n",
       "3          699          0       1   39       1       0.00              2   \n",
       "4          850          1       1   43       2  125510.82              1   \n",
       "\n",
       "   HasCrCard  IsActiveMember  EstimatedSalary  Exited  \n",
       "0          1               1        101348.88       1  \n",
       "1          0               1        112542.58       0  \n",
       "2          1               0        113931.57       1  \n",
       "3          0               0         93826.63       0  \n",
       "4          1               1         79084.10       0  "
      ]
     },
     "execution_count": 12,
     "metadata": {},
     "output_type": "execute_result"
    }
   ],
   "source": [
    "map_gen ={\"Male\":1,\"Female\":1}\n",
    "map_geo ={\"France\":0,\"Spain\":1,\"Germany\":2}\n",
    "data[\"Gender\"]=data[\"Gender\"].map(map_gen)\n",
    "data[\"Geography\"]=data[\"Geography\"].map(map_geo)\n",
    "data.head()"
   ]
  },
  {
   "cell_type": "markdown",
   "id": "ae8947a1",
   "metadata": {
    "papermill": {
     "duration": 0.017558,
     "end_time": "2023-08-27T01:31:07.645663",
     "exception": false,
     "start_time": "2023-08-27T01:31:07.628105",
     "status": "completed"
    },
    "tags": []
   },
   "source": [
    "## Feature Engineering"
   ]
  },
  {
   "cell_type": "markdown",
   "id": "b06e537e",
   "metadata": {
    "papermill": {
     "duration": 0.017427,
     "end_time": "2023-08-27T01:31:07.681127",
     "exception": false,
     "start_time": "2023-08-27T01:31:07.663700",
     "status": "completed"
    },
    "tags": []
   },
   "source": [
    "We Will Try and explore our data and create some new features to improve the model efficency"
   ]
  },
  {
   "cell_type": "markdown",
   "id": "cbdc7927",
   "metadata": {
    "papermill": {
     "duration": 0.017397,
     "end_time": "2023-08-27T01:31:07.716919",
     "exception": false,
     "start_time": "2023-08-27T01:31:07.699522",
     "status": "completed"
    },
    "tags": []
   },
   "source": [
    "Let's Start and classify the Credit Score : we can change our **CreditScore** column form a range of scalars into a catagorical and more easier column to interpret from it .\n",
    "\n",
    "So we have 5 classes : \n",
    "* Exceptional \n",
    "* Very Good \n",
    "* Good\n",
    "* Fair \n",
    "* Poor"
   ]
  },
  {
   "cell_type": "code",
   "execution_count": 13,
   "id": "f1adc12e",
   "metadata": {
    "execution": {
     "iopub.execute_input": "2023-08-27T01:31:07.754928Z",
     "iopub.status.busy": "2023-08-27T01:31:07.754520Z",
     "iopub.status.idle": "2023-08-27T01:31:07.779951Z",
     "shell.execute_reply": "2023-08-27T01:31:07.779021Z"
    },
    "papermill": {
     "duration": 0.048174,
     "end_time": "2023-08-27T01:31:07.782859",
     "exception": false,
     "start_time": "2023-08-27T01:31:07.734685",
     "status": "completed"
    },
    "tags": []
   },
   "outputs": [
    {
     "data": {
      "text/html": [
       "<div>\n",
       "<style scoped>\n",
       "    .dataframe tbody tr th:only-of-type {\n",
       "        vertical-align: middle;\n",
       "    }\n",
       "\n",
       "    .dataframe tbody tr th {\n",
       "        vertical-align: top;\n",
       "    }\n",
       "\n",
       "    .dataframe thead th {\n",
       "        text-align: right;\n",
       "    }\n",
       "</style>\n",
       "<table border=\"1\" class=\"dataframe\">\n",
       "  <thead>\n",
       "    <tr style=\"text-align: right;\">\n",
       "      <th></th>\n",
       "      <th>CreditScore</th>\n",
       "      <th>Geography</th>\n",
       "      <th>Gender</th>\n",
       "      <th>Age</th>\n",
       "      <th>Tenure</th>\n",
       "      <th>Balance</th>\n",
       "      <th>NumOfProducts</th>\n",
       "      <th>HasCrCard</th>\n",
       "      <th>IsActiveMember</th>\n",
       "      <th>EstimatedSalary</th>\n",
       "      <th>Exited</th>\n",
       "    </tr>\n",
       "  </thead>\n",
       "  <tbody>\n",
       "    <tr>\n",
       "      <th>0</th>\n",
       "      <td>1</td>\n",
       "      <td>0</td>\n",
       "      <td>1</td>\n",
       "      <td>42</td>\n",
       "      <td>2</td>\n",
       "      <td>0.00</td>\n",
       "      <td>1</td>\n",
       "      <td>1</td>\n",
       "      <td>1</td>\n",
       "      <td>101348.88</td>\n",
       "      <td>1</td>\n",
       "    </tr>\n",
       "    <tr>\n",
       "      <th>1</th>\n",
       "      <td>1</td>\n",
       "      <td>1</td>\n",
       "      <td>1</td>\n",
       "      <td>41</td>\n",
       "      <td>1</td>\n",
       "      <td>83807.86</td>\n",
       "      <td>1</td>\n",
       "      <td>0</td>\n",
       "      <td>1</td>\n",
       "      <td>112542.58</td>\n",
       "      <td>0</td>\n",
       "    </tr>\n",
       "    <tr>\n",
       "      <th>2</th>\n",
       "      <td>0</td>\n",
       "      <td>0</td>\n",
       "      <td>1</td>\n",
       "      <td>42</td>\n",
       "      <td>8</td>\n",
       "      <td>159660.80</td>\n",
       "      <td>3</td>\n",
       "      <td>1</td>\n",
       "      <td>0</td>\n",
       "      <td>113931.57</td>\n",
       "      <td>1</td>\n",
       "    </tr>\n",
       "    <tr>\n",
       "      <th>3</th>\n",
       "      <td>2</td>\n",
       "      <td>0</td>\n",
       "      <td>1</td>\n",
       "      <td>39</td>\n",
       "      <td>1</td>\n",
       "      <td>0.00</td>\n",
       "      <td>2</td>\n",
       "      <td>0</td>\n",
       "      <td>0</td>\n",
       "      <td>93826.63</td>\n",
       "      <td>0</td>\n",
       "    </tr>\n",
       "    <tr>\n",
       "      <th>4</th>\n",
       "      <td>4</td>\n",
       "      <td>1</td>\n",
       "      <td>1</td>\n",
       "      <td>43</td>\n",
       "      <td>2</td>\n",
       "      <td>125510.82</td>\n",
       "      <td>1</td>\n",
       "      <td>1</td>\n",
       "      <td>1</td>\n",
       "      <td>79084.10</td>\n",
       "      <td>0</td>\n",
       "    </tr>\n",
       "  </tbody>\n",
       "</table>\n",
       "</div>"
      ],
      "text/plain": [
       "   CreditScore  Geography  Gender  Age  Tenure    Balance  NumOfProducts  \\\n",
       "0            1          0       1   42       2       0.00              1   \n",
       "1            1          1       1   41       1   83807.86              1   \n",
       "2            0          0       1   42       8  159660.80              3   \n",
       "3            2          0       1   39       1       0.00              2   \n",
       "4            4          1       1   43       2  125510.82              1   \n",
       "\n",
       "   HasCrCard  IsActiveMember  EstimatedSalary  Exited  \n",
       "0          1               1        101348.88       1  \n",
       "1          0               1        112542.58       0  \n",
       "2          1               0        113931.57       1  \n",
       "3          0               0         93826.63       0  \n",
       "4          1               1         79084.10       0  "
      ]
     },
     "execution_count": 13,
     "metadata": {},
     "output_type": "execute_result"
    }
   ],
   "source": [
    "data.loc[ data['CreditScore'] <= 579, 'CreditScore'] = 0\n",
    "data.loc[(data['CreditScore'] >= 580) & (data['CreditScore'] <= 669), 'CreditScore'] = 1\n",
    "data.loc[(data['CreditScore'] >= 670) & (data['CreditScore'] <= 739), 'CreditScore']   = 2\n",
    "data.loc[(data['CreditScore'] >= 740) & (data['CreditScore'] <= 799), 'CreditScore']   = 3\n",
    "data.loc[ data['CreditScore'] >= 800, 'CreditScore'] = 4\n",
    "data[\"CreditScore\"]=data[\"CreditScore\"].astype(int)\n",
    "data.head()"
   ]
  },
  {
   "cell_type": "markdown",
   "id": "b28725c2",
   "metadata": {
    "papermill": {
     "duration": 0.018322,
     "end_time": "2023-08-27T01:31:07.820487",
     "exception": false,
     "start_time": "2023-08-27T01:31:07.802165",
     "status": "completed"
    },
    "tags": []
   },
   "source": [
    "Now we are going to do the same work with the Age Colmun"
   ]
  },
  {
   "cell_type": "code",
   "execution_count": 14,
   "id": "adc30703",
   "metadata": {
    "execution": {
     "iopub.execute_input": "2023-08-27T01:31:07.859566Z",
     "iopub.status.busy": "2023-08-27T01:31:07.858847Z",
     "iopub.status.idle": "2023-08-27T01:31:07.881714Z",
     "shell.execute_reply": "2023-08-27T01:31:07.880313Z"
    },
    "papermill": {
     "duration": 0.045612,
     "end_time": "2023-08-27T01:31:07.884400",
     "exception": false,
     "start_time": "2023-08-27T01:31:07.838788",
     "status": "completed"
    },
    "tags": []
   },
   "outputs": [
    {
     "data": {
      "text/html": [
       "<div>\n",
       "<style scoped>\n",
       "    .dataframe tbody tr th:only-of-type {\n",
       "        vertical-align: middle;\n",
       "    }\n",
       "\n",
       "    .dataframe tbody tr th {\n",
       "        vertical-align: top;\n",
       "    }\n",
       "\n",
       "    .dataframe thead th {\n",
       "        text-align: right;\n",
       "    }\n",
       "</style>\n",
       "<table border=\"1\" class=\"dataframe\">\n",
       "  <thead>\n",
       "    <tr style=\"text-align: right;\">\n",
       "      <th></th>\n",
       "      <th>CreditScore</th>\n",
       "      <th>Geography</th>\n",
       "      <th>Gender</th>\n",
       "      <th>Age</th>\n",
       "      <th>Tenure</th>\n",
       "      <th>Balance</th>\n",
       "      <th>NumOfProducts</th>\n",
       "      <th>HasCrCard</th>\n",
       "      <th>IsActiveMember</th>\n",
       "      <th>EstimatedSalary</th>\n",
       "      <th>Exited</th>\n",
       "    </tr>\n",
       "  </thead>\n",
       "  <tbody>\n",
       "    <tr>\n",
       "      <th>0</th>\n",
       "      <td>1</td>\n",
       "      <td>0</td>\n",
       "      <td>1</td>\n",
       "      <td>2</td>\n",
       "      <td>2</td>\n",
       "      <td>0.00</td>\n",
       "      <td>1</td>\n",
       "      <td>1</td>\n",
       "      <td>1</td>\n",
       "      <td>101348.88</td>\n",
       "      <td>1</td>\n",
       "    </tr>\n",
       "    <tr>\n",
       "      <th>1</th>\n",
       "      <td>1</td>\n",
       "      <td>1</td>\n",
       "      <td>1</td>\n",
       "      <td>2</td>\n",
       "      <td>1</td>\n",
       "      <td>83807.86</td>\n",
       "      <td>1</td>\n",
       "      <td>0</td>\n",
       "      <td>1</td>\n",
       "      <td>112542.58</td>\n",
       "      <td>0</td>\n",
       "    </tr>\n",
       "    <tr>\n",
       "      <th>2</th>\n",
       "      <td>0</td>\n",
       "      <td>0</td>\n",
       "      <td>1</td>\n",
       "      <td>2</td>\n",
       "      <td>8</td>\n",
       "      <td>159660.80</td>\n",
       "      <td>3</td>\n",
       "      <td>1</td>\n",
       "      <td>0</td>\n",
       "      <td>113931.57</td>\n",
       "      <td>1</td>\n",
       "    </tr>\n",
       "    <tr>\n",
       "      <th>3</th>\n",
       "      <td>2</td>\n",
       "      <td>0</td>\n",
       "      <td>1</td>\n",
       "      <td>2</td>\n",
       "      <td>1</td>\n",
       "      <td>0.00</td>\n",
       "      <td>2</td>\n",
       "      <td>0</td>\n",
       "      <td>0</td>\n",
       "      <td>93826.63</td>\n",
       "      <td>0</td>\n",
       "    </tr>\n",
       "    <tr>\n",
       "      <th>4</th>\n",
       "      <td>4</td>\n",
       "      <td>1</td>\n",
       "      <td>1</td>\n",
       "      <td>2</td>\n",
       "      <td>2</td>\n",
       "      <td>125510.82</td>\n",
       "      <td>1</td>\n",
       "      <td>1</td>\n",
       "      <td>1</td>\n",
       "      <td>79084.10</td>\n",
       "      <td>0</td>\n",
       "    </tr>\n",
       "  </tbody>\n",
       "</table>\n",
       "</div>"
      ],
      "text/plain": [
       "   CreditScore  Geography  Gender  Age  Tenure    Balance  NumOfProducts  \\\n",
       "0            1          0       1    2       2       0.00              1   \n",
       "1            1          1       1    2       1   83807.86              1   \n",
       "2            0          0       1    2       8  159660.80              3   \n",
       "3            2          0       1    2       1       0.00              2   \n",
       "4            4          1       1    2       2  125510.82              1   \n",
       "\n",
       "   HasCrCard  IsActiveMember  EstimatedSalary  Exited  \n",
       "0          1               1        101348.88       1  \n",
       "1          0               1        112542.58       0  \n",
       "2          1               0        113931.57       1  \n",
       "3          0               0         93826.63       0  \n",
       "4          1               1         79084.10       0  "
      ]
     },
     "execution_count": 14,
     "metadata": {},
     "output_type": "execute_result"
    }
   ],
   "source": [
    "data.loc[ data['Age'] <= 32, 'Age'] = 0\n",
    "data.loc[(data['Age'] > 32) & (data['Age'] <= 37), 'Age'] = 1\n",
    "data.loc[(data['Age'] > 37) & (data['Age'] <= 44), 'Age']   = 2\n",
    "data.loc[ data['Age'] > 44, 'Age'] = 3\n",
    "data[\"Age\"]=data[\"Age\"].astype(int)\n",
    "data.head()"
   ]
  },
  {
   "cell_type": "code",
   "execution_count": 15,
   "id": "d5ab991a",
   "metadata": {
    "execution": {
     "iopub.execute_input": "2023-08-27T01:31:07.925740Z",
     "iopub.status.busy": "2023-08-27T01:31:07.925291Z",
     "iopub.status.idle": "2023-08-27T01:31:08.181018Z",
     "shell.execute_reply": "2023-08-27T01:31:08.179506Z"
    },
    "papermill": {
     "duration": 0.279659,
     "end_time": "2023-08-27T01:31:08.184021",
     "exception": false,
     "start_time": "2023-08-27T01:31:07.904362",
     "status": "completed"
    },
    "tags": []
   },
   "outputs": [
    {
     "data": {
      "text/plain": [
       "<Axes: xlabel='Age', ylabel='count'>"
      ]
     },
     "execution_count": 15,
     "metadata": {},
     "output_type": "execute_result"
    },
    {
     "data": {
      "image/png": "[encoded data removed]",
      "text/plain": [
       "<Figure size 640x480 with 1 Axes>"
      ]
     },
     "metadata": {},
     "output_type": "display_data"
    }
   ],
   "source": [
    "sns.countplot(x=\"Age\",data=data, palette=\"Set2\")"
   ]
  },
  {
   "cell_type": "markdown",
   "id": "2aa0e018",
   "metadata": {
    "papermill": {
     "duration": 0.019182,
     "end_time": "2023-08-27T01:31:08.222836",
     "exception": false,
     "start_time": "2023-08-27T01:31:08.203654",
     "status": "completed"
    },
    "tags": []
   },
   "source": [
    "## Data Preprocessing"
   ]
  },
  {
   "cell_type": "markdown",
   "id": "058e30d6",
   "metadata": {
    "papermill": {
     "duration": 0.020162,
     "end_time": "2023-08-27T01:31:08.262523",
     "exception": false,
     "start_time": "2023-08-27T01:31:08.242361",
     "status": "completed"
    },
    "tags": []
   },
   "source": [
    "Scaling data is vital for optimizing deep learning models. Normalizing input features to a uniform range ensures balanced contributions from all attributes. This process stabilizes gradients. In sum, data scaling enhances model generalization and overall performance. For that, We are going to use **MinMaxScaler** but first we are going to split our data into train , validation and test samples using **train_test_split**"
   ]
  },
  {
   "cell_type": "code",
   "execution_count": 16,
   "id": "84d819c2",
   "metadata": {
    "execution": {
     "iopub.execute_input": "2023-08-27T01:31:08.304619Z",
     "iopub.status.busy": "2023-08-27T01:31:08.303868Z",
     "iopub.status.idle": "2023-08-27T01:31:08.311173Z",
     "shell.execute_reply": "2023-08-27T01:31:08.310224Z"
    },
    "papermill": {
     "duration": 0.031361,
     "end_time": "2023-08-27T01:31:08.313672",
     "exception": false,
     "start_time": "2023-08-27T01:31:08.282311",
     "status": "completed"
    },
    "tags": []
   },
   "outputs": [],
   "source": [
    "feature_matrix=data.drop(\"Exited\",axis=1)\n",
    "target =data[\"Exited\"]"
   ]
  },
  {
   "cell_type": "code",
   "execution_count": 17,
   "id": "afade320",
   "metadata": {
    "execution": {
     "iopub.execute_input": "2023-08-27T01:31:08.355958Z",
     "iopub.status.busy": "2023-08-27T01:31:08.354259Z",
     "iopub.status.idle": "2023-08-27T01:31:08.375561Z",
     "shell.execute_reply": "2023-08-27T01:31:08.374587Z"
    },
    "papermill": {
     "duration": 0.045351,
     "end_time": "2023-08-27T01:31:08.378415",
     "exception": false,
     "start_time": "2023-08-27T01:31:08.333064",
     "status": "completed"
    },
    "tags": []
   },
   "outputs": [],
   "source": [
    "X_train, X_temp, y_train, y_temp = train_test_split(feature_matrix,target , test_size=0.3, random_state=42,stratify=target)\n",
    "X_val, X_test, y_val, y_test = train_test_split(X_temp, y_temp, test_size=0.5, random_state=42,stratify=y_temp)"
   ]
  },
  {
   "cell_type": "code",
   "execution_count": 18,
   "id": "e84984fc",
   "metadata": {
    "execution": {
     "iopub.execute_input": "2023-08-27T01:31:08.420004Z",
     "iopub.status.busy": "2023-08-27T01:31:08.419286Z",
     "iopub.status.idle": "2023-08-27T01:31:08.429336Z",
     "shell.execute_reply": "2023-08-27T01:31:08.428116Z"
    },
    "papermill": {
     "duration": 0.033928,
     "end_time": "2023-08-27T01:31:08.432118",
     "exception": false,
     "start_time": "2023-08-27T01:31:08.398190",
     "status": "completed"
    },
    "tags": []
   },
   "outputs": [
    {
     "data": {
      "text/plain": [
       "0    5574\n",
       "1    1426\n",
       "Name: Exited, dtype: int64"
      ]
     },
     "execution_count": 18,
     "metadata": {},
     "output_type": "execute_result"
    }
   ],
   "source": [
    "y_train.value_counts()"
   ]
  },
  {
   "cell_type": "code",
   "execution_count": 19,
   "id": "829d841a",
   "metadata": {
    "execution": {
     "iopub.execute_input": "2023-08-27T01:31:08.474248Z",
     "iopub.status.busy": "2023-08-27T01:31:08.473761Z",
     "iopub.status.idle": "2023-08-27T01:31:08.493097Z",
     "shell.execute_reply": "2023-08-27T01:31:08.491707Z"
    },
    "papermill": {
     "duration": 0.043949,
     "end_time": "2023-08-27T01:31:08.496023",
     "exception": false,
     "start_time": "2023-08-27T01:31:08.452074",
     "status": "completed"
    },
    "tags": []
   },
   "outputs": [],
   "source": [
    "scaler = MinMaxScaler()\n",
    "X_train=scaler.fit_transform(X_train)\n",
    "X_val=scaler.transform(X_val)\n",
    "X_test=scaler.transform(X_test)"
   ]
  },
  {
   "cell_type": "markdown",
   "id": "77b5bc2c",
   "metadata": {
    "papermill": {
     "duration": 0.019588,
     "end_time": "2023-08-27T01:31:08.534777",
     "exception": false,
     "start_time": "2023-08-27T01:31:08.515189",
     "status": "completed"
    },
    "tags": []
   },
   "source": [
    "## Building Our Model"
   ]
  },
  {
   "cell_type": "markdown",
   "id": "b7ae0f6f",
   "metadata": {
    "papermill": {
     "duration": 0.019254,
     "end_time": "2023-08-27T01:31:08.573933",
     "exception": false,
     "start_time": "2023-08-27T01:31:08.554679",
     "status": "completed"
    },
    "tags": []
   },
   "source": [
    "Now We are done with the preparation of our data we will start with building our Neural Network Model and for that we will use a **sequential api model** found in keras inside the TensorFlow library"
   ]
  },
  {
   "cell_type": "markdown",
   "id": "8536b7b0",
   "metadata": {
    "papermill": {
     "duration": 0.019005,
     "end_time": "2023-08-27T01:31:08.612494",
     "exception": false,
     "start_time": "2023-08-27T01:31:08.593489",
     "status": "completed"
    },
    "tags": []
   },
   "source": [
    "Building a sequential model means designing a linear neural network where layers are stacked in a sequence. Information flows from input to output through these layers, enabling the model to learn patterns and features at increasing levels of complexity. "
   ]
  },
  {
   "cell_type": "code",
   "execution_count": 20,
   "id": "9a9e81f5",
   "metadata": {
    "execution": {
     "iopub.execute_input": "2023-08-27T01:31:08.653680Z",
     "iopub.status.busy": "2023-08-27T01:31:08.652953Z",
     "iopub.status.idle": "2023-08-27T01:31:08.862482Z",
     "shell.execute_reply": "2023-08-27T01:31:08.861002Z"
    },
    "papermill": {
     "duration": 0.233834,
     "end_time": "2023-08-27T01:31:08.865579",
     "exception": false,
     "start_time": "2023-08-27T01:31:08.631745",
     "status": "completed"
    },
    "tags": []
   },
   "outputs": [],
   "source": [
    "model = tf.keras.models.Sequential([\n",
    "                                 \n",
    "            # The first layers must specify the input shape always\n",
    "            tf.keras.layers.Dense(32, activation='relu', input_shape=(10,)),\n",
    "            tf.keras.layers.Dense(16, activation='relu'),\n",
    "\n",
    "            # The last layer usually doesn't have activation function in regression\n",
    "            tf.keras.layers.Dense(1)                \n",
    "\n",
    "])"
   ]
  },
  {
   "cell_type": "markdown",
   "id": "5906a547",
   "metadata": {
    "papermill": {
     "duration": 0.018888,
     "end_time": "2023-08-27T01:31:08.903831",
     "exception": false,
     "start_time": "2023-08-27T01:31:08.884943",
     "status": "completed"
    },
    "tags": []
   },
   "source": [
    "Now to compile the model we will use **binary_crossentropy** as our loss function because our task is to predict a binary value , and we are going to set our optimize to **adam**"
   ]
  },
  {
   "cell_type": "code",
   "execution_count": 21,
   "id": "c4c1ab90",
   "metadata": {
    "execution": {
     "iopub.execute_input": "2023-08-27T01:31:08.946000Z",
     "iopub.status.busy": "2023-08-27T01:31:08.944399Z",
     "iopub.status.idle": "2023-08-27T01:31:08.967621Z",
     "shell.execute_reply": "2023-08-27T01:31:08.966441Z"
    },
    "papermill": {
     "duration": 0.046733,
     "end_time": "2023-08-27T01:31:08.970591",
     "exception": false,
     "start_time": "2023-08-27T01:31:08.923858",
     "status": "completed"
    },
    "tags": []
   },
   "outputs": [],
   "source": [
    "model.compile(loss='binary_crossentropy', optimizer='adam', metrics=['accuracy'])"
   ]
  },
  {
   "cell_type": "code",
   "execution_count": 22,
   "id": "d799d9ed",
   "metadata": {
    "execution": {
     "iopub.execute_input": "2023-08-27T01:31:09.016048Z",
     "iopub.status.busy": "2023-08-27T01:31:09.015628Z",
     "iopub.status.idle": "2023-08-27T01:31:20.221179Z",
     "shell.execute_reply": "2023-08-27T01:31:20.220097Z"
    },
    "papermill": {
     "duration": 11.233131,
     "end_time": "2023-08-27T01:31:20.223716",
     "exception": false,
     "start_time": "2023-08-27T01:31:08.990585",
     "status": "completed"
    },
    "tags": []
   },
   "outputs": [
    {
     "name": "stdout",
     "output_type": "stream",
     "text": [
      "Epoch 1/50\n",
      "219/219 [==============================] - 2s 4ms/step - loss: 0.5071 - accuracy: 0.7961 - val_loss: 0.4588 - val_accuracy: 0.7953\n",
      "Epoch 2/50\n",
      "219/219 [==============================] - 1s 2ms/step - loss: 0.4509 - accuracy: 0.8054 - val_loss: 0.4707 - val_accuracy: 0.7987\n",
      "Epoch 3/50\n",
      "219/219 [==============================] - 1s 3ms/step - loss: 0.4449 - accuracy: 0.8086 - val_loss: 0.4314 - val_accuracy: 0.8140\n",
      "Epoch 4/50\n",
      "219/219 [==============================] - 1s 2ms/step - loss: 0.4273 - accuracy: 0.8154 - val_loss: 0.4201 - val_accuracy: 0.8187\n",
      "Epoch 5/50\n",
      "219/219 [==============================] - 1s 3ms/step - loss: 0.4330 - accuracy: 0.8189 - val_loss: 0.4375 - val_accuracy: 0.8153\n",
      "Epoch 6/50\n",
      "219/219 [==============================] - 1s 2ms/step - loss: 0.4235 - accuracy: 0.8223 - val_loss: 0.4159 - val_accuracy: 0.8307\n",
      "Epoch 7/50\n",
      "219/219 [==============================] - 1s 3ms/step - loss: 0.4149 - accuracy: 0.8271 - val_loss: 0.4304 - val_accuracy: 0.8273\n",
      "Epoch 8/50\n",
      "219/219 [==============================] - 1s 3ms/step - loss: 0.4099 - accuracy: 0.8330 - val_loss: 0.4026 - val_accuracy: 0.8287\n",
      "Epoch 9/50\n",
      "219/219 [==============================] - 1s 2ms/step - loss: 0.3979 - accuracy: 0.8340 - val_loss: 0.3913 - val_accuracy: 0.8367\n",
      "Epoch 10/50\n",
      "219/219 [==============================] - 1s 3ms/step - loss: 0.3908 - accuracy: 0.8360 - val_loss: 0.3879 - val_accuracy: 0.8393\n",
      "Epoch 11/50\n",
      "219/219 [==============================] - 1s 2ms/step - loss: 0.3846 - accuracy: 0.8413 - val_loss: 0.3813 - val_accuracy: 0.8340\n",
      "Epoch 12/50\n",
      "219/219 [==============================] - 1s 3ms/step - loss: 0.3791 - accuracy: 0.8410 - val_loss: 0.3728 - val_accuracy: 0.8327\n",
      "Epoch 13/50\n",
      "219/219 [==============================] - 1s 3ms/step - loss: 0.3732 - accuracy: 0.8450 - val_loss: 0.3765 - val_accuracy: 0.8413\n",
      "Epoch 14/50\n",
      "219/219 [==============================] - 1s 2ms/step - loss: 0.3761 - accuracy: 0.8477 - val_loss: 0.3684 - val_accuracy: 0.8373\n",
      "Epoch 15/50\n",
      "219/219 [==============================] - 1s 2ms/step - loss: 0.3687 - accuracy: 0.8480 - val_loss: 0.3713 - val_accuracy: 0.8367\n",
      "Epoch 16/50\n",
      "219/219 [==============================] - 1s 3ms/step - loss: 0.3635 - accuracy: 0.8500 - val_loss: 0.3690 - val_accuracy: 0.8400\n",
      "Epoch 17/50\n",
      "219/219 [==============================] - 1s 3ms/step - loss: 0.3714 - accuracy: 0.8487 - val_loss: 0.3718 - val_accuracy: 0.8447\n"
     ]
    }
   ],
   "source": [
    "early_stopping = EarlyStopping(monitor='val_loss', patience=3, restore_best_weights=True)\n",
    "history = model.fit(X_train, y_train, validation_data = (X_val, y_val), epochs=50,callbacks=[early_stopping])"
   ]
  },
  {
   "cell_type": "code",
   "execution_count": 23,
   "id": "7a44f3d9",
   "metadata": {
    "execution": {
     "iopub.execute_input": "2023-08-27T01:31:20.308679Z",
     "iopub.status.busy": "2023-08-27T01:31:20.308215Z",
     "iopub.status.idle": "2023-08-27T01:31:20.675422Z",
     "shell.execute_reply": "2023-08-27T01:31:20.673944Z"
    },
    "papermill": {
     "duration": 0.414956,
     "end_time": "2023-08-27T01:31:20.678177",
     "exception": false,
     "start_time": "2023-08-27T01:31:20.263221",
     "status": "completed"
    },
    "tags": []
   },
   "outputs": [
    {
     "name": "stdout",
     "output_type": "stream",
     "text": [
      "47/47 [==============================] - 0s 2ms/step - loss: 0.3567 - accuracy: 0.8620\n",
      "Test Loss: 0.3567 - Test Accuracy: 0.8620\n"
     ]
    }
   ],
   "source": [
    "test_loss, test_accuracy = model.evaluate(X_test,y_test)\n",
    "print(f\"Test Loss: {test_loss:.4f} - Test Accuracy: {test_accuracy:.4f}\")"
   ]
  },
  {
   "cell_type": "markdown",
   "id": "272449c7",
   "metadata": {
    "papermill": {
     "duration": 0.037879,
     "end_time": "2023-08-27T01:31:20.758681",
     "exception": false,
     "start_time": "2023-08-27T01:31:20.720802",
     "status": "completed"
    },
    "tags": []
   },
   "source": [
    "That's Great We got a 86% accuracy"
   ]
  },
  {
   "cell_type": "markdown",
   "id": "e2cdf315",
   "metadata": {
    "papermill": {
     "duration": 0.03739,
     "end_time": "2023-08-27T01:31:20.833911",
     "exception": false,
     "start_time": "2023-08-27T01:31:20.796521",
     "status": "completed"
    },
    "tags": []
   },
   "source": [
    "### Accuracy variation"
   ]
  },
  {
   "cell_type": "code",
   "execution_count": 24,
   "id": "209ffcee",
   "metadata": {
    "execution": {
     "iopub.execute_input": "2023-08-27T01:31:20.911840Z",
     "iopub.status.busy": "2023-08-27T01:31:20.911261Z",
     "iopub.status.idle": "2023-08-27T01:31:21.272833Z",
     "shell.execute_reply": "2023-08-27T01:31:21.271613Z"
    },
    "papermill": {
     "duration": 0.403652,
     "end_time": "2023-08-27T01:31:21.275429",
     "exception": false,
     "start_time": "2023-08-27T01:31:20.871777",
     "status": "completed"
    },
    "tags": []
   },
   "outputs": [
    {
     "data": {
      "image/png": "[encoded data removed]",
      "text/plain": [
       "<Figure size 640x480 with 1 Axes>"
      ]
     },
     "metadata": {},
     "output_type": "display_data"
    }
   ],
   "source": [
    "plt.plot(history.history['accuracy'], label='Training Accuracy')\n",
    "plt.plot(history.history['val_accuracy'], label='Validation Accuracy')\n",
    "plt.xlabel('Epoch')\n",
    "plt.ylabel('Accuracy')\n",
    "plt.title('Training and Validation Accuracy')\n",
    "plt.legend()\n",
    "plt.show()"
   ]
  }
 ],
 "metadata": {
  "kernelspec": {
   "display_name": "Python 3",
   "language": "python",
   "name": "python3"
  },
  "language_info": {
   "codemirror_mode": {
    "name": "ipython",
    "version": 3
   },
   "file_extension": ".py",
   "mimetype": "text/x-python",
   "name": "python",
   "nbconvert_exporter": "python",
   "pygments_lexer": "ipython3",
   "version": "3.10.12"
  },
  "papermill": {
   "default_parameters": {},
   "duration": 45.822386,
   "end_time": "2023-08-27T01:31:24.722926",
   "environment_variables": {},
   "exception": null,
   "input_path": "__notebook__.ipynb",
   "output_path": "__notebook__.ipynb",
   "parameters": {},
   "start_time": "2023-08-27T01:30:38.900540",
   "version": "2.4.0"
  }
 },
 "nbformat": 4,
 "nbformat_minor": 5
}
