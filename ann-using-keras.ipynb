{
 "cells": [
  {
   "cell_type": "markdown",
   "id": "75ddd605",
   "metadata": {
    "papermill": {
     "duration": 0.007242,
     "end_time": "2023-07-05T05:44:10.141857",
     "exception": false,
     "start_time": "2023-07-05T05:44:10.134615",
     "status": "completed"
    },
    "tags": []
   },
   "source": [
    "# **ARTIFICIAL NEURAL NETWORK**"
   ]
  },
  {
   "cell_type": "code",
   "execution_count": 1,
   "id": "c5587c55",
   "metadata": {
    "_cell_guid": "b1076dfc-b9ad-4769-8c92-a6c4dae69d19",
    "_uuid": "8f2839f25d086af736a60e9eeb907d3b93b6e0e5",
    "execution": {
     "iopub.execute_input": "2023-07-05T05:44:10.157696Z",
     "iopub.status.busy": "2023-07-05T05:44:10.156940Z",
     "iopub.status.idle": "2023-07-05T05:44:10.178555Z",
     "shell.execute_reply": "2023-07-05T05:44:10.177691Z"
    },
    "papermill": {
     "duration": 0.032157,
     "end_time": "2023-07-05T05:44:10.180959",
     "exception": false,
     "start_time": "2023-07-05T05:44:10.148802",
     "status": "completed"
    },
    "tags": []
   },
   "outputs": [
    {
     "name": "stdout",
     "output_type": "stream",
     "text": [
      "/kaggle/input/deep-learning-az-ann/Churn_Modelling.csv\n"
     ]
    }
   ],
   "source": [
    "# This Python 3 environment comes with many helpful analytics libraries installed\n",
    "# It is defined by the kaggle/python Docker image: https://github.com/kaggle/docker-python\n",
    "# For example, here's several helpful packages to load\n",
    "\n",
    "import numpy as np # linear algebra\n",
    "import pandas as pd # data processing, CSV file I/O (e.g. pd.read_csv)\n",
    "\n",
    "# Input data files are available in the read-only \"../input/\" directory\n",
    "# For example, running this (by clicking run or pressing Shift+Enter) will list all files under the input directory\n",
    "\n",
    "import os\n",
    "for dirname, _, filenames in os.walk('/kaggle/input'):\n",
    "    for filename in filenames:\n",
    "        print(os.path.join(dirname, filename))\n",
    "\n",
    "# You can write up to 20GB to the current directory (/kaggle/working/) that gets preserved as output when you create a version using \"Save & Run All\" \n",
    "# You can also write temporary files to /kaggle/temp/, but they won't be saved outside of the current session"
   ]
  },
  {
   "cell_type": "markdown",
   "id": "a54a1a39",
   "metadata": {
    "papermill": {
     "duration": 0.006582,
     "end_time": "2023-07-05T05:44:10.194290",
     "exception": false,
     "start_time": "2023-07-05T05:44:10.187708",
     "status": "completed"
    },
    "tags": []
   },
   "source": [
    "**IMPORTING LIBRARIES**"
   ]
  },
  {
   "cell_type": "code",
   "execution_count": 2,
   "id": "1b1da393",
   "metadata": {
    "execution": {
     "iopub.execute_input": "2023-07-05T05:44:10.209286Z",
     "iopub.status.busy": "2023-07-05T05:44:10.208472Z",
     "iopub.status.idle": "2023-07-05T05:44:26.606356Z",
     "shell.execute_reply": "2023-07-05T05:44:26.605361Z"
    },
    "papermill": {
     "duration": 16.407911,
     "end_time": "2023-07-05T05:44:26.608805",
     "exception": false,
     "start_time": "2023-07-05T05:44:10.200894",
     "status": "completed"
    },
    "tags": []
   },
   "outputs": [
    {
     "name": "stderr",
     "output_type": "stream",
     "text": [
      "/opt/conda/lib/python3.10/site-packages/tensorflow_io/python/ops/__init__.py:98: UserWarning: unable to load libtensorflow_io_plugins.so: unable to open file: libtensorflow_io_plugins.so, from paths: ['/opt/conda/lib/python3.10/site-packages/tensorflow_io/python/ops/libtensorflow_io_plugins.so']\n",
      "caused by: ['/opt/conda/lib/python3.10/site-packages/tensorflow_io/python/ops/libtensorflow_io_plugins.so: undefined symbol: _ZN3tsl6StatusC1EN10tensorflow5error4CodeESt17basic_string_viewIcSt11char_traitsIcEENS_14SourceLocationE']\n",
      "  warnings.warn(f\"unable to load libtensorflow_io_plugins.so: {e}\")\n",
      "/opt/conda/lib/python3.10/site-packages/tensorflow_io/python/ops/__init__.py:104: UserWarning: file system plugins are not loaded: unable to open file: libtensorflow_io.so, from paths: ['/opt/conda/lib/python3.10/site-packages/tensorflow_io/python/ops/libtensorflow_io.so']\n",
      "caused by: ['/opt/conda/lib/python3.10/site-packages/tensorflow_io/python/ops/libtensorflow_io.so: undefined symbol: _ZTVN10tensorflow13GcsFileSystemE']\n",
      "  warnings.warn(f\"file system plugins are not loaded: {e}\")\n"
     ]
    }
   ],
   "source": [
    "from keras.models import Sequential\n",
    "from keras.layers import Dense\n",
    "import matplotlib.pyplot as plt\n",
    "import pandas as pd\n",
    "from sklearn import preprocessing\n",
    "from sklearn.preprocessing import MinMaxScaler\n"
   ]
  },
  {
   "cell_type": "markdown",
   "id": "2f2592fe",
   "metadata": {
    "papermill": {
     "duration": 0.007147,
     "end_time": "2023-07-05T05:44:26.623686",
     "exception": false,
     "start_time": "2023-07-05T05:44:26.616539",
     "status": "completed"
    },
    "tags": []
   },
   "source": [
    "# READING THE DATASETS"
   ]
  },
  {
   "cell_type": "code",
   "execution_count": 3,
   "id": "3f81f69c",
   "metadata": {
    "execution": {
     "iopub.execute_input": "2023-07-05T05:44:26.639465Z",
     "iopub.status.busy": "2023-07-05T05:44:26.638823Z",
     "iopub.status.idle": "2023-07-05T05:44:26.707463Z",
     "shell.execute_reply": "2023-07-05T05:44:26.706504Z"
    },
    "papermill": {
     "duration": 0.079124,
     "end_time": "2023-07-05T05:44:26.709779",
     "exception": false,
     "start_time": "2023-07-05T05:44:26.630655",
     "status": "completed"
    },
    "tags": []
   },
   "outputs": [
    {
     "data": {
      "text/html": [
       "<div>\n",
       "<style scoped>\n",
       "    .dataframe tbody tr th:only-of-type {\n",
       "        vertical-align: middle;\n",
       "    }\n",
       "\n",
       "    .dataframe tbody tr th {\n",
       "        vertical-align: top;\n",
       "    }\n",
       "\n",
       "    .dataframe thead th {\n",
       "        text-align: right;\n",
       "    }\n",
       "</style>\n",
       "<table border=\"1\" class=\"dataframe\">\n",
       "  <thead>\n",
       "    <tr style=\"text-align: right;\">\n",
       "      <th></th>\n",
       "      <th>RowNumber</th>\n",
       "      <th>CustomerId</th>\n",
       "      <th>Surname</th>\n",
       "      <th>CreditScore</th>\n",
       "      <th>Geography</th>\n",
       "      <th>Gender</th>\n",
       "      <th>Age</th>\n",
       "      <th>Tenure</th>\n",
       "      <th>Balance</th>\n",
       "      <th>NumOfProducts</th>\n",
       "      <th>HasCrCard</th>\n",
       "      <th>IsActiveMember</th>\n",
       "      <th>EstimatedSalary</th>\n",
       "      <th>Exited</th>\n",
       "    </tr>\n",
       "  </thead>\n",
       "  <tbody>\n",
       "    <tr>\n",
       "      <th>0</th>\n",
       "      <td>1</td>\n",
       "      <td>15634602</td>\n",
       "      <td>Hargrave</td>\n",
       "      <td>619</td>\n",
       "      <td>France</td>\n",
       "      <td>Female</td>\n",
       "      <td>42</td>\n",
       "      <td>2</td>\n",
       "      <td>0.00</td>\n",
       "      <td>1</td>\n",
       "      <td>1</td>\n",
       "      <td>1</td>\n",
       "      <td>101348.88</td>\n",
       "      <td>1</td>\n",
       "    </tr>\n",
       "    <tr>\n",
       "      <th>1</th>\n",
       "      <td>2</td>\n",
       "      <td>15647311</td>\n",
       "      <td>Hill</td>\n",
       "      <td>608</td>\n",
       "      <td>Spain</td>\n",
       "      <td>Female</td>\n",
       "      <td>41</td>\n",
       "      <td>1</td>\n",
       "      <td>83807.86</td>\n",
       "      <td>1</td>\n",
       "      <td>0</td>\n",
       "      <td>1</td>\n",
       "      <td>112542.58</td>\n",
       "      <td>0</td>\n",
       "    </tr>\n",
       "    <tr>\n",
       "      <th>2</th>\n",
       "      <td>3</td>\n",
       "      <td>15619304</td>\n",
       "      <td>Onio</td>\n",
       "      <td>502</td>\n",
       "      <td>France</td>\n",
       "      <td>Female</td>\n",
       "      <td>42</td>\n",
       "      <td>8</td>\n",
       "      <td>159660.80</td>\n",
       "      <td>3</td>\n",
       "      <td>1</td>\n",
       "      <td>0</td>\n",
       "      <td>113931.57</td>\n",
       "      <td>1</td>\n",
       "    </tr>\n",
       "    <tr>\n",
       "      <th>3</th>\n",
       "      <td>4</td>\n",
       "      <td>15701354</td>\n",
       "      <td>Boni</td>\n",
       "      <td>699</td>\n",
       "      <td>France</td>\n",
       "      <td>Female</td>\n",
       "      <td>39</td>\n",
       "      <td>1</td>\n",
       "      <td>0.00</td>\n",
       "      <td>2</td>\n",
       "      <td>0</td>\n",
       "      <td>0</td>\n",
       "      <td>93826.63</td>\n",
       "      <td>0</td>\n",
       "    </tr>\n",
       "    <tr>\n",
       "      <th>4</th>\n",
       "      <td>5</td>\n",
       "      <td>15737888</td>\n",
       "      <td>Mitchell</td>\n",
       "      <td>850</td>\n",
       "      <td>Spain</td>\n",
       "      <td>Female</td>\n",
       "      <td>43</td>\n",
       "      <td>2</td>\n",
       "      <td>125510.82</td>\n",
       "      <td>1</td>\n",
       "      <td>1</td>\n",
       "      <td>1</td>\n",
       "      <td>79084.10</td>\n",
       "      <td>0</td>\n",
       "    </tr>\n",
       "  </tbody>\n",
       "</table>\n",
       "</div>"
      ],
      "text/plain": [
       "   RowNumber  CustomerId   Surname  CreditScore Geography  Gender  Age  \\\n",
       "0          1    15634602  Hargrave          619    France  Female   42   \n",
       "1          2    15647311      Hill          608     Spain  Female   41   \n",
       "2          3    15619304      Onio          502    France  Female   42   \n",
       "3          4    15701354      Boni          699    France  Female   39   \n",
       "4          5    15737888  Mitchell          850     Spain  Female   43   \n",
       "\n",
       "   Tenure    Balance  NumOfProducts  HasCrCard  IsActiveMember  \\\n",
       "0       2       0.00              1          1               1   \n",
       "1       1   83807.86              1          0               1   \n",
       "2       8  159660.80              3          1               0   \n",
       "3       1       0.00              2          0               0   \n",
       "4       2  125510.82              1          1               1   \n",
       "\n",
       "   EstimatedSalary  Exited  \n",
       "0        101348.88       1  \n",
       "1        112542.58       0  \n",
       "2        113931.57       1  \n",
       "3         93826.63       0  \n",
       "4         79084.10       0  "
      ]
     },
     "execution_count": 3,
     "metadata": {},
     "output_type": "execute_result"
    }
   ],
   "source": [
    "df= pd.read_csv(\"/kaggle/input/deep-learning-az-ann/Churn_Modelling.csv\")\n",
    "df.head(5)"
   ]
  },
  {
   "cell_type": "markdown",
   "id": "a1f190fa",
   "metadata": {
    "papermill": {
     "duration": 0.007059,
     "end_time": "2023-07-05T05:44:26.724748",
     "exception": false,
     "start_time": "2023-07-05T05:44:26.717689",
     "status": "completed"
    },
    "tags": []
   },
   "source": [
    "# DATA PREPROCESSING"
   ]
  },
  {
   "cell_type": "code",
   "execution_count": 4,
   "id": "ffe865ac",
   "metadata": {
    "execution": {
     "iopub.execute_input": "2023-07-05T05:44:26.741264Z",
     "iopub.status.busy": "2023-07-05T05:44:26.740301Z",
     "iopub.status.idle": "2023-07-05T05:44:26.745127Z",
     "shell.execute_reply": "2023-07-05T05:44:26.744119Z"
    },
    "papermill": {
     "duration": 0.015105,
     "end_time": "2023-07-05T05:44:26.747151",
     "exception": false,
     "start_time": "2023-07-05T05:44:26.732046",
     "status": "completed"
    },
    "tags": []
   },
   "outputs": [],
   "source": [
    "from sklearn.preprocessing import LabelEncoder"
   ]
  },
  {
   "cell_type": "markdown",
   "id": "0ce5dcad",
   "metadata": {
    "papermill": {
     "duration": 0.006925,
     "end_time": "2023-07-05T05:44:26.761295",
     "exception": false,
     "start_time": "2023-07-05T05:44:26.754370",
     "status": "completed"
    },
    "tags": []
   },
   "source": [
    "**USING LABEL ENCODER FOR CONVERTING CATEGORICAL INTO NUMERICAL VALUES**"
   ]
  },
  {
   "cell_type": "code",
   "execution_count": 5,
   "id": "4aa51891",
   "metadata": {
    "execution": {
     "iopub.execute_input": "2023-07-05T05:44:26.777146Z",
     "iopub.status.busy": "2023-07-05T05:44:26.776846Z",
     "iopub.status.idle": "2023-07-05T05:44:26.789035Z",
     "shell.execute_reply": "2023-07-05T05:44:26.788114Z"
    },
    "papermill": {
     "duration": 0.022531,
     "end_time": "2023-07-05T05:44:26.791125",
     "exception": false,
     "start_time": "2023-07-05T05:44:26.768594",
     "status": "completed"
    },
    "tags": []
   },
   "outputs": [],
   "source": [
    "le=LabelEncoder()\n",
    "df[\"Geography\"]=le.fit_transform(df[\"Geography\"])\n",
    "df[\"Gender\"]=le.fit_transform(df[\"Gender\"])\n"
   ]
  },
  {
   "cell_type": "code",
   "execution_count": 6,
   "id": "906d46ef",
   "metadata": {
    "execution": {
     "iopub.execute_input": "2023-07-05T05:44:26.806672Z",
     "iopub.status.busy": "2023-07-05T05:44:26.806414Z",
     "iopub.status.idle": "2023-07-05T05:44:26.830104Z",
     "shell.execute_reply": "2023-07-05T05:44:26.829031Z"
    },
    "papermill": {
     "duration": 0.034182,
     "end_time": "2023-07-05T05:44:26.832415",
     "exception": false,
     "start_time": "2023-07-05T05:44:26.798233",
     "status": "completed"
    },
    "tags": []
   },
   "outputs": [
    {
     "data": {
      "text/html": [
       "<div>\n",
       "<style scoped>\n",
       "    .dataframe tbody tr th:only-of-type {\n",
       "        vertical-align: middle;\n",
       "    }\n",
       "\n",
       "    .dataframe tbody tr th {\n",
       "        vertical-align: top;\n",
       "    }\n",
       "\n",
       "    .dataframe thead th {\n",
       "        text-align: right;\n",
       "    }\n",
       "</style>\n",
       "<table border=\"1\" class=\"dataframe\">\n",
       "  <thead>\n",
       "    <tr style=\"text-align: right;\">\n",
       "      <th></th>\n",
       "      <th>RowNumber</th>\n",
       "      <th>CustomerId</th>\n",
       "      <th>Surname</th>\n",
       "      <th>CreditScore</th>\n",
       "      <th>Geography</th>\n",
       "      <th>Gender</th>\n",
       "      <th>Age</th>\n",
       "      <th>Tenure</th>\n",
       "      <th>Balance</th>\n",
       "      <th>NumOfProducts</th>\n",
       "      <th>HasCrCard</th>\n",
       "      <th>IsActiveMember</th>\n",
       "      <th>EstimatedSalary</th>\n",
       "      <th>Exited</th>\n",
       "    </tr>\n",
       "  </thead>\n",
       "  <tbody>\n",
       "    <tr>\n",
       "      <th>0</th>\n",
       "      <td>1</td>\n",
       "      <td>15634602</td>\n",
       "      <td>Hargrave</td>\n",
       "      <td>619</td>\n",
       "      <td>0</td>\n",
       "      <td>0</td>\n",
       "      <td>42</td>\n",
       "      <td>2</td>\n",
       "      <td>0.00</td>\n",
       "      <td>1</td>\n",
       "      <td>1</td>\n",
       "      <td>1</td>\n",
       "      <td>101348.88</td>\n",
       "      <td>1</td>\n",
       "    </tr>\n",
       "    <tr>\n",
       "      <th>1</th>\n",
       "      <td>2</td>\n",
       "      <td>15647311</td>\n",
       "      <td>Hill</td>\n",
       "      <td>608</td>\n",
       "      <td>2</td>\n",
       "      <td>0</td>\n",
       "      <td>41</td>\n",
       "      <td>1</td>\n",
       "      <td>83807.86</td>\n",
       "      <td>1</td>\n",
       "      <td>0</td>\n",
       "      <td>1</td>\n",
       "      <td>112542.58</td>\n",
       "      <td>0</td>\n",
       "    </tr>\n",
       "    <tr>\n",
       "      <th>2</th>\n",
       "      <td>3</td>\n",
       "      <td>15619304</td>\n",
       "      <td>Onio</td>\n",
       "      <td>502</td>\n",
       "      <td>0</td>\n",
       "      <td>0</td>\n",
       "      <td>42</td>\n",
       "      <td>8</td>\n",
       "      <td>159660.80</td>\n",
       "      <td>3</td>\n",
       "      <td>1</td>\n",
       "      <td>0</td>\n",
       "      <td>113931.57</td>\n",
       "      <td>1</td>\n",
       "    </tr>\n",
       "    <tr>\n",
       "      <th>3</th>\n",
       "      <td>4</td>\n",
       "      <td>15701354</td>\n",
       "      <td>Boni</td>\n",
       "      <td>699</td>\n",
       "      <td>0</td>\n",
       "      <td>0</td>\n",
       "      <td>39</td>\n",
       "      <td>1</td>\n",
       "      <td>0.00</td>\n",
       "      <td>2</td>\n",
       "      <td>0</td>\n",
       "      <td>0</td>\n",
       "      <td>93826.63</td>\n",
       "      <td>0</td>\n",
       "    </tr>\n",
       "    <tr>\n",
       "      <th>4</th>\n",
       "      <td>5</td>\n",
       "      <td>15737888</td>\n",
       "      <td>Mitchell</td>\n",
       "      <td>850</td>\n",
       "      <td>2</td>\n",
       "      <td>0</td>\n",
       "      <td>43</td>\n",
       "      <td>2</td>\n",
       "      <td>125510.82</td>\n",
       "      <td>1</td>\n",
       "      <td>1</td>\n",
       "      <td>1</td>\n",
       "      <td>79084.10</td>\n",
       "      <td>0</td>\n",
       "    </tr>\n",
       "  </tbody>\n",
       "</table>\n",
       "</div>"
      ],
      "text/plain": [
       "   RowNumber  CustomerId   Surname  CreditScore  Geography  Gender  Age  \\\n",
       "0          1    15634602  Hargrave          619          0       0   42   \n",
       "1          2    15647311      Hill          608          2       0   41   \n",
       "2          3    15619304      Onio          502          0       0   42   \n",
       "3          4    15701354      Boni          699          0       0   39   \n",
       "4          5    15737888  Mitchell          850          2       0   43   \n",
       "\n",
       "   Tenure    Balance  NumOfProducts  HasCrCard  IsActiveMember  \\\n",
       "0       2       0.00              1          1               1   \n",
       "1       1   83807.86              1          0               1   \n",
       "2       8  159660.80              3          1               0   \n",
       "3       1       0.00              2          0               0   \n",
       "4       2  125510.82              1          1               1   \n",
       "\n",
       "   EstimatedSalary  Exited  \n",
       "0        101348.88       1  \n",
       "1        112542.58       0  \n",
       "2        113931.57       1  \n",
       "3         93826.63       0  \n",
       "4         79084.10       0  "
      ]
     },
     "execution_count": 6,
     "metadata": {},
     "output_type": "execute_result"
    }
   ],
   "source": [
    "df.head()"
   ]
  },
  {
   "cell_type": "markdown",
   "id": "1cc5b85a",
   "metadata": {
    "papermill": {
     "duration": 0.007293,
     "end_time": "2023-07-05T05:44:26.847710",
     "exception": false,
     "start_time": "2023-07-05T05:44:26.840417",
     "status": "completed"
    },
    "tags": []
   },
   "source": [
    "# TRAIN TEST SPLIT"
   ]
  },
  {
   "cell_type": "code",
   "execution_count": 7,
   "id": "dcc7f4ea",
   "metadata": {
    "execution": {
     "iopub.execute_input": "2023-07-05T05:44:26.864541Z",
     "iopub.status.busy": "2023-07-05T05:44:26.863697Z",
     "iopub.status.idle": "2023-07-05T05:44:27.036003Z",
     "shell.execute_reply": "2023-07-05T05:44:27.035107Z"
    },
    "papermill": {
     "duration": 0.183282,
     "end_time": "2023-07-05T05:44:27.038424",
     "exception": false,
     "start_time": "2023-07-05T05:44:26.855142",
     "status": "completed"
    },
    "tags": []
   },
   "outputs": [],
   "source": [
    "from sklearn.model_selection import train_test_split\n",
    "x=df.iloc[:,3:13]\n",
    "y=df[\"Exited\"]"
   ]
  },
  {
   "cell_type": "code",
   "execution_count": 8,
   "id": "8af608ed",
   "metadata": {
    "execution": {
     "iopub.execute_input": "2023-07-05T05:44:27.056116Z",
     "iopub.status.busy": "2023-07-05T05:44:27.055117Z",
     "iopub.status.idle": "2023-07-05T05:44:27.068921Z",
     "shell.execute_reply": "2023-07-05T05:44:27.068024Z"
    },
    "papermill": {
     "duration": 0.024757,
     "end_time": "2023-07-05T05:44:27.071197",
     "exception": false,
     "start_time": "2023-07-05T05:44:27.046440",
     "status": "completed"
    },
    "tags": []
   },
   "outputs": [
    {
     "data": {
      "text/html": [
       "<div>\n",
       "<style scoped>\n",
       "    .dataframe tbody tr th:only-of-type {\n",
       "        vertical-align: middle;\n",
       "    }\n",
       "\n",
       "    .dataframe tbody tr th {\n",
       "        vertical-align: top;\n",
       "    }\n",
       "\n",
       "    .dataframe thead th {\n",
       "        text-align: right;\n",
       "    }\n",
       "</style>\n",
       "<table border=\"1\" class=\"dataframe\">\n",
       "  <thead>\n",
       "    <tr style=\"text-align: right;\">\n",
       "      <th></th>\n",
       "      <th>CreditScore</th>\n",
       "      <th>Geography</th>\n",
       "      <th>Gender</th>\n",
       "      <th>Age</th>\n",
       "      <th>Tenure</th>\n",
       "      <th>Balance</th>\n",
       "      <th>NumOfProducts</th>\n",
       "      <th>HasCrCard</th>\n",
       "      <th>IsActiveMember</th>\n",
       "      <th>EstimatedSalary</th>\n",
       "    </tr>\n",
       "  </thead>\n",
       "  <tbody>\n",
       "    <tr>\n",
       "      <th>0</th>\n",
       "      <td>619</td>\n",
       "      <td>0</td>\n",
       "      <td>0</td>\n",
       "      <td>42</td>\n",
       "      <td>2</td>\n",
       "      <td>0.00</td>\n",
       "      <td>1</td>\n",
       "      <td>1</td>\n",
       "      <td>1</td>\n",
       "      <td>101348.88</td>\n",
       "    </tr>\n",
       "    <tr>\n",
       "      <th>1</th>\n",
       "      <td>608</td>\n",
       "      <td>2</td>\n",
       "      <td>0</td>\n",
       "      <td>41</td>\n",
       "      <td>1</td>\n",
       "      <td>83807.86</td>\n",
       "      <td>1</td>\n",
       "      <td>0</td>\n",
       "      <td>1</td>\n",
       "      <td>112542.58</td>\n",
       "    </tr>\n",
       "    <tr>\n",
       "      <th>2</th>\n",
       "      <td>502</td>\n",
       "      <td>0</td>\n",
       "      <td>0</td>\n",
       "      <td>42</td>\n",
       "      <td>8</td>\n",
       "      <td>159660.80</td>\n",
       "      <td>3</td>\n",
       "      <td>1</td>\n",
       "      <td>0</td>\n",
       "      <td>113931.57</td>\n",
       "    </tr>\n",
       "    <tr>\n",
       "      <th>3</th>\n",
       "      <td>699</td>\n",
       "      <td>0</td>\n",
       "      <td>0</td>\n",
       "      <td>39</td>\n",
       "      <td>1</td>\n",
       "      <td>0.00</td>\n",
       "      <td>2</td>\n",
       "      <td>0</td>\n",
       "      <td>0</td>\n",
       "      <td>93826.63</td>\n",
       "    </tr>\n",
       "    <tr>\n",
       "      <th>4</th>\n",
       "      <td>850</td>\n",
       "      <td>2</td>\n",
       "      <td>0</td>\n",
       "      <td>43</td>\n",
       "      <td>2</td>\n",
       "      <td>125510.82</td>\n",
       "      <td>1</td>\n",
       "      <td>1</td>\n",
       "      <td>1</td>\n",
       "      <td>79084.10</td>\n",
       "    </tr>\n",
       "  </tbody>\n",
       "</table>\n",
       "</div>"
      ],
      "text/plain": [
       "   CreditScore  Geography  Gender  Age  Tenure    Balance  NumOfProducts  \\\n",
       "0          619          0       0   42       2       0.00              1   \n",
       "1          608          2       0   41       1   83807.86              1   \n",
       "2          502          0       0   42       8  159660.80              3   \n",
       "3          699          0       0   39       1       0.00              2   \n",
       "4          850          2       0   43       2  125510.82              1   \n",
       "\n",
       "   HasCrCard  IsActiveMember  EstimatedSalary  \n",
       "0          1               1        101348.88  \n",
       "1          0               1        112542.58  \n",
       "2          1               0        113931.57  \n",
       "3          0               0         93826.63  \n",
       "4          1               1         79084.10  "
      ]
     },
     "execution_count": 8,
     "metadata": {},
     "output_type": "execute_result"
    }
   ],
   "source": [
    "x.head()"
   ]
  },
  {
   "cell_type": "code",
   "execution_count": 9,
   "id": "2694bd13",
   "metadata": {
    "execution": {
     "iopub.execute_input": "2023-07-05T05:44:27.089024Z",
     "iopub.status.busy": "2023-07-05T05:44:27.088755Z",
     "iopub.status.idle": "2023-07-05T05:44:27.095184Z",
     "shell.execute_reply": "2023-07-05T05:44:27.094262Z"
    },
    "papermill": {
     "duration": 0.017462,
     "end_time": "2023-07-05T05:44:27.097166",
     "exception": false,
     "start_time": "2023-07-05T05:44:27.079704",
     "status": "completed"
    },
    "tags": []
   },
   "outputs": [
    {
     "data": {
      "text/plain": [
       "0    1\n",
       "1    0\n",
       "2    1\n",
       "3    0\n",
       "4    0\n",
       "Name: Exited, dtype: int64"
      ]
     },
     "execution_count": 9,
     "metadata": {},
     "output_type": "execute_result"
    }
   ],
   "source": [
    "y.head()"
   ]
  },
  {
   "cell_type": "code",
   "execution_count": 10,
   "id": "159601e4",
   "metadata": {
    "execution": {
     "iopub.execute_input": "2023-07-05T05:44:27.114724Z",
     "iopub.status.busy": "2023-07-05T05:44:27.113819Z",
     "iopub.status.idle": "2023-07-05T05:44:27.122917Z",
     "shell.execute_reply": "2023-07-05T05:44:27.122067Z"
    },
    "papermill": {
     "duration": 0.01995,
     "end_time": "2023-07-05T05:44:27.124883",
     "exception": false,
     "start_time": "2023-07-05T05:44:27.104933",
     "status": "completed"
    },
    "tags": []
   },
   "outputs": [],
   "source": [
    "x_train,x_test,y_train,y_test=train_test_split(x,y,test_size=0.2)"
   ]
  },
  {
   "cell_type": "code",
   "execution_count": 11,
   "id": "7b54e563",
   "metadata": {
    "execution": {
     "iopub.execute_input": "2023-07-05T05:44:27.142346Z",
     "iopub.status.busy": "2023-07-05T05:44:27.141487Z",
     "iopub.status.idle": "2023-07-05T05:44:27.155285Z",
     "shell.execute_reply": "2023-07-05T05:44:27.154189Z"
    },
    "papermill": {
     "duration": 0.024547,
     "end_time": "2023-07-05T05:44:27.157665",
     "exception": false,
     "start_time": "2023-07-05T05:44:27.133118",
     "status": "completed"
    },
    "tags": []
   },
   "outputs": [
    {
     "data": {
      "text/html": [
       "<div>\n",
       "<style scoped>\n",
       "    .dataframe tbody tr th:only-of-type {\n",
       "        vertical-align: middle;\n",
       "    }\n",
       "\n",
       "    .dataframe tbody tr th {\n",
       "        vertical-align: top;\n",
       "    }\n",
       "\n",
       "    .dataframe thead th {\n",
       "        text-align: right;\n",
       "    }\n",
       "</style>\n",
       "<table border=\"1\" class=\"dataframe\">\n",
       "  <thead>\n",
       "    <tr style=\"text-align: right;\">\n",
       "      <th></th>\n",
       "      <th>CreditScore</th>\n",
       "      <th>Geography</th>\n",
       "      <th>Gender</th>\n",
       "      <th>Age</th>\n",
       "      <th>Tenure</th>\n",
       "      <th>Balance</th>\n",
       "      <th>NumOfProducts</th>\n",
       "      <th>HasCrCard</th>\n",
       "      <th>IsActiveMember</th>\n",
       "      <th>EstimatedSalary</th>\n",
       "    </tr>\n",
       "  </thead>\n",
       "  <tbody>\n",
       "    <tr>\n",
       "      <th>1051</th>\n",
       "      <td>625</td>\n",
       "      <td>2</td>\n",
       "      <td>0</td>\n",
       "      <td>49</td>\n",
       "      <td>2</td>\n",
       "      <td>80816.45</td>\n",
       "      <td>1</td>\n",
       "      <td>1</td>\n",
       "      <td>1</td>\n",
       "      <td>20018.79</td>\n",
       "    </tr>\n",
       "    <tr>\n",
       "      <th>1804</th>\n",
       "      <td>552</td>\n",
       "      <td>0</td>\n",
       "      <td>1</td>\n",
       "      <td>33</td>\n",
       "      <td>5</td>\n",
       "      <td>140931.57</td>\n",
       "      <td>1</td>\n",
       "      <td>0</td>\n",
       "      <td>1</td>\n",
       "      <td>10921.50</td>\n",
       "    </tr>\n",
       "    <tr>\n",
       "      <th>6620</th>\n",
       "      <td>732</td>\n",
       "      <td>0</td>\n",
       "      <td>1</td>\n",
       "      <td>36</td>\n",
       "      <td>5</td>\n",
       "      <td>0.00</td>\n",
       "      <td>2</td>\n",
       "      <td>1</td>\n",
       "      <td>0</td>\n",
       "      <td>161428.25</td>\n",
       "    </tr>\n",
       "    <tr>\n",
       "      <th>235</th>\n",
       "      <td>763</td>\n",
       "      <td>1</td>\n",
       "      <td>1</td>\n",
       "      <td>42</td>\n",
       "      <td>6</td>\n",
       "      <td>100160.75</td>\n",
       "      <td>1</td>\n",
       "      <td>1</td>\n",
       "      <td>0</td>\n",
       "      <td>33462.94</td>\n",
       "    </tr>\n",
       "    <tr>\n",
       "      <th>3167</th>\n",
       "      <td>637</td>\n",
       "      <td>0</td>\n",
       "      <td>0</td>\n",
       "      <td>48</td>\n",
       "      <td>7</td>\n",
       "      <td>130806.99</td>\n",
       "      <td>2</td>\n",
       "      <td>1</td>\n",
       "      <td>1</td>\n",
       "      <td>132005.85</td>\n",
       "    </tr>\n",
       "  </tbody>\n",
       "</table>\n",
       "</div>"
      ],
      "text/plain": [
       "      CreditScore  Geography  Gender  Age  Tenure    Balance  NumOfProducts  \\\n",
       "1051          625          2       0   49       2   80816.45              1   \n",
       "1804          552          0       1   33       5  140931.57              1   \n",
       "6620          732          0       1   36       5       0.00              2   \n",
       "235           763          1       1   42       6  100160.75              1   \n",
       "3167          637          0       0   48       7  130806.99              2   \n",
       "\n",
       "      HasCrCard  IsActiveMember  EstimatedSalary  \n",
       "1051          1               1         20018.79  \n",
       "1804          0               1         10921.50  \n",
       "6620          1               0        161428.25  \n",
       "235           1               0         33462.94  \n",
       "3167          1               1        132005.85  "
      ]
     },
     "execution_count": 11,
     "metadata": {},
     "output_type": "execute_result"
    }
   ],
   "source": [
    "x_train.head()"
   ]
  },
  {
   "cell_type": "code",
   "execution_count": 12,
   "id": "5dd86e5c",
   "metadata": {
    "execution": {
     "iopub.execute_input": "2023-07-05T05:44:27.176292Z",
     "iopub.status.busy": "2023-07-05T05:44:27.175425Z",
     "iopub.status.idle": "2023-07-05T05:44:27.183695Z",
     "shell.execute_reply": "2023-07-05T05:44:27.182743Z"
    },
    "papermill": {
     "duration": 0.019081,
     "end_time": "2023-07-05T05:44:27.185689",
     "exception": false,
     "start_time": "2023-07-05T05:44:27.166608",
     "status": "completed"
    },
    "tags": []
   },
   "outputs": [
    {
     "data": {
      "text/plain": [
       "5311    0\n",
       "7548    0\n",
       "3708    0\n",
       "3946    0\n",
       "824     0\n",
       "       ..\n",
       "4967    1\n",
       "8249    0\n",
       "7255    1\n",
       "1553    0\n",
       "2369    1\n",
       "Name: Exited, Length: 2000, dtype: int64"
      ]
     },
     "execution_count": 12,
     "metadata": {},
     "output_type": "execute_result"
    }
   ],
   "source": [
    "y_test"
   ]
  },
  {
   "cell_type": "markdown",
   "id": "a53d1df1",
   "metadata": {
    "papermill": {
     "duration": 0.007911,
     "end_time": "2023-07-05T05:44:27.201736",
     "exception": false,
     "start_time": "2023-07-05T05:44:27.193825",
     "status": "completed"
    },
    "tags": []
   },
   "source": [
    "# SCALER STANDARDIZATION"
   ]
  },
  {
   "cell_type": "code",
   "execution_count": 13,
   "id": "47cd21cc",
   "metadata": {
    "execution": {
     "iopub.execute_input": "2023-07-05T05:44:27.219555Z",
     "iopub.status.busy": "2023-07-05T05:44:27.218727Z",
     "iopub.status.idle": "2023-07-05T05:44:27.228425Z",
     "shell.execute_reply": "2023-07-05T05:44:27.227570Z"
    },
    "papermill": {
     "duration": 0.020625,
     "end_time": "2023-07-05T05:44:27.230420",
     "exception": false,
     "start_time": "2023-07-05T05:44:27.209795",
     "status": "completed"
    },
    "tags": []
   },
   "outputs": [],
   "source": [
    "scaler = MinMaxScaler(feature_range=(0, 1))\n",
    "rescaledX_train = scaler.fit_transform(x)"
   ]
  },
  {
   "cell_type": "markdown",
   "id": "8f2ec12e",
   "metadata": {
    "papermill": {
     "duration": 0.008081,
     "end_time": "2023-07-05T05:44:27.246932",
     "exception": false,
     "start_time": "2023-07-05T05:44:27.238851",
     "status": "completed"
    },
    "tags": []
   },
   "source": [
    "# MODEL INITIALIZING"
   ]
  },
  {
   "cell_type": "markdown",
   "id": "a28a6159",
   "metadata": {
    "papermill": {
     "duration": 0.007984,
     "end_time": "2023-07-05T05:44:27.263277",
     "exception": false,
     "start_time": "2023-07-05T05:44:27.255293",
     "status": "completed"
    },
    "tags": []
   },
   "source": [
    "**SEQUENTIAL NEURAL NETWORK ARCHITECHTURE MODEL**"
   ]
  },
  {
   "cell_type": "code",
   "execution_count": 14,
   "id": "d2a50b59",
   "metadata": {
    "execution": {
     "iopub.execute_input": "2023-07-05T05:44:27.281176Z",
     "iopub.status.busy": "2023-07-05T05:44:27.280341Z",
     "iopub.status.idle": "2023-07-05T05:44:32.986695Z",
     "shell.execute_reply": "2023-07-05T05:44:32.985771Z"
    },
    "papermill": {
     "duration": 5.71786,
     "end_time": "2023-07-05T05:44:32.989046",
     "exception": false,
     "start_time": "2023-07-05T05:44:27.271186",
     "status": "completed"
    },
    "tags": []
   },
   "outputs": [],
   "source": [
    "model = Sequential()\n",
    "model.add(Dense(12, input_dim=10, kernel_initializer='random_uniform', activation='relu'))\n",
    "model.add(Dense(10, kernel_initializer='random_uniform', activation='relu'))\n",
    "model.add(Dense(1, kernel_initializer='random_uniform', activation='relu'))\n",
    "model.compile(loss='binary_crossentropy', optimizer='adam', metrics=['accuracy'])\n"
   ]
  },
  {
   "cell_type": "markdown",
   "id": "c4cdc320",
   "metadata": {
    "papermill": {
     "duration": 0.007926,
     "end_time": "2023-07-05T05:44:33.005395",
     "exception": false,
     "start_time": "2023-07-05T05:44:32.997469",
     "status": "completed"
    },
    "tags": []
   },
   "source": [
    "# MODEL TRAINING ANN"
   ]
  },
  {
   "cell_type": "code",
   "execution_count": 15,
   "id": "77ad8f2e",
   "metadata": {
    "execution": {
     "iopub.execute_input": "2023-07-05T05:44:33.024421Z",
     "iopub.status.busy": "2023-07-05T05:44:33.022852Z",
     "iopub.status.idle": "2023-07-05T05:45:55.825408Z",
     "shell.execute_reply": "2023-07-05T05:45:55.824295Z"
    },
    "papermill": {
     "duration": 82.814855,
     "end_time": "2023-07-05T05:45:55.828374",
     "exception": false,
     "start_time": "2023-07-05T05:44:33.013519",
     "status": "completed"
    },
    "tags": []
   },
   "outputs": [
    {
     "name": "stdout",
     "output_type": "stream",
     "text": [
      "Epoch 1/100\n",
      "200/200 [==============================] - 8s 3ms/step - loss: 0.6440 - accuracy: 0.7963\n",
      "Epoch 2/100\n",
      "200/200 [==============================] - 1s 3ms/step - loss: 0.4964 - accuracy: 0.7963\n",
      "Epoch 3/100\n",
      "200/200 [==============================] - 1s 3ms/step - loss: 0.4761 - accuracy: 0.7963\n",
      "Epoch 4/100\n",
      "200/200 [==============================] - 1s 3ms/step - loss: 0.4618 - accuracy: 0.7967\n",
      "Epoch 5/100\n",
      "200/200 [==============================] - 1s 3ms/step - loss: 0.4505 - accuracy: 0.7998\n",
      "Epoch 6/100\n",
      "200/200 [==============================] - 1s 3ms/step - loss: 0.4415 - accuracy: 0.8047\n",
      "Epoch 7/100\n",
      "200/200 [==============================] - 1s 3ms/step - loss: 0.4351 - accuracy: 0.8090\n",
      "Epoch 8/100\n",
      "200/200 [==============================] - 1s 3ms/step - loss: 0.4222 - accuracy: 0.8121\n",
      "Epoch 9/100\n",
      "200/200 [==============================] - 1s 3ms/step - loss: 0.4004 - accuracy: 0.8247\n",
      "Epoch 10/100\n",
      "200/200 [==============================] - 1s 3ms/step - loss: 0.3852 - accuracy: 0.8356\n",
      "Epoch 11/100\n",
      "200/200 [==============================] - 1s 4ms/step - loss: 0.3897 - accuracy: 0.8377\n",
      "Epoch 12/100\n",
      "200/200 [==============================] - 1s 5ms/step - loss: 0.3770 - accuracy: 0.8395\n",
      "Epoch 13/100\n",
      "200/200 [==============================] - 1s 3ms/step - loss: 0.3736 - accuracy: 0.8457\n",
      "Epoch 14/100\n",
      "200/200 [==============================] - 1s 3ms/step - loss: 0.3732 - accuracy: 0.8479\n",
      "Epoch 15/100\n",
      "200/200 [==============================] - 1s 3ms/step - loss: 0.3723 - accuracy: 0.8500\n",
      "Epoch 16/100\n",
      "200/200 [==============================] - 1s 3ms/step - loss: 0.3712 - accuracy: 0.8504\n",
      "Epoch 17/100\n",
      "200/200 [==============================] - 1s 3ms/step - loss: 0.3697 - accuracy: 0.8505\n",
      "Epoch 18/100\n",
      "200/200 [==============================] - 1s 3ms/step - loss: 0.3694 - accuracy: 0.8510\n",
      "Epoch 19/100\n",
      "200/200 [==============================] - 1s 3ms/step - loss: 0.3716 - accuracy: 0.8539\n",
      "Epoch 20/100\n",
      "200/200 [==============================] - 1s 3ms/step - loss: 0.3699 - accuracy: 0.8523\n",
      "Epoch 21/100\n",
      "200/200 [==============================] - 1s 3ms/step - loss: 0.3782 - accuracy: 0.8473\n",
      "Epoch 22/100\n",
      "200/200 [==============================] - 1s 3ms/step - loss: 0.3778 - accuracy: 0.8421\n",
      "Epoch 23/100\n",
      "200/200 [==============================] - 1s 3ms/step - loss: 0.3765 - accuracy: 0.8463\n",
      "Epoch 24/100\n",
      "200/200 [==============================] - 1s 3ms/step - loss: 0.4003 - accuracy: 0.8248\n",
      "Epoch 25/100\n",
      "200/200 [==============================] - 1s 3ms/step - loss: 0.3767 - accuracy: 0.8337\n",
      "Epoch 26/100\n",
      "200/200 [==============================] - 1s 3ms/step - loss: 0.3761 - accuracy: 0.8343\n",
      "Epoch 27/100\n",
      "200/200 [==============================] - 1s 3ms/step - loss: 0.3719 - accuracy: 0.8390\n",
      "Epoch 28/100\n",
      "200/200 [==============================] - 1s 3ms/step - loss: 0.3687 - accuracy: 0.8434\n",
      "Epoch 29/100\n",
      "200/200 [==============================] - 1s 3ms/step - loss: 0.3676 - accuracy: 0.8434\n",
      "Epoch 30/100\n",
      "200/200 [==============================] - 1s 3ms/step - loss: 0.3667 - accuracy: 0.8450\n",
      "Epoch 31/100\n",
      "200/200 [==============================] - 1s 3ms/step - loss: 0.3678 - accuracy: 0.8506\n",
      "Epoch 32/100\n",
      "200/200 [==============================] - 1s 3ms/step - loss: 0.3665 - accuracy: 0.8526\n",
      "Epoch 33/100\n",
      "200/200 [==============================] - 1s 3ms/step - loss: 0.3650 - accuracy: 0.8521\n",
      "Epoch 34/100\n",
      "200/200 [==============================] - 1s 3ms/step - loss: 0.3642 - accuracy: 0.8532\n",
      "Epoch 35/100\n",
      "200/200 [==============================] - 1s 3ms/step - loss: 0.3624 - accuracy: 0.8545\n",
      "Epoch 36/100\n",
      "200/200 [==============================] - 1s 3ms/step - loss: 0.3617 - accuracy: 0.8527\n",
      "Epoch 37/100\n",
      "200/200 [==============================] - 1s 3ms/step - loss: 0.3612 - accuracy: 0.8539\n",
      "Epoch 38/100\n",
      "200/200 [==============================] - 1s 3ms/step - loss: 0.3610 - accuracy: 0.8557\n",
      "Epoch 39/100\n",
      "200/200 [==============================] - 1s 3ms/step - loss: 0.3635 - accuracy: 0.8516\n",
      "Epoch 40/100\n",
      "200/200 [==============================] - 1s 3ms/step - loss: 0.3631 - accuracy: 0.8559\n",
      "Epoch 41/100\n",
      "200/200 [==============================] - 1s 3ms/step - loss: 0.3588 - accuracy: 0.8552\n",
      "Epoch 42/100\n",
      "200/200 [==============================] - 1s 3ms/step - loss: 0.3578 - accuracy: 0.8561\n",
      "Epoch 43/100\n",
      "200/200 [==============================] - 1s 3ms/step - loss: 0.3628 - accuracy: 0.8488\n",
      "Epoch 44/100\n",
      "200/200 [==============================] - 1s 3ms/step - loss: 0.3567 - accuracy: 0.8567\n",
      "Epoch 45/100\n",
      "200/200 [==============================] - 1s 3ms/step - loss: 0.3545 - accuracy: 0.8579\n",
      "Epoch 46/100\n",
      "200/200 [==============================] - 1s 3ms/step - loss: 0.3546 - accuracy: 0.8569\n",
      "Epoch 47/100\n",
      "200/200 [==============================] - 1s 3ms/step - loss: 0.3574 - accuracy: 0.8570\n",
      "Epoch 48/100\n",
      "200/200 [==============================] - 1s 3ms/step - loss: 0.3565 - accuracy: 0.8560\n",
      "Epoch 49/100\n",
      "200/200 [==============================] - 1s 3ms/step - loss: 0.3549 - accuracy: 0.8582\n",
      "Epoch 50/100\n",
      "200/200 [==============================] - 1s 3ms/step - loss: 0.3569 - accuracy: 0.8583\n",
      "Epoch 51/100\n",
      "200/200 [==============================] - 1s 3ms/step - loss: 0.3553 - accuracy: 0.8577\n",
      "Epoch 52/100\n",
      "200/200 [==============================] - 1s 3ms/step - loss: 0.3582 - accuracy: 0.8586\n",
      "Epoch 53/100\n",
      "200/200 [==============================] - 1s 3ms/step - loss: 0.3558 - accuracy: 0.8571\n",
      "Epoch 54/100\n",
      "200/200 [==============================] - 1s 3ms/step - loss: 0.3864 - accuracy: 0.8470\n",
      "Epoch 55/100\n",
      "200/200 [==============================] - 1s 3ms/step - loss: 0.3650 - accuracy: 0.8515\n",
      "Epoch 56/100\n",
      "200/200 [==============================] - 1s 3ms/step - loss: 0.3612 - accuracy: 0.8563\n",
      "Epoch 57/100\n",
      "200/200 [==============================] - 1s 3ms/step - loss: 0.3535 - accuracy: 0.8572\n",
      "Epoch 58/100\n",
      "200/200 [==============================] - 1s 3ms/step - loss: 0.3549 - accuracy: 0.8574\n",
      "Epoch 59/100\n",
      "200/200 [==============================] - 1s 3ms/step - loss: 0.3534 - accuracy: 0.8580\n",
      "Epoch 60/100\n",
      "200/200 [==============================] - 1s 3ms/step - loss: 0.4365 - accuracy: 0.8372\n",
      "Epoch 61/100\n",
      "200/200 [==============================] - 1s 3ms/step - loss: 0.3971 - accuracy: 0.8438\n",
      "Epoch 62/100\n",
      "200/200 [==============================] - 1s 3ms/step - loss: 0.3870 - accuracy: 0.8475\n",
      "Epoch 63/100\n",
      "200/200 [==============================] - 1s 3ms/step - loss: 0.3790 - accuracy: 0.8486\n",
      "Epoch 64/100\n",
      "200/200 [==============================] - 1s 4ms/step - loss: 0.3757 - accuracy: 0.8521\n",
      "Epoch 65/100\n",
      "200/200 [==============================] - 1s 3ms/step - loss: 0.3723 - accuracy: 0.8523\n",
      "Epoch 66/100\n",
      "200/200 [==============================] - 1s 3ms/step - loss: 0.3715 - accuracy: 0.8516\n",
      "Epoch 67/100\n",
      "200/200 [==============================] - 1s 3ms/step - loss: 0.3687 - accuracy: 0.8546\n",
      "Epoch 68/100\n",
      "200/200 [==============================] - 1s 3ms/step - loss: 0.3672 - accuracy: 0.8546\n",
      "Epoch 69/100\n",
      "200/200 [==============================] - 1s 3ms/step - loss: 0.3663 - accuracy: 0.8533\n",
      "Epoch 70/100\n",
      "200/200 [==============================] - 1s 3ms/step - loss: 0.3660 - accuracy: 0.8542\n",
      "Epoch 71/100\n",
      "200/200 [==============================] - 1s 3ms/step - loss: 0.3653 - accuracy: 0.8552\n",
      "Epoch 72/100\n",
      "200/200 [==============================] - 1s 3ms/step - loss: 0.3635 - accuracy: 0.8551\n",
      "Epoch 73/100\n",
      "200/200 [==============================] - 1s 3ms/step - loss: 0.3622 - accuracy: 0.8558\n",
      "Epoch 74/100\n",
      "200/200 [==============================] - 1s 3ms/step - loss: 0.3675 - accuracy: 0.8532\n",
      "Epoch 75/100\n",
      "200/200 [==============================] - 1s 3ms/step - loss: 0.3662 - accuracy: 0.8550\n",
      "Epoch 76/100\n",
      "200/200 [==============================] - 1s 3ms/step - loss: 0.3657 - accuracy: 0.8539\n",
      "Epoch 77/100\n",
      "200/200 [==============================] - 1s 3ms/step - loss: 0.3614 - accuracy: 0.8549\n",
      "Epoch 78/100\n",
      "200/200 [==============================] - 1s 3ms/step - loss: 0.3617 - accuracy: 0.8569\n",
      "Epoch 79/100\n",
      "200/200 [==============================] - 1s 3ms/step - loss: 0.3607 - accuracy: 0.8550\n",
      "Epoch 80/100\n",
      "200/200 [==============================] - 1s 3ms/step - loss: 0.3603 - accuracy: 0.8564\n",
      "Epoch 81/100\n",
      "200/200 [==============================] - 1s 3ms/step - loss: 0.3595 - accuracy: 0.8585\n",
      "Epoch 82/100\n",
      "200/200 [==============================] - 1s 3ms/step - loss: 0.3587 - accuracy: 0.8583\n",
      "Epoch 83/100\n",
      "200/200 [==============================] - 1s 3ms/step - loss: 0.3583 - accuracy: 0.8580\n",
      "Epoch 84/100\n",
      "200/200 [==============================] - 1s 3ms/step - loss: 0.3583 - accuracy: 0.8577\n",
      "Epoch 85/100\n",
      "200/200 [==============================] - 1s 3ms/step - loss: 0.3576 - accuracy: 0.8568\n",
      "Epoch 86/100\n",
      "200/200 [==============================] - 1s 3ms/step - loss: 0.3602 - accuracy: 0.8554\n",
      "Epoch 87/100\n",
      "200/200 [==============================] - 1s 3ms/step - loss: 0.3726 - accuracy: 0.8494\n",
      "Epoch 88/100\n",
      "200/200 [==============================] - 1s 3ms/step - loss: 0.3650 - accuracy: 0.8537\n",
      "Epoch 89/100\n",
      "200/200 [==============================] - 1s 3ms/step - loss: 0.3643 - accuracy: 0.8538\n",
      "Epoch 90/100\n",
      "200/200 [==============================] - 1s 3ms/step - loss: 0.3585 - accuracy: 0.8558\n",
      "Epoch 91/100\n",
      "200/200 [==============================] - 1s 3ms/step - loss: 0.3568 - accuracy: 0.8569\n",
      "Epoch 92/100\n",
      "200/200 [==============================] - 1s 3ms/step - loss: 0.3564 - accuracy: 0.8580\n",
      "Epoch 93/100\n",
      "200/200 [==============================] - 1s 3ms/step - loss: 0.3541 - accuracy: 0.8576\n",
      "Epoch 94/100\n",
      "200/200 [==============================] - 1s 3ms/step - loss: 0.3581 - accuracy: 0.8567\n",
      "Epoch 95/100\n",
      "200/200 [==============================] - 1s 3ms/step - loss: 0.3553 - accuracy: 0.8585\n",
      "Epoch 96/100\n",
      "200/200 [==============================] - 1s 3ms/step - loss: 0.3517 - accuracy: 0.8593\n",
      "Epoch 97/100\n",
      "200/200 [==============================] - 1s 3ms/step - loss: 0.3526 - accuracy: 0.8587\n",
      "Epoch 98/100\n",
      "200/200 [==============================] - 1s 3ms/step - loss: 0.3530 - accuracy: 0.8616\n",
      "Epoch 99/100\n",
      "200/200 [==============================] - 1s 3ms/step - loss: 0.3530 - accuracy: 0.8594\n",
      "Epoch 100/100\n",
      "200/200 [==============================] - 1s 3ms/step - loss: 0.3518 - accuracy: 0.8606\n"
     ]
    }
   ],
   "source": [
    "Model=model.fit(rescaledX_train, y, epochs=100, batch_size=50,  verbose=1)"
   ]
  },
  {
   "cell_type": "markdown",
   "id": "99450997",
   "metadata": {
    "papermill": {
     "duration": 0.12111,
     "end_time": "2023-07-05T05:45:56.068219",
     "exception": false,
     "start_time": "2023-07-05T05:45:55.947109",
     "status": "completed"
    },
    "tags": []
   },
   "source": [
    "# ACCURACY SCORE"
   ]
  },
  {
   "cell_type": "code",
   "execution_count": 16,
   "id": "8e075aa5",
   "metadata": {
    "execution": {
     "iopub.execute_input": "2023-07-05T05:45:56.314987Z",
     "iopub.status.busy": "2023-07-05T05:45:56.314566Z",
     "iopub.status.idle": "2023-07-05T05:45:57.797428Z",
     "shell.execute_reply": "2023-07-05T05:45:57.795602Z"
    },
    "papermill": {
     "duration": 1.610058,
     "end_time": "2023-07-05T05:45:57.799587",
     "exception": false,
     "start_time": "2023-07-05T05:45:56.189529",
     "status": "completed"
    },
    "tags": []
   },
   "outputs": [
    {
     "name": "stdout",
     "output_type": "stream",
     "text": [
      "313/313 [==============================] - 1s 2ms/step - loss: 0.3498 - accuracy: 0.8616\n",
      "accuracy: 86.16%\n"
     ]
    }
   ],
   "source": [
    "scores = model.evaluate(rescaledX_train, y) \n",
    "print(\"%s: %.2f%%\" % (model.metrics_names[1], scores[1]*100))"
   ]
  },
  {
   "cell_type": "code",
   "execution_count": null,
   "id": "cee18656",
   "metadata": {
    "papermill": {
     "duration": 0.124218,
     "end_time": "2023-07-05T05:45:58.093044",
     "exception": false,
     "start_time": "2023-07-05T05:45:57.968826",
     "status": "completed"
    },
    "tags": []
   },
   "outputs": [],
   "source": []
  }
 ],
 "metadata": {
  "kernelspec": {
   "display_name": "Python 3",
   "language": "python",
   "name": "python3"
  },
  "language_info": {
   "codemirror_mode": {
    "name": "ipython",
    "version": 3
   },
   "file_extension": ".py",
   "mimetype": "text/x-python",
   "name": "python",
   "nbconvert_exporter": "python",
   "pygments_lexer": "ipython3",
   "version": "3.10.10"
  },
  "papermill": {
   "default_parameters": {},
   "duration": 125.893213,
   "end_time": "2023-07-05T05:46:01.237213",
   "environment_variables": {},
   "exception": null,
   "input_path": "__notebook__.ipynb",
   "output_path": "__notebook__.ipynb",
   "parameters": {},
   "start_time": "2023-07-05T05:43:55.344000",
   "version": "2.4.0"
  }
 },
 "nbformat": 4,
 "nbformat_minor": 5
}
